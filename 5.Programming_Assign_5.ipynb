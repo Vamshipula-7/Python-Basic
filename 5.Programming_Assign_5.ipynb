{
 "cells": [
  {
   "cell_type": "markdown",
   "id": "a973944b-74cf-4e10-b46c-f2ecc6149edb",
   "metadata": {},
   "source": [
    "1. Write a Python Program to Find LCM?"
   ]
  },
  {
   "cell_type": "code",
   "execution_count": 6,
   "id": "ab9b719b-c1d8-4aee-bc0d-73bcfdab5a26",
   "metadata": {},
   "outputs": [
    {
     "name": "stdin",
     "output_type": "stream",
     "text": [
      "enter First number:  6\n",
      "Enter second number:  8\n"
     ]
    },
    {
     "name": "stdout",
     "output_type": "stream",
     "text": [
      "24\n"
     ]
    }
   ],
   "source": [
    "a=int(input(\"enter First number: \"))\n",
    "b=int(input(\"Enter second number: \"))\n",
    "\n",
    "if a>b:\n",
    "    max1=a\n",
    "else:\n",
    "    max1=b\n",
    "    \n",
    "while (True):\n",
    "    if(max1%a==0) and (max1%b==0):\n",
    "        lcm=max1\n",
    "        break\n",
    "    max1+=1\n",
    "print(lcm)\n",
    "    "
   ]
  },
  {
   "cell_type": "markdown",
   "id": "902e0ee7-9115-41fa-b3f7-ef7d131ca6ff",
   "metadata": {},
   "source": [
    "2. Write a Python Program to Find HCF?"
   ]
  },
  {
   "cell_type": "code",
   "execution_count": 7,
   "id": "dc776f4c-7f78-40f8-b0fe-101f5a2e88f1",
   "metadata": {},
   "outputs": [
    {
     "name": "stdin",
     "output_type": "stream",
     "text": [
      "enter First number:  16\n",
      "Enter second number:  20\n"
     ]
    },
    {
     "name": "stdout",
     "output_type": "stream",
     "text": [
      "4\n"
     ]
    }
   ],
   "source": [
    "a=int(input(\"enter First number: \"))\n",
    "b=int(input(\"Enter second number: \"))\n",
    "\n",
    "if a>b:\n",
    "    smaller=b\n",
    "else:\n",
    "    smaller=a\n",
    "\n",
    "for i in range(1,smaller+1):\n",
    "    if(a%i==0) and (b%i==0):\n",
    "        hcf=i\n",
    "print(hcf)"
   ]
  },
  {
   "cell_type": "markdown",
   "id": "c5a0b48f-f7b3-47c8-82a6-27db7ace81ca",
   "metadata": {},
   "source": [
    "3. Write a Python Program to Convert Decimal to Binary, Octal and Hexadecimal?"
   ]
  },
  {
   "cell_type": "code",
   "execution_count": 1,
   "id": "1bfd4993-c57e-4448-ae78-1f435c9594ce",
   "metadata": {},
   "outputs": [
    {
     "name": "stdin",
     "output_type": "stream",
     "text": [
      " 153\n"
     ]
    },
    {
     "name": "stdout",
     "output_type": "stream",
     "text": [
      "0b10011001\n",
      "0o231\n",
      "0x99\n"
     ]
    }
   ],
   "source": [
    "dec_value=int(input())\n",
    "\n",
    "print(bin(dec_value))\n",
    "print(oct(dec_value))\n",
    "print(hex(dec_value))"
   ]
  },
  {
   "cell_type": "markdown",
   "id": "bbf85f60-9d53-42d1-9b00-0d45d24b7bf6",
   "metadata": {},
   "source": [
    "4. Write a Python Program To Find ASCII value of a character?"
   ]
  },
  {
   "cell_type": "code",
   "execution_count": 2,
   "id": "229dee27-2ec8-4ff5-95fc-fb95381cd46d",
   "metadata": {},
   "outputs": [
    {
     "name": "stdout",
     "output_type": "stream",
     "text": [
      "The ASCII value of s is 115\n"
     ]
    }
   ],
   "source": [
    "alpha='s'\n",
    "print(f'The ASCII value of {alpha} is {ord(alpha)}')"
   ]
  },
  {
   "cell_type": "markdown",
   "id": "da0518c5-11e2-4810-bef6-9046c3fec026",
   "metadata": {},
   "source": [
    "5. Write a Python Program to Make a Simple Calculator with 4 basic mathematical operations?"
   ]
  },
  {
   "cell_type": "code",
   "execution_count": 14,
   "id": "c199c817-10a7-4181-b518-e83b115cdaf0",
   "metadata": {},
   "outputs": [
    {
     "name": "stdin",
     "output_type": "stream",
     "text": [
      "enter num1:  21\n",
      "enter num2:  21\n"
     ]
    },
    {
     "name": "stdout",
     "output_type": "stream",
     "text": [
      "1.add \n",
      "2.sub \n",
      "3.mul \n",
      "4.div\n"
     ]
    },
    {
     "name": "stdin",
     "output_type": "stream",
     "text": [
      "(select any choice: 1 or 2 or 3 or 4  1\n"
     ]
    },
    {
     "name": "stdout",
     "output_type": "stream",
     "text": [
      "answer;  42.0\n"
     ]
    },
    {
     "name": "stdin",
     "output_type": "stream",
     "text": [
      " next calculation:- (yes/no) no\n"
     ]
    }
   ],
   "source": [
    "def add(a,b):\n",
    "    return a+b\n",
    "def sub(a,b):\n",
    "    return a-b\n",
    "def mul(a,b):\n",
    "    return a*b\n",
    "def div(a,b):\n",
    "    return a/b\n",
    "\n",
    "while(1):\n",
    "    a=float(input(\"enter num1: \"))\n",
    "    b=float(input(\"enter num2: \"))\n",
    "    print(f'1.add \\n2.sub \\n3.mul \\n4.div')\n",
    "    select=int(input( \"(select any choice: 1 or 2 or 3 or 4 \"))\n",
    "    if (select==1):\n",
    "        result=add(a,b)\n",
    "        print(\"answer; \",result)\n",
    "    elif (select==2):\n",
    "        result=sub(a,b)\n",
    "        print(\"answer; \",result)\n",
    "    elif (select==3):\n",
    "        result=mul(a,b)\n",
    "        print(\"answer; \",result)\n",
    "    elif(select==4):\n",
    "        result=div(a,b)\n",
    "        print(\"answer; \",result)\n",
    "    else:\n",
    "        print(\"invalid\")\n",
    "    \n",
    "    next_calculation=input(\" next calculation:- (yes/no)\")\n",
    "    if next_calculation==\"no\":\n",
    "        break\n",
    "        "
   ]
  },
  {
   "cell_type": "code",
   "execution_count": null,
   "id": "cc4c491e-cd5e-404b-9061-3cd3b482a9de",
   "metadata": {},
   "outputs": [],
   "source": []
  }
 ],
 "metadata": {
  "kernelspec": {
   "display_name": "Python 3 (ipykernel)",
   "language": "python",
   "name": "python3"
  },
  "language_info": {
   "codemirror_mode": {
    "name": "ipython",
    "version": 3
   },
   "file_extension": ".py",
   "mimetype": "text/x-python",
   "name": "python",
   "nbconvert_exporter": "python",
   "pygments_lexer": "ipython3",
   "version": "3.10.6"
  }
 },
 "nbformat": 4,
 "nbformat_minor": 5
}
