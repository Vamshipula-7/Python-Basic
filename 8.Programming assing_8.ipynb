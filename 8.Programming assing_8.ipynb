{
 "cells": [
  {
   "cell_type": "markdown",
   "id": "4381f58d-ed9a-4244-84ae-0c0476e8fbb3",
   "metadata": {},
   "source": [
    "1. Write a Python Program to Add Two Matrices?"
   ]
  },
  {
   "cell_type": "code",
   "execution_count": 17,
   "id": "a996b2b1-af69-4e8a-9cfe-800f823d874d",
   "metadata": {},
   "outputs": [
    {
     "name": "stdout",
     "output_type": "stream",
     "text": [
      "[8, 8, 8]\n",
      "[10, 10, 10]\n",
      "[12, 12, 12]\n"
     ]
    }
   ],
   "source": [
    "x=[[7,4,1],\n",
    "   [8,5,2],\n",
    "   [9,6,3]]\n",
    "\n",
    "y=[[1,4,7],\n",
    "   [2,5,8],\n",
    "   [3,6,9]]\n",
    "\n",
    "result=[[0,0,0],\n",
    "        [0,0,0],\n",
    "        [0,0,0]]\n",
    "for i in range(len(x)):\n",
    "     for j in range(len(x[0])):\n",
    "                    result[i][j]=x[i][j]+y[i][j]\n",
    "for r in result:\n",
    "    print(r)\n"
   ]
  },
  {
   "cell_type": "markdown",
   "id": "11659cd1-0c47-4aa2-a032-26817dd7817f",
   "metadata": {},
   "source": [
    "2. Write a Python Program to Multiply Two Matrices?"
   ]
  },
  {
   "cell_type": "code",
   "execution_count": 20,
   "id": "c23d5e1f-ea6c-487a-9a67-1ebbc5956844",
   "metadata": {},
   "outputs": [
    {
     "name": "stdout",
     "output_type": "stream",
     "text": [
      "[7, 16, 7]\n",
      "[16, 25, 16]\n",
      "[27, 36, 27]\n"
     ]
    }
   ],
   "source": [
    "x=[[7,4,1],\n",
    "   [8,5,2],\n",
    "   [9,6,3]]\n",
    "\n",
    "y=[[1,4,7],\n",
    "   [2,5,8],\n",
    "   [3,6,9]]\n",
    "\n",
    "result=[[0,0,0],\n",
    "        [0,0,0],\n",
    "        [0,0,0]]\n",
    "    \n",
    "for i in range(len(x)):\n",
    "    for j in range(len(x[0])):\n",
    "        result[i][j]=x[i][j]*y[i][j]\n",
    "for r in result:\n",
    "    print(r)\n"
   ]
  },
  {
   "cell_type": "markdown",
   "id": "7acfe05e-d321-494d-8a77-11bdbbfe8fc2",
   "metadata": {},
   "source": [
    "3. Write a Python Program to Transpose a Matrix?"
   ]
  },
  {
   "cell_type": "code",
   "execution_count": 26,
   "id": "d48154cc-dfa2-4f5b-a8b7-8a5e2fbcc3bb",
   "metadata": {},
   "outputs": [
    {
     "name": "stdout",
     "output_type": "stream",
     "text": [
      "[7, 8, 9]\n",
      "[4, 5, 6]\n",
      "[1, 2, 3]\n"
     ]
    }
   ],
   "source": [
    "x=[[7,4,1],\n",
    "   [8,5,2],\n",
    "   [9,6,3]]\n",
    "\n",
    "\n",
    "result=[[0,0,0],\n",
    "        [0,0,0],\n",
    "        [0,0,0]]\n",
    "\n",
    "for i in range(len(x)):\n",
    "    for j in range(len(x[0])):\n",
    "        result[j][i]=x[i][j]\n",
    "        \n",
    "for r in result:\n",
    "    print(r)"
   ]
  },
  {
   "cell_type": "markdown",
   "id": "ff5ddd02-c818-4353-83c8-be5f7485dadf",
   "metadata": {},
   "source": [
    "4. Write a Python Program to Sort Words in Alphabetic Order?"
   ]
  },
  {
   "cell_type": "code",
   "execution_count": 9,
   "id": "7c9ec740-95cc-4264-9bf0-b1eaf43b2966",
   "metadata": {},
   "outputs": [
    {
     "name": "stdout",
     "output_type": "stream",
     "text": [
      "Data\n",
      "Future\n",
      "Scientist\n",
      "Vamshi\n",
      "a\n",
      "be\n",
      "going\n",
      "in\n",
      "is\n",
      "to\n"
     ]
    }
   ],
   "source": [
    "x=\"Vamshi is going to be a Data Scientist in Future\"\n",
    "words=x.split()\n",
    "words.sort()\n",
    "for i in words:\n",
    "    print(i)\n",
    "    \n",
    "\n"
   ]
  },
  {
   "cell_type": "markdown",
   "id": "bd552629-c8c5-4bc9-ae80-e20eb61c2387",
   "metadata": {},
   "source": [
    "5. Write a Python Program to Remove Punctuation From a String?"
   ]
  },
  {
   "cell_type": "code",
   "execution_count": 16,
   "id": "c92389a6-e76d-474b-bad9-ee8443a3dc0b",
   "metadata": {},
   "outputs": [
    {
     "name": "stdin",
     "output_type": "stream",
     "text": [
      " \"Hi !!!,Thsi is Vamshi!!\"\n"
     ]
    },
    {
     "name": "stdout",
     "output_type": "stream",
     "text": [
      " Hi Thsi is Vamshi\n"
     ]
    }
   ],
   "source": [
    "sen=input()\n",
    "punctuations='''!()-[]{};:'\"\\,<>./?@#$%^&*_~'''\n",
    "no_punc= \" \"\n",
    "for i in sen:\n",
    "    if i not in punctuations:\n",
    "        no_punc=no_punc+i\n",
    "    \n",
    "print(no_punc)"
   ]
  },
  {
   "cell_type": "code",
   "execution_count": null,
   "id": "00c44a9d-9888-4efc-95ca-3411ee37db55",
   "metadata": {},
   "outputs": [],
   "source": []
  }
 ],
 "metadata": {
  "kernelspec": {
   "display_name": "Python 3 (ipykernel)",
   "language": "python",
   "name": "python3"
  },
  "language_info": {
   "codemirror_mode": {
    "name": "ipython",
    "version": 3
   },
   "file_extension": ".py",
   "mimetype": "text/x-python",
   "name": "python",
   "nbconvert_exporter": "python",
   "pygments_lexer": "ipython3",
   "version": "3.10.6"
  }
 },
 "nbformat": 4,
 "nbformat_minor": 5
}
