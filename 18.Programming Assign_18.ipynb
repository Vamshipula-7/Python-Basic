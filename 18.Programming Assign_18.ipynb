{
 "cells": [
  {
   "cell_type": "raw",
   "id": "967a1839-014e-4430-ae1c-418520fbf120",
   "metadata": {},
   "source": [
    "Question 1\n",
    "Create a function that takes a list of non-negative integers and strings and return a new list\n",
    "without the strings."
   ]
  },
  {
   "cell_type": "code",
   "execution_count": 1,
   "id": "eff50974-b582-400c-951e-69ac534bf84d",
   "metadata": {},
   "outputs": [
    {
     "data": {
      "text/plain": [
       "[1, 2, 9, 5]"
      ]
     },
     "execution_count": 1,
     "metadata": {},
     "output_type": "execute_result"
    }
   ],
   "source": [
    "def non_negative(list1):\n",
    "    list2=[]\n",
    "    for i in list1:\n",
    "        if type(i)==int:\n",
    "            list2.append(i)\n",
    "    return list2\n",
    "\n",
    "list1=[1,2,\"a\",\"b\",9,5]\n",
    "non_negative(list1)\n",
    "            "
   ]
  },
  {
   "cell_type": "raw",
   "id": "a72ae48d-a363-45f2-8a94-2a35485871f1",
   "metadata": {},
   "source": [
    "The &quot;Reverser&quot; takes a string as input and returns that string in reverse order, with the\n",
    "opposite case.\n",
    "Examples\n",
    "reverse(&quot;Hello World&quot;) ➞ &quot;DLROw OLLEh&quot;\n",
    "reverse(&quot;ReVeRsE&quot;) ➞ &quot;eSrEvEr&quot;\n",
    "reverse(&quot;Radar&quot;) ➞ &quot;RADAr&quot;"
   ]
  },
  {
   "cell_type": "code",
   "execution_count": 8,
   "id": "7cf478f2-0336-4f49-b3a4-f9b722ac077a",
   "metadata": {},
   "outputs": [
    {
     "data": {
      "text/plain": [
       "'ihsmav'"
      ]
     },
     "execution_count": 8,
     "metadata": {},
     "output_type": "execute_result"
    }
   ],
   "source": [
    "def reverse(string):\n",
    "    n=len(string)\n",
    "    string=string[::-1]\n",
    "    return string\n",
    "string=\"vamshi\"\n",
    "reverse(string)"
   ]
  },
  {
   "cell_type": "raw",
   "id": "55f951a8-9ac4-4660-a669-e8394a816db4",
   "metadata": {},
   "source": [
    "Question 3\n",
    "You can assign variables from lists like this:\n",
    "lst = [1, 2, 3, 4, 5, 6]\n",
    "first = lst[0]\n",
    "middle = lst[1:-1]\n",
    "last = lst[-1]\n",
    "print(first) ➞ outputs 1\n",
    "print(middle) ➞ outputs [2, 3, 4, 5]\n",
    "print(last) ➞ outputs 6"
   ]
  },
  {
   "cell_type": "code",
   "execution_count": 11,
   "id": "3ec94b20-5a40-4acb-968d-3e88f0ef97b8",
   "metadata": {},
   "outputs": [
    {
     "name": "stdout",
     "output_type": "stream",
     "text": [
      "1\n",
      "[2, 3, 4, 5]\n",
      "6\n"
     ]
    }
   ],
   "source": [
    "def lst(list1):\n",
    "    first=list1[0]\n",
    "    middle=list1[1:5]\n",
    "    last=list1[-1]\n",
    "    print(first)\n",
    "    print(middle)\n",
    "    print(last)\n",
    "    return\n",
    "\n",
    "lst([1, 2, 3, 4, 5, 6])"
   ]
  },
  {
   "cell_type": "raw",
   "id": "741c9af1-a3ba-4211-8848-614c97b5fc5e",
   "metadata": {},
   "source": [
    "Question-4\n",
    "Write a function that calculates the factorial of a number recursively.\n",
    "Examples\n",
    "factorial(5) ➞ 120\n",
    "factorial(3) ➞ 6\n",
    "factorial(1) ➞ 1\n",
    "factorial(0) ➞ 1"
   ]
  },
  {
   "cell_type": "code",
   "execution_count": 22,
   "id": "85bdef57-be4c-4b0f-9087-1cf7ba15b295",
   "metadata": {},
   "outputs": [
    {
     "data": {
      "text/plain": [
       "720"
      ]
     },
     "execution_count": 22,
     "metadata": {},
     "output_type": "execute_result"
    }
   ],
   "source": [
    "def Fact(n):\n",
    "    fact=1\n",
    "    temp=n\n",
    "    while n>0:\n",
    "        fact*=n\n",
    "        n-=1\n",
    "    return fact\n",
    "Fact(6)\n",
    "        "
   ]
  },
  {
   "cell_type": "raw",
   "id": "4c8d5b3d-df3c-4c13-b20c-d59b551bbd3b",
   "metadata": {},
   "source": [
    "Question 5\n",
    "Write a function that moves all elements of one type to the end of the list.\n",
    "Examples\n",
    "move_to_end([1, 3, 2, 4, 4, 1], 1) ➞ [3, 2, 4, 4, 1, 1]\n",
    "# Move all the 1s to the end of the array.\n",
    "move_to_end([7, 8, 9, 1, 2, 3, 4], 9) ➞ [7, 8, 1, 2, 3, 4, 9]\n",
    "move_to_end([&quot;a&quot;, &quot;a&quot;, &quot;a&quot;, &quot;b&quot;], &quot;a&quot;) ➞ [&quot;b&quot;, &quot;a&quot;, &quot;a&quot;, &quot;a&quot;]"
   ]
  },
  {
   "cell_type": "code",
   "execution_count": null,
   "id": "7bd7ae39-43ea-4e97-8320-d6f4c503a8b6",
   "metadata": {},
   "outputs": [],
   "source": [
    "def to_move(array,k):\n",
    "    move=movetoend(array,k)\n",
    "    for i in range(array):\n",
    "        "
   ]
  },
  {
   "cell_type": "code",
   "execution_count": 15,
   "id": "80470c25-b85a-4f51-a403-d59094c7ad88",
   "metadata": {},
   "outputs": [
    {
     "data": {
      "text/plain": [
       "['c', 'b', 'a', 'a', 'a', 'a']"
      ]
     },
     "execution_count": 15,
     "metadata": {},
     "output_type": "execute_result"
    }
   ],
   "source": [
    "def arrymove(arr,k):\n",
    "    j=len(arr)-1\n",
    "    i = 0\n",
    "    while(i<j):\n",
    "       #coming from back\n",
    "        while(i<j and arr[j]==k):\n",
    "            j-=1\n",
    "        #going from front\n",
    "        if arr[i]==k:\n",
    "            arr[i],arr[j]=arr[j],arr[i]\n",
    "        i+=1\n",
    "    return arr\n",
    "arr= [\"a\",\"a\",\"a\",\"b\",\"c\",\"a\"]\n",
    "k=\"a\"\n",
    "arrymove(arr,k)\n",
    "\n"
   ]
  }
 ],
 "metadata": {
  "kernelspec": {
   "display_name": "Python 3 (ipykernel)",
   "language": "python",
   "name": "python3"
  },
  "language_info": {
   "codemirror_mode": {
    "name": "ipython",
    "version": 3
   },
   "file_extension": ".py",
   "mimetype": "text/x-python",
   "name": "python",
   "nbconvert_exporter": "python",
   "pygments_lexer": "ipython3",
   "version": "3.10.6"
  }
 },
 "nbformat": 4,
 "nbformat_minor": 5
}
