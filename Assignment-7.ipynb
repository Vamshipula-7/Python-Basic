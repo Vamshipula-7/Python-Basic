{
 "cells": [
  {
   "cell_type": "markdown",
   "id": "c39686a6-3f96-4dea-ab23-74211c2f2dcf",
   "metadata": {},
   "source": [
    "1. What is the name of the feature responsible for generating Regex objects?"
   ]
  },
  {
   "cell_type": "raw",
   "id": "52ba556f-8996-4f27-9f24-7c96bed9dee7",
   "metadata": {},
   "source": [
    "re.compile() function\n"
   ]
  },
  {
   "cell_type": "markdown",
   "id": "4a242e32-3608-4196-8c8a-0863454acbfb",
   "metadata": {},
   "source": [
    "2. Why do raw strings often appear in Regex objects?"
   ]
  },
  {
   "cell_type": "raw",
   "id": "fe10705c-20af-417b-a22a-9e59f5785e1b",
   "metadata": {},
   "source": [
    "Raw strings used so that Backslashes do not have to be escaped"
   ]
  },
  {
   "cell_type": "markdown",
   "id": "32466a1d-422d-442e-ac84-67191522b59e",
   "metadata": {},
   "source": [
    "3. What is the return value of the search() method?"
   ]
  },
  {
   "cell_type": "code",
   "execution_count": 14,
   "id": "22d3978d-a6b8-4db1-b705-fd4828cb0704",
   "metadata": {},
   "outputs": [
    {
     "data": {
      "text/plain": [
       "<re.Match object; span=(30, 34), match='pula'>"
      ]
     },
     "execution_count": 14,
     "metadata": {},
     "output_type": "execute_result"
    }
   ],
   "source": [
    "# It returns a match object if found,if not found ,it returns none\n",
    "import re\n",
    "line = \"\"\" Hi My name is vamshi krishna pula\"\"\"\n",
    "firstmatch = re.search(pattern = \"pula\",\n",
    "                       string = line)\n",
    "firstmatch"
   ]
  },
  {
   "cell_type": "markdown",
   "id": "5447abc3-708a-47f7-b119-2691ded59faa",
   "metadata": {},
   "source": [
    "4. From a Match item, how do you get the actual strings that match the pattern?"
   ]
  },
  {
   "cell_type": "code",
   "execution_count": 5,
   "id": "ac1209b0-34a4-48ab-970c-cac7083cdb24",
   "metadata": {},
   "outputs": [],
   "source": [
    "# We use group() method to match the pattern\n",
    "import re\n",
    "status=\"\"\"Hi Iam Using Whatsup,\n",
    "        My number - 8309861246\"\"\"\n"
   ]
  },
  {
   "cell_type": "code",
   "execution_count": 8,
   "id": "ae72f558-76fb-4c43-bb02-52fbea150580",
   "metadata": {},
   "outputs": [
    {
     "data": {
      "text/plain": [
       "<re.Match object; span=(42, 52), match='8309861246'>"
      ]
     },
     "execution_count": 8,
     "metadata": {},
     "output_type": "execute_result"
    }
   ],
   "source": [
    "First_match=re.search(pattern = \"[0-9]+\",\n",
    "                       string = status)\n",
    "First_match"
   ]
  },
  {
   "cell_type": "code",
   "execution_count": 9,
   "id": "2325cf63-4fe1-483f-a62d-9844ea26eef5",
   "metadata": {},
   "outputs": [
    {
     "data": {
      "text/plain": [
       "'8309861246'"
      ]
     },
     "execution_count": 9,
     "metadata": {},
     "output_type": "execute_result"
    }
   ],
   "source": [
    "First_match.group()"
   ]
  },
  {
   "cell_type": "markdown",
   "id": "8f88e40b-5e2f-4c0a-9d22-944e3329a6ab",
   "metadata": {},
   "source": [
    "5. In the regex which created from the r&#39;(\\d\\d\\d)-(\\d\\d\\d-\\d\\d\\d\\d)&#39;, what does group zero cover?\n",
    "Group 2? Group 1?"
   ]
  },
  {
   "cell_type": "raw",
   "id": "ebfc9fdb-a8db-4738-b4c7-6be6ae08ab4f",
   "metadata": {},
   "source": [
    "Group 0 is the entire match\n",
    "Group 1 covers first set of paranthesis\n",
    "Group 2 covers second set of paranthesis"
   ]
  },
  {
   "cell_type": "markdown",
   "id": "bf87e0f9-a97e-44cb-b7a1-986558b17c75",
   "metadata": {},
   "source": [
    "6. In standard expression syntax, parentheses and intervals have distinct meanings. How can you tell\n",
    "a regex that you want it to fit real parentheses and periods?"
   ]
  },
  {
   "cell_type": "raw",
   "id": "79bcb487-9ed3-429d-8256-c20c7fc2fd7d",
   "metadata": {},
   "source": [
    "Paranthesis can be Escaped with a backslash = \\(,and\\).\n",
    "periods can be Escaped with a backslash = \\.,"
   ]
  },
  {
   "cell_type": "markdown",
   "id": "2aa04ee9-66c5-4fce-9d91-ec8a89a22a5f",
   "metadata": {},
   "source": [
    "7. The findall() method returns a string list or a list of string tuples. What causes it to return one of\n",
    "the two options?"
   ]
  },
  {
   "cell_type": "raw",
   "id": "6aa9c10c-cf04-4108-bf07-0a77be7f5fc4",
   "metadata": {},
   "source": [
    "if the regex has no groups - it returns list of Strings\n",
    "if the regex has groups - it returns list of string tuples"
   ]
  },
  {
   "cell_type": "markdown",
   "id": "ab53ee35-7367-4c46-8743-01c1641fcf5c",
   "metadata": {},
   "source": [
    "8. In standard expressions, what does the | character mean?"
   ]
  },
  {
   "cell_type": "raw",
   "id": "f647e6bf-3d01-4a7a-8daa-dedf5ee979c3",
   "metadata": {},
   "source": [
    "it defines \" OR \""
   ]
  },
  {
   "cell_type": "markdown",
   "id": "8646bd1b-0425-48a5-a8ed-7e25bebbbf30",
   "metadata": {},
   "source": [
    "9. In regular expressions, what does the character stand for?"
   ]
  },
  {
   "cell_type": "raw",
   "id": "ed242620-19db-4890-aac8-66154cb2841d",
   "metadata": {},
   "source": [
    "match zero or one of the preceding group "
   ]
  },
  {
   "cell_type": "markdown",
   "id": "f4e7598f-4555-4a81-b000-b92e099c3b9f",
   "metadata": {},
   "source": [
    "10.In regular expressions, what is the difference between the + and * characters?"
   ]
  },
  {
   "cell_type": "raw",
   "id": "2538b140-d6aa-4bd2-855c-d0cfc39033d9",
   "metadata": {},
   "source": [
    "The + matches one or more. The * matches zero or more."
   ]
  },
  {
   "cell_type": "markdown",
   "id": "6e5ca950-18f0-4407-a8bf-0fd33e787bd8",
   "metadata": {},
   "source": [
    "11. What is the difference between {4} and {4,5} in regular expression?"
   ]
  },
  {
   "cell_type": "raw",
   "id": "74452a5a-3640-433c-b15b-21ce7e543a72",
   "metadata": {},
   "source": [
    "The {3} matches exactly three instances of the preceding group. The {3,5} matches between three and five instances."
   ]
  },
  {
   "cell_type": "markdown",
   "id": "3507572e-489a-4cdf-9cfd-f86b57a3bd76",
   "metadata": {},
   "source": [
    "12. What do you mean by the \\d, \\w, and \\s shorthand character classes signify in regular\n",
    "expressions?"
   ]
  },
  {
   "cell_type": "raw",
   "id": "fa18224c-337b-4226-a829-e0d3b7d1cddc",
   "metadata": {},
   "source": [
    "The \\d, \\w, and \\s shorthand character classes match a single digit, word, or space character, respectively."
   ]
  },
  {
   "cell_type": "markdown",
   "id": "b9405514-27e8-4279-a997-0787945b23e8",
   "metadata": {},
   "source": [
    "13. What do means by \\D, \\W, and \\S shorthand character classes signify in regular expressions?"
   ]
  },
  {
   "cell_type": "raw",
   "id": "a09899d1-bb58-4390-adba-42e552663918",
   "metadata": {},
   "source": [
    "The \\D, \\W, and \\S shorthand character classes match a single character that is not a digit, word, or space character, respectively."
   ]
  },
  {
   "cell_type": "markdown",
   "id": "1c5337ed-4577-4dcb-9167-30ace839d413",
   "metadata": {},
   "source": [
    "14. What is the difference between .*? and .*?"
   ]
  },
  {
   "cell_type": "raw",
   "id": "7057ab56-b04a-4a0c-b0f6-73d552a6a2c3",
   "metadata": {},
   "source": [
    "---->(.*?) matches any character (.) any number of times (*), as few times as possible to make the regex match (?).\n",
    "---->(.*)? captures a group zero or one times (?). That group consists of a run of any length (*) of any character (.)."
   ]
  },
  {
   "cell_type": "markdown",
   "id": "5a6a3b48-640d-4a76-98b1-7d468ec511a9",
   "metadata": {},
   "source": [
    "15. What is the syntax for matching both numbers and lowercase letters with a character class?"
   ]
  },
  {
   "cell_type": "raw",
   "id": "ffbc2688-4507-4094-9e9c-f9ea5ebb6ba7",
   "metadata": {},
   "source": [
    " [a-z0-9]"
   ]
  },
  {
   "cell_type": "markdown",
   "id": "08ed3230-4ce2-4021-8c56-2e5bb68e82d6",
   "metadata": {},
   "source": [
    "16. What is the procedure for making a normal expression in regax case insensitive?"
   ]
  },
  {
   "cell_type": "raw",
   "id": "736a56b7-757e-4b4b-86b6-3416526b409e",
   "metadata": {},
   "source": [
    "re.compile(\"Someting\",re.IGNORECASE)\n"
   ]
  },
  {
   "cell_type": "markdown",
   "id": "40454818-12ad-436b-8408-c6ef121c8b39",
   "metadata": {},
   "source": [
    "17. What does the . character normally match? What does it match if re.DOTALL is passed as 2nd\n",
    "argument in re.compile()?"
   ]
  },
  {
   "cell_type": "markdown",
   "id": "b55b6a88-e09f-4d6f-ad84-46568d827c30",
   "metadata": {},
   "source": [
    ". will also match new line characters"
   ]
  },
  {
   "cell_type": "markdown",
   "id": "a2613e0f-fafc-48a7-9698-80f356c03e85",
   "metadata": {},
   "source": [
    "18. If numReg = re.compile(r&#39;\\d+&#39;), what will numRegex.sub(&#39;X&#39;, &#39;11 drummers, 10 pipers, five rings, 4\n",
    "hen&#39;) return?"
   ]
  },
  {
   "cell_type": "raw",
   "id": "65c72f0d-6989-4d46-b8ac-fdf4fb680d30",
   "metadata": {},
   "source": [
    "'X drummers, X pipers, five rings, X hens'"
   ]
  },
  {
   "cell_type": "markdown",
   "id": "f8fb66b7-e22b-4849-831d-0fc8f9e2eedf",
   "metadata": {},
   "source": [
    "19. What does passing re.VERBOSE as the 2nd argument to re.compile() allow to do?"
   ]
  },
  {
   "cell_type": "raw",
   "id": "472b0083-f184-4050-aaa5-f7a19fec58cc",
   "metadata": {},
   "source": [
    "The re.VERBOSE argument allows you to add whitespace and comments to the string passed to re.compile()."
   ]
  },
  {
   "cell_type": "markdown",
   "id": "cfa04b2c-42ae-406c-8c62-2858ddf32d98",
   "metadata": {},
   "source": [
    "20. How would you write a regex that match a number with comma for every three digits? It must\n",
    "match the given following:\n",
    "&#39;42&#39;\n",
    "&#39;1,234&#39;\n",
    "&#39;6,368,745&#39;"
   ]
  },
  {
   "cell_type": "raw",
   "id": "656d529a-f8db-4c6d-a76e-7291096a0285",
   "metadata": {},
   "source": [
    "re.compile(r'^\\d{1,3}(,\\d{3})*$') "
   ]
  },
  {
   "cell_type": "markdown",
   "id": "1d6a10cb-fc64-49d8-bf21-0bb6d91ad529",
   "metadata": {},
   "source": [
    "21. How would you write a regex that matches the full name of someone whose last name is\n",
    "Watanabe? You can assume that the first name that comes before it will always be one word that\n",
    "begins with a capital letter. The regex must match the following:\n",
    "&#39;Haruto Watanabe&#39;\n",
    "&#39;Alice Watanabe&#39;\n",
    "&#39;RoboCop Watanabe&#39;\n",
    "but not the following:\n",
    "&#39;haruto Watanabe&#39; (where the first name is not capitalized)\n",
    "&#39;Mr. Watanabe&#39; (where the preceding word has a nonletter character)\n",
    "&#39;Watanabe&#39; (which has no first name)\n",
    "&#39;Haruto watanabe&#39; (where Watanabe is not capitalized)"
   ]
  },
  {
   "cell_type": "raw",
   "id": "e2b64858-d66e-40a1-8473-64d7313f26fe",
   "metadata": {},
   "source": [
    "re.compile(r'[A-Z][a-z]*\\sNakamoto')"
   ]
  },
  {
   "cell_type": "markdown",
   "id": "0ddcdda2-e80f-4714-b9ec-597dfc4af743",
   "metadata": {},
   "source": [
    "22. How would you write a regex that matches a sentence where the first word is either Alice, Bob,\n",
    "or Carol; the second word is either eats, pets, or throws; the third word is apples, cats, or baseballs;\n",
    "and the sentence ends with a period? This regex should be case-insensitive. It must match the\n",
    "following:\n",
    "&#39;Alice eats apples.&#39;\n",
    "&#39;Bob pets cats.&#39;\n",
    "&#39;Carol throws baseballs.&#39;\n",
    "&#39;Alice throws Apples.&#39;\n",
    "&#39;BOB EATS CATS.&#39;\n",
    "but not the following:\n",
    "&#39;RoboCop eats apples.&#39;\n",
    "&#39;ALICE THROWS FOOTBALLS.&#39;\n",
    "&#39;Carol eats 7 cats.&#39;"
   ]
  },
  {
   "cell_type": "raw",
   "id": "0fad7e16-1cc4-49da-b640-36f57f1dec00",
   "metadata": {},
   "source": [
    "re.compile(r'(Alice|Bob|Carol)\\s(eats|pets|throws)\\s(apples|cats|baseballs)\\.', re.IGNORECASE)"
   ]
  }
 ],
 "metadata": {
  "kernelspec": {
   "display_name": "Python 3 (ipykernel)",
   "language": "python",
   "name": "python3"
  },
  "language_info": {
   "codemirror_mode": {
    "name": "ipython",
    "version": 3
   },
   "file_extension": ".py",
   "mimetype": "text/x-python",
   "name": "python",
   "nbconvert_exporter": "python",
   "pygments_lexer": "ipython3",
   "version": "3.10.6"
  }
 },
 "nbformat": 4,
 "nbformat_minor": 5
}
