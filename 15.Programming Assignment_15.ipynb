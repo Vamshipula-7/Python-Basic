{
 "cells": [
  {
   "cell_type": "raw",
   "id": "50bec1ca-c6be-4f88-87df-645ba5c73cc4",
   "metadata": {},
   "source": [
    "1.Please write a program using generator to print the numbers which can be divisible by 5 and\n",
    "7 between 0 and n in comma separated form while n is input by console."
   ]
  },
  {
   "cell_type": "code",
   "execution_count": 33,
   "id": "de142f89-5e53-4c6b-9d5d-dc4d8e0de765",
   "metadata": {},
   "outputs": [
    {
     "name": "stdin",
     "output_type": "stream",
     "text": [
      "enter n value:  100\n"
     ]
    },
    {
     "name": "stdout",
     "output_type": "stream",
     "text": [
      "[0, 35, 70]\n"
     ]
    }
   ],
   "source": [
    "def Div(n):\n",
    "    list1=[]\n",
    "    for i in range(0,n+1):\n",
    "        if i%5==0 and i%7==0:\n",
    "            list1.append(i)\n",
    "    yield list1\n",
    "\n",
    "n=int(input(\"enter n value: \"))\n",
    "for j in Div(n):\n",
    "    print((j))\n",
    "       "
   ]
  },
  {
   "cell_type": "raw",
   "id": "f9407137-6870-4916-b297-ad018af2ce92",
   "metadata": {},
   "source": [
    "2.Please write a program using generator to print the even numbers between 0 and n in comma\n",
    "separated form while n is input by console."
   ]
  },
  {
   "cell_type": "code",
   "execution_count": 36,
   "id": "b188fdaa-2085-4b86-8800-45be6510c972",
   "metadata": {},
   "outputs": [
    {
     "name": "stdin",
     "output_type": "stream",
     "text": [
      " 40\n"
     ]
    },
    {
     "name": "stdout",
     "output_type": "stream",
     "text": [
      "[0, 2, 4, 6, 8, 10, 12, 14, 16, 18, 20, 22, 24, 26, 28, 30, 32, 34, 36, 38, 40]\n"
     ]
    }
   ],
   "source": [
    "def even(Number):\n",
    "    list1=[]\n",
    "    for i in range(0,Number+1):\n",
    "        if i%2==0:\n",
    "            list1.append(i)\n",
    "    yield list1\n",
    "Number=int(input())\n",
    "for j in even(Number):\n",
    "    print(j)"
   ]
  },
  {
   "cell_type": "raw",
   "id": "d68f0069-8bc8-4cd3-823f-741449a85d96",
   "metadata": {},
   "source": [
    "3.The Fibonacci Sequence is computed based on the following formula:\n",
    "f(n)=0 if n=0\n",
    "f(n)=1 if n=1\n",
    "f(n)=f(n-1)+f(n-2) if n&gt;1\n",
    "Please write a program using list comprehension to print the Fibonacci Sequence in comma\n",
    "separated form with a given n input by console.\n",
    "Example:\n",
    "If the following n is given as input to the program:\n",
    "7\n",
    "\n",
    "Then, the output of the program should be:\n",
    "0,1,1,2,3,5,8,13"
   ]
  },
  {
   "cell_type": "code",
   "execution_count": 2,
   "id": "c6146fd0-8ad4-4e05-901c-d7be4931b20b",
   "metadata": {},
   "outputs": [
    {
     "name": "stdout",
     "output_type": "stream",
     "text": [
      "0\n",
      "1\n",
      "1\n",
      "2\n",
      "3\n",
      "5\n",
      "8\n",
      "13\n"
     ]
    }
   ],
   "source": [
    "def Fibo(n):\n",
    "    list1=[]\n",
    "    n1=0\n",
    "    n2=1\n",
    "    count=0\n",
    "    if n<=0:\n",
    "        print(n1)\n",
    "    elif n==0:\n",
    "        print(n2)\n",
    "    else:\n",
    "        while count<n+1:\n",
    "            print(n1)\n",
    "            n3=n1+n2\n",
    "            n1=n2\n",
    "            n2=n3\n",
    "            count+=1\n",
    "    return \n",
    "Fibo(7)"
   ]
  },
  {
   "cell_type": "raw",
   "id": "c46fc0c3-5c89-4a17-8da9-514eff3384f7",
   "metadata": {},
   "source": [
    "4.Assuming that we have some email addresses in the &quot;username@companyname.com&quot; format,\n",
    "please write program to print the user name of a given email address. Both user names and\n",
    "company names are composed of letters only.\n",
    "Example:\n",
    "If the following email address is given as input to the program:\n",
    "john@google.com\n",
    "Then, the output of the program should be:\n",
    "john"
   ]
  },
  {
   "cell_type": "code",
   "execution_count": 23,
   "id": "9d890ef2-adf9-4fc8-b808-80c2f72ecd7b",
   "metadata": {},
   "outputs": [
    {
     "name": "stdin",
     "output_type": "stream",
     "text": [
      " vamshepula@gmail.com\n"
     ]
    },
    {
     "name": "stdout",
     "output_type": "stream",
     "text": [
      "vamshepula\n"
     ]
    }
   ],
   "source": [
    "import re\n",
    "emailAddress = input()\n",
    "pat2 = \"(\\w+)@(\\w+)\\.(com)\"\n",
    "r2 = re.match(pat2,emailAddress)\n",
    "print (r2.group(1))"
   ]
  },
  {
   "cell_type": "code",
   "execution_count": 28,
   "id": "098f65a4-f9c4-4358-a70c-4ea5e35f6ce9",
   "metadata": {},
   "outputs": [
    {
     "name": "stdout",
     "output_type": "stream",
     "text": [
      "vamshepula\n"
     ]
    }
   ],
   "source": [
    "email = \"vamshepula@gamil.com\"\n",
    "e=email.split(\"@\")\n",
    "print(e[0])"
   ]
  },
  {
   "cell_type": "raw",
   "id": "b5bc8437-1272-48a7-b5cf-00603c7c866e",
   "metadata": {},
   "source": [
    "5.Define a class named Shape and its subclass Square. The Square class has an init function\n",
    "which takes a length as argument. Both classes have a area function which can print the area\n",
    "of the shape where Shape&#39;s area is 0 by default."
   ]
  },
  {
   "cell_type": "code",
   "execution_count": 29,
   "id": "b6297fff-d783-4304-a5d3-391d56a2296d",
   "metadata": {},
   "outputs": [
    {
     "data": {
      "text/plain": [
       "25"
      ]
     },
     "execution_count": 29,
     "metadata": {},
     "output_type": "execute_result"
    }
   ],
   "source": [
    "class Shape:\n",
    "    def __init__(self):\n",
    "        pass\n",
    "    def area(self):\n",
    "        print(0)\n",
    "class Square(Shape):\n",
    "    def __init__(self,length):\n",
    "        self.length=length\n",
    "    def area(self):\n",
    "        return self.length*self.length\n",
    "\n",
    "a=Square(5)\n",
    "a.area()\n",
    "        "
   ]
  },
  {
   "cell_type": "code",
   "execution_count": null,
   "id": "87949cba-ab83-4926-a91f-6890ad45b22f",
   "metadata": {},
   "outputs": [],
   "source": []
  }
 ],
 "metadata": {
  "kernelspec": {
   "display_name": "Python 3 (ipykernel)",
   "language": "python",
   "name": "python3"
  },
  "language_info": {
   "codemirror_mode": {
    "name": "ipython",
    "version": 3
   },
   "file_extension": ".py",
   "mimetype": "text/x-python",
   "name": "python",
   "nbconvert_exporter": "python",
   "pygments_lexer": "ipython3",
   "version": "3.10.6"
  }
 },
 "nbformat": 4,
 "nbformat_minor": 5
}
