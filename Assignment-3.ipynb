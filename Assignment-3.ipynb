{
 "cells": [
  {
   "cell_type": "raw",
   "id": "13f3ac34",
   "metadata": {},
   "source": [
    "1. Why are functions advantageous to have in your programs?\n",
    "  1.Reducing dupilicate code within a program \n",
    "  2.Reuse of the code across multiple codes \n",
    "  3.functions makes programs Shorter, Easier to read and Easier to Upload"
   ]
  },
  {
   "cell_type": "raw",
   "id": "93605f87",
   "metadata": {},
   "source": [
    "2. When does the code in a function run: when its specified or when its called?\n",
    "\n",
    " The code in the function excutes When the function is called"
   ]
  },
  {
   "cell_type": "raw",
   "id": "e434218b",
   "metadata": {},
   "source": [
    "3.What statement creates a function?\n",
    "\n",
    " Def statement creates a function"
   ]
  },
  {
   "cell_type": "raw",
   "id": "d83329f2",
   "metadata": {},
   "source": [
    "4.What is the difference between a function and a function call?\n",
    "\n",
    "Function:\n",
    "A function is a block of code that does a particular operation and returns a result. \n",
    "It usually accepts inputs as parameters and returns a result.\n",
    "Ex:\n",
    "def add(a,b)\n",
    "return a + b\n",
    "\n",
    "\n",
    "Function call:\n",
    "A function call is the code used to pass control to a function.\n",
    "Ex:\n",
    "b = add(5,6)\n",
    "\n"
   ]
  },
  {
   "cell_type": "raw",
   "id": "a1e61944",
   "metadata": {},
   "source": [
    "5. How many global scopes are there in a Python program? How many local scopes?\n",
    "\n",
    "At any given time during execution, you'll have at most four active Python scopes—local, enclosing, global, and built-in—depending on where you are in the code. On the other hand, you'll always have at least two active scopes, which are the global and built-in scopes.\n",
    "\n",
    "Global Scope: \n",
    "Theres only one global scope per program execution.\n",
    "\n"
   ]
  },
  {
   "cell_type": "raw",
   "id": "9702c36a",
   "metadata": {},
   "source": [
    "6. What happens to variables in a local scope when the function call returns?\n",
    "\n",
    " The Local Variables are Destroyed\n"
   ]
  },
  {
   "cell_type": "raw",
   "id": "7472438e",
   "metadata": {},
   "source": [
    "7. What is the concept of a return value? Is it possible to have a return value in an expression?\n",
    "\n",
    "A return is a value that a function returns to the calling function when it completes its task.\n",
    "A return value can be any one of the four variable types: handle, integer, object, or string."
   ]
  },
  {
   "cell_type": "raw",
   "id": "4057f77a",
   "metadata": {},
   "source": [
    "8. If a function does not have a return statement, what is the return value of a call to that function?\n",
    "\n",
    "If a function does not have a return statement,the return value of the called function is Undefined"
   ]
  },
  {
   "cell_type": "raw",
   "id": "47d857b3",
   "metadata": {},
   "source": [
    "9. How do you make a function variable refer to the global variable?\n",
    "\n",
    "By using Global Keyword  we can make a function variable refer to the Global variable"
   ]
  },
  {
   "cell_type": "raw",
   "id": "273ad028",
   "metadata": {},
   "source": [
    "10. What is the data type of None?\n",
    "\n",
    "None is used to define a null value or Null object in Python. It is not the same as an empty string, False, or a zero. It is a data type of the class NoneType object."
   ]
  },
  {
   "cell_type": "raw",
   "id": "a1bc7a06",
   "metadata": {},
   "source": [
    "11. What does the sentence import areallyourpetsnamederic do?\n",
    "\n",
    "That import statement imports a module named areallyourpetsnamederic."
   ]
  },
  {
   "cell_type": "raw",
   "id": "621d0314",
   "metadata": {},
   "source": [
    "12. If you had a bacon() feature in a spam module, what would you call it after importing spam?\n",
    "\n",
    "This function can be called with spam. bacon()"
   ]
  },
  {
   "cell_type": "raw",
   "id": "ad66d79d",
   "metadata": {},
   "source": [
    "13. What can you do to save a programme from crashing if it encounters an error?\n",
    "\n",
    "This is done by writing additional code in a program to give proper messages or instructions to the user on encountering an exception. This process is known as exception handling."
   ]
  },
  {
   "cell_type": "raw",
   "id": "aa951ae9",
   "metadata": {},
   "source": [
    "14. What is the purpose of the try clause? What is the purpose of the except clause?\n",
    "\n",
    "The try block lets you test a block of code for errors.\n",
    "The except block lets you handle the error."
   ]
  }
 ],
 "metadata": {
  "kernelspec": {
   "display_name": "Python 3 (ipykernel)",
   "language": "python",
   "name": "python3"
  },
  "language_info": {
   "codemirror_mode": {
    "name": "ipython",
    "version": 3
   },
   "file_extension": ".py",
   "mimetype": "text/x-python",
   "name": "python",
   "nbconvert_exporter": "python",
   "pygments_lexer": "ipython3",
   "version": "3.9.12"
  }
 },
 "nbformat": 4,
 "nbformat_minor": 5
}
