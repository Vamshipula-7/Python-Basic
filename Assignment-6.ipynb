{
 "cells": [
  {
   "cell_type": "markdown",
   "id": "5243282e-bd15-4693-a721-004fd5e31bd4",
   "metadata": {},
   "source": [
    "1. What are escape characters, and how do you use them?"
   ]
  },
  {
   "cell_type": "code",
   "execution_count": 1,
   "id": "66f97b4a-7698-41d0-adea-4a7dcd905f05",
   "metadata": {},
   "outputs": [
    {
     "ename": "SyntaxError",
     "evalue": "invalid syntax. Perhaps you forgot a comma? (2213105235.py, line 2)",
     "output_type": "error",
     "traceback": [
      "\u001b[0;36m  Cell \u001b[0;32mIn [1], line 2\u001b[0;36m\u001b[0m\n\u001b[0;31m    print(\"Sachin \"Ramesh\" Tendulkar\")\u001b[0m\n\u001b[0m          ^\u001b[0m\n\u001b[0;31mSyntaxError\u001b[0m\u001b[0;31m:\u001b[0m invalid syntax. Perhaps you forgot a comma?\n"
     ]
    }
   ],
   "source": [
    "# escape characters enables us to code different characyters into code\n",
    "print(\"Sachin \"Ramesh\" Tendulkar\")"
   ]
  },
  {
   "cell_type": "code",
   "execution_count": 1,
   "id": "eadb82dd-8bdc-4708-80d7-988f5a4a9c4c",
   "metadata": {},
   "outputs": [
    {
     "name": "stdout",
     "output_type": "stream",
     "text": [
      "Sachin \"Ramesh\" Tendulkar\n"
     ]
    }
   ],
   "source": [
    "# Im unable to print this\n",
    "# By using Escape characters we can print this(backslash)\n",
    "print(\"Sachin \\\"Ramesh\\\" Tendulkar\")"
   ]
  },
  {
   "cell_type": "markdown",
   "id": "ae964fbe-907a-46ec-96cf-4c07914a0d5f",
   "metadata": {},
   "source": [
    "2. What do the escape characters n and t stand for?"
   ]
  },
  {
   "cell_type": "code",
   "execution_count": 2,
   "id": "1a690ffd-c353-413e-9a24-7e97d1312a49",
   "metadata": {},
   "outputs": [
    {
     "name": "stdout",
     "output_type": "stream",
     "text": [
      "Hi this is vamshi.\n",
      "Iam from Masaipet.\tI work in TCS\n"
     ]
    }
   ],
   "source": [
    "# \\n is a new line\n",
    "# \\t is tab\n",
    "print(\"Hi this is vamshi.\\nIam from Masaipet.\\tI work in TCS\")"
   ]
  },
  {
   "cell_type": "markdown",
   "id": "17d75b44-3e96-44c0-8781-29a559236214",
   "metadata": {},
   "source": [
    "3. What is the way to include backslash characters in a string?"
   ]
  },
  {
   "cell_type": "code",
   "execution_count": 3,
   "id": "4971c51c-cf61-4f99-ad5a-4b334245e6ad",
   "metadata": {},
   "outputs": [
    {
     "name": "stdout",
     "output_type": "stream",
     "text": [
      "vamshi \"krishna\" pula\n"
     ]
    }
   ],
   "source": [
    "# Backslash Characters\n",
    "# The \\\\ escape character will represent a backslash character.\n",
    "print(\"vamshi \\\"krishna\\\" pula\")"
   ]
  },
  {
   "cell_type": "markdown",
   "id": "664d2a11-69d0-495e-8f8d-1b32f5204d21",
   "metadata": {},
   "source": [
    "4. The string &quot;Howl&#39;s Moving Castle&quot; is a correct value. Why isn&#39;t the single quote character in the\n",
    "word Howl&#39;s not escaped a problem?"
   ]
  },
  {
   "cell_type": "code",
   "execution_count": 4,
   "id": "a735ce2c-3884-4e63-8c7f-8d3becbc2811",
   "metadata": {},
   "outputs": [],
   "source": [
    "# It is correct beacuse we have used Double Quotes to themark the Begining and End of the String"
   ]
  },
  {
   "cell_type": "markdown",
   "id": "d596bac1-cb7a-43cd-879d-56eaca318dd7",
   "metadata": {},
   "source": [
    "5. How do you write a string of newlines if you don&#39;t want to use the n character?"
   ]
  },
  {
   "cell_type": "code",
   "execution_count": 9,
   "id": "fdfbb2d1-35eb-4707-a9e0-d67f8174d884",
   "metadata": {},
   "outputs": [],
   "source": [
    "# With the help of Multiline string"
   ]
  },
  {
   "cell_type": "markdown",
   "id": "93317d1e-a012-4fc1-8d08-197119a71fb8",
   "metadata": {},
   "source": [
    "6. What are the values of the given expressions?"
   ]
  },
  {
   "cell_type": "markdown",
   "id": "4f090eb1-4136-42e4-b626-69ae59ef9881",
   "metadata": {},
   "source": [
    "&#39;Hello, world!&#39;[1]"
   ]
  },
  {
   "cell_type": "markdown",
   "id": "bbce4a30-5b08-4fbe-a93e-dc34cb47877a",
   "metadata": {},
   "source": [
    "&#39;Hello, world!&#39;[0:5]"
   ]
  },
  {
   "cell_type": "markdown",
   "id": "66cf483d-9c9d-4cd8-9252-2ec1945cf865",
   "metadata": {},
   "source": [
    "&#39;Hello, world!&#39;[:5]"
   ]
  },
  {
   "cell_type": "markdown",
   "id": "ff8e077d-0e41-498e-b95e-66bc09f466f6",
   "metadata": {},
   "source": [
    "&#39;Hello, world!&#39;[3:]"
   ]
  },
  {
   "cell_type": "code",
   "execution_count": 10,
   "id": "d75b6cc1-680c-4214-be0f-207b6b401372",
   "metadata": {},
   "outputs": [
    {
     "data": {
      "text/plain": [
       "'e'"
      ]
     },
     "execution_count": 10,
     "metadata": {},
     "output_type": "execute_result"
    }
   ],
   "source": [
    "'Hello,world!'[1]"
   ]
  },
  {
   "cell_type": "code",
   "execution_count": 11,
   "id": "7bcb0bf0-5b2f-453d-9f30-3da801caf2bc",
   "metadata": {},
   "outputs": [
    {
     "data": {
      "text/plain": [
       "'Hello'"
      ]
     },
     "execution_count": 11,
     "metadata": {},
     "output_type": "execute_result"
    }
   ],
   "source": [
    "'Hello,world!'[0:5]"
   ]
  },
  {
   "cell_type": "code",
   "execution_count": 12,
   "id": "c7e2fa61-f9a1-4f05-a04b-b5ab771cb16b",
   "metadata": {},
   "outputs": [
    {
     "data": {
      "text/plain": [
       "'Hello'"
      ]
     },
     "execution_count": 12,
     "metadata": {},
     "output_type": "execute_result"
    }
   ],
   "source": [
    "'Hello,world!'[:5]"
   ]
  },
  {
   "cell_type": "code",
   "execution_count": 13,
   "id": "b6a72ca2-378c-47da-a087-466f6991bb56",
   "metadata": {},
   "outputs": [
    {
     "data": {
      "text/plain": [
       "'lo,world!'"
      ]
     },
     "execution_count": 13,
     "metadata": {},
     "output_type": "execute_result"
    }
   ],
   "source": [
    "'Hello,world!'[3:]"
   ]
  },
  {
   "cell_type": "markdown",
   "id": "b9ec3b74-50ea-4436-9e69-496fadf9f63f",
   "metadata": {},
   "source": [
    "7. What are the values of the following expressions?\n",
    "&#39;Hello&#39;.upper()\n",
    "&#39;Hello&#39;.upper().isupper()\n",
    "&#39;Hello&#39;.upper().lower()"
   ]
  },
  {
   "cell_type": "code",
   "execution_count": 17,
   "id": "24466a0f-be0a-4d27-a220-b0c885dd0a19",
   "metadata": {},
   "outputs": [
    {
     "data": {
      "text/plain": [
       "'HELLO'"
      ]
     },
     "execution_count": 17,
     "metadata": {},
     "output_type": "execute_result"
    }
   ],
   "source": [
    "'Hello'.upper()"
   ]
  },
  {
   "cell_type": "code",
   "execution_count": 18,
   "id": "699a45df-caae-4763-a9c0-3870c1b8255d",
   "metadata": {},
   "outputs": [
    {
     "data": {
      "text/plain": [
       "True"
      ]
     },
     "execution_count": 18,
     "metadata": {},
     "output_type": "execute_result"
    }
   ],
   "source": [
    "'Hello'.upper().isupper()"
   ]
  },
  {
   "cell_type": "code",
   "execution_count": 19,
   "id": "91716e5c-80e8-4d30-8bd3-e685ff5978fb",
   "metadata": {},
   "outputs": [
    {
     "data": {
      "text/plain": [
       "'hello'"
      ]
     },
     "execution_count": 19,
     "metadata": {},
     "output_type": "execute_result"
    }
   ],
   "source": [
    "'Hello'.upper().lower()"
   ]
  },
  {
   "cell_type": "markdown",
   "id": "b5a84f38-2073-4d69-a7e2-677313b688a4",
   "metadata": {},
   "source": [
    "8. What are the values of the following expressions?\n",
    "&#39;Remember, remember, the fifth of July.&#39;.split()\n",
    "&#39;-&#39;.join(&#39;There can only one.&#39;.split())"
   ]
  },
  {
   "cell_type": "code",
   "execution_count": 21,
   "id": "6bbfff03-cef9-42f5-8903-fff1ff70df3d",
   "metadata": {},
   "outputs": [
    {
     "data": {
      "text/plain": [
       "['Remember,remember,the', 'fifth', 'of', 'July.']"
      ]
     },
     "execution_count": 21,
     "metadata": {},
     "output_type": "execute_result"
    }
   ],
   "source": [
    "'Remember,remember,the fifth of July.'.split()"
   ]
  },
  {
   "cell_type": "code",
   "execution_count": 22,
   "id": "f0515b43-3ff5-4656-8c46-d1e70ac7fc55",
   "metadata": {},
   "outputs": [
    {
     "data": {
      "text/plain": [
       "'There-can-only-one.'"
      ]
     },
     "execution_count": 22,
     "metadata": {},
     "output_type": "execute_result"
    }
   ],
   "source": [
    "'-'.join('There can only one.'.split())"
   ]
  },
  {
   "cell_type": "markdown",
   "id": "c7f55f58-31c0-4e22-8fdf-f97fb906cf88",
   "metadata": {},
   "source": [
    "9. What are the methods for right-justifying, left-justifying, and centering a string?"
   ]
  },
  {
   "cell_type": "code",
   "execution_count": 25,
   "id": "96c3e2ec-aac8-4424-af5c-161c12b55b0b",
   "metadata": {},
   "outputs": [],
   "source": [
    "# rjust(),ljust(),center()"
   ]
  },
  {
   "cell_type": "markdown",
   "id": "5871b397-530b-4947-8079-1b6036922f3d",
   "metadata": {},
   "source": [
    "10. What is the best way to remove whitespace characters from the start or end?"
   ]
  },
  {
   "cell_type": "code",
   "execution_count": null,
   "id": "ada4eef7-4ced-4d86-96cc-5a526221ff83",
   "metadata": {},
   "outputs": [],
   "source": [
    "# Using lstrip() and rstrip()"
   ]
  }
 ],
 "metadata": {
  "kernelspec": {
   "display_name": "Python 3 (ipykernel)",
   "language": "python",
   "name": "python3"
  },
  "language_info": {
   "codemirror_mode": {
    "name": "ipython",
    "version": 3
   },
   "file_extension": ".py",
   "mimetype": "text/x-python",
   "name": "python",
   "nbconvert_exporter": "python",
   "pygments_lexer": "ipython3",
   "version": "3.10.6"
  }
 },
 "nbformat": 4,
 "nbformat_minor": 5
}
