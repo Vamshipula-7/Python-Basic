{
 "cells": [
  {
   "cell_type": "raw",
   "id": "0c7eb269-763a-4a7d-b481-9c322217de64",
   "metadata": {},
   "source": [
    "Question1\n",
    "Write a function that takes a list and a number as arguments. Add the number to the end of\n",
    "the list, then remove the first element of the list. The function should then return the updated\n",
    "list.\n",
    "Examples\n",
    "next_in_line([5, 6, 7, 8, 9], 1) ➞ [6, 7, 8, 9, 1]\n",
    "next_in_line([7, 6, 3, 23, 17], 10) ➞ [6, 3, 23, 17, 10]\n",
    "next_in_line([1, 10, 20, 42 ], 6) ➞ [10, 20, 42, 6]\n",
    "next_in_line([], 6) ➞ &quot;No list has been selected&quot;"
   ]
  },
  {
   "cell_type": "code",
   "execution_count": 32,
   "id": "34ba61e2-504e-4078-92ea-369134cfab6d",
   "metadata": {},
   "outputs": [
    {
     "name": "stdout",
     "output_type": "stream",
     "text": [
      "[6, 7, 8, 9, 1]\n",
      "[6, 3, 23, 17, 10]\n",
      "[10, 20, 42, 6]\n",
      "No list has been selected\n",
      "None\n"
     ]
    }
   ],
   "source": [
    "def end(lst,num):\n",
    "    if len(lst)>0:\n",
    "        lst.append(num)\n",
    "        lst=lst[1:]\n",
    "        return lst\n",
    "    else:\n",
    "        print(\"No list has been selected\")\n",
    "print(end([5,6,7,8,9],1))\n",
    "print(end([7, 6, 3, 23, 17], 10))\n",
    "print(end([1, 10, 20, 42 ], 6))\n",
    "print(end([],6))\n",
    "  \n",
    "            \n",
    "        "
   ]
  },
  {
   "cell_type": "raw",
   "id": "94eab255-31de-4d29-be1b-5b3085b8a110",
   "metadata": {},
   "source": [
    "Question2\n",
    "Create the function that takes a list of dictionaries and returns the sum of people&#39;s budgets.\n",
    "Examples\n",
    "get_budgets([\n",
    "{ &quot;name&quot;: &quot;John&quot;, &quot;age&quot;: 21, &quot;budget&quot;: 23000 },\n",
    "{ &quot;name&quot;: &quot;Steve&quot;, &quot;age&quot;: 32, &quot;budget&quot;: 40000 },\n",
    "{ &quot;name&quot;: &quot;Martin&quot;, &quot;age&quot;: 16, &quot;budget&quot;: 2700 }\n",
    "]) ➞ 65700\n",
    "get_budgets([\n",
    "{ &quot;name&quot;: &quot;John&quot;, &quot;age&quot;: 21, &quot;budget&quot;: 29000 },\n",
    "{ &quot;name&quot;: &quot;Steve&quot;, &quot;age&quot;: 32, &quot;budget&quot;: 32000 },\n",
    "{ &quot;name&quot;: &quot;Martin&quot;, &quot;age&quot;: 16, &quot;budget&quot;: 1600 }\n",
    "]) ➞ 62600"
   ]
  },
  {
   "cell_type": "code",
   "execution_count": 65,
   "id": "b8363b80-335e-4d6c-94db-a81360d8b4b5",
   "metadata": {},
   "outputs": [],
   "source": [
    "def budget(dict_B):\n",
    "    sum=0\n",
    "    for i in dict_B:\n",
    "        for k,v in i.items():\n",
    "            if k=='budget':\n",
    "                  sum=sum+v\n",
    "    return sum"
   ]
  },
  {
   "cell_type": "code",
   "execution_count": 66,
   "id": "08e53bba-6c52-4654-b077-baf50ae16d13",
   "metadata": {},
   "outputs": [
    {
     "name": "stdout",
     "output_type": "stream",
     "text": [
      "65700\n"
     ]
    }
   ],
   "source": [
    "print(budget([{'name':'john','age':21,'budget':23000},\n",
    "              {'name':'vamshi','age':24,'budget':40000},    \n",
    "                {'name':'vamshi','age':24,'budget':2700}]))"
   ]
  },
  {
   "cell_type": "code",
   "execution_count": 68,
   "id": "87e12754-395e-4612-ab64-5238bf2aba86",
   "metadata": {},
   "outputs": [
    {
     "name": "stdout",
     "output_type": "stream",
     "text": [
      "62600\n"
     ]
    }
   ],
   "source": [
    "print(budget([{'name':'john','age':21,'budget':29000},\n",
    "              {'name':'vamshi','age':24,'budget':32000},    \n",
    "                {'name':'vamshi','age':24,'budget':1600}]))"
   ]
  },
  {
   "cell_type": "raw",
   "id": "fc3c4a26-8c36-46fc-8ede-1d8c0f50fac1",
   "metadata": {},
   "source": [
    "Question3\n",
    "Create a function that takes a string and returns a string with its letters in alphabetical order.\n",
    "Examples\n",
    "alphabet_soup(&quot;hello&quot;) ➞ &quot;ehllo&quot;\n",
    "alphabet_soup(&quot;edabit&quot;) ➞ &quot;abdeit&quot;\n",
    "alphabet_soup(&quot;hacker&quot;) ➞ &quot;acehkr&quot;\n",
    "alphabet_soup(&quot;geek&quot;) ➞ &quot;eegk&quot;\n",
    "alphabet_soup(&quot;javascript&quot;) ➞ &quot;aacijprstv&quot;"
   ]
  },
  {
   "cell_type": "code",
   "execution_count": 74,
   "id": "0ec0326a-0c7b-4479-a04b-8f92b70b9fb8",
   "metadata": {},
   "outputs": [
    {
     "name": "stdout",
     "output_type": "stream",
     "text": [
      "ehllo\n",
      "abdeit\n",
      "acehkr\n",
      "eegk\n",
      "aacijprstv\n"
     ]
    }
   ],
   "source": [
    "def alphabetic_Order(str):\n",
    "    str1=''.join(sorted(str))\n",
    "    return str1\n",
    "print(alphabetic_Order(\"hello\"))\n",
    "print(alphabetic_Order(\"edabit\")) \n",
    "print(alphabetic_Order(\"hacker\"))\n",
    "print(alphabetic_Order(\"geek\"))\n",
    "print(alphabetic_Order(\"javascript\"))"
   ]
  },
  {
   "cell_type": "raw",
   "id": "bb53036d-4aab-4f9e-b955-630a9ceeb492",
   "metadata": {},
   "source": [
    "Question4\n",
    "Suppose that you invest $10,000 for 10 years at an interest rate of 6% compounded monthly.\n",
    "What will be the value of your investment at the end of the 10 year period?\n",
    "Create a function that accepts the principal p, the term in years t, the interest rate r, and the\n",
    "number of compounding periods per year n. The function returns the value at the end of term\n",
    "rounded to the nearest cent.\n",
    "For the example above:\n",
    "compound_interest(10000, 10, 0.06, 12) ➞ 18193.97\n",
    "Note that the interest rate is given as a decimal and n=12 because with monthly compounding\n",
    "there are 12 periods per year. Compounding can also be done annually, quarterly, weekly, or\n",
    "daily.\n",
    "Examples\n",
    "compound_interest(100, 1, 0.05, 1) ➞ 105.0\n",
    "compound_interest(3500, 15, 0.1, 4) ➞ 15399.26\n",
    "compound_interest(100000, 20, 0.15, 365) ➞ 2007316.26"
   ]
  },
  {
   "cell_type": "code",
   "execution_count": 98,
   "id": "90f40c77-06ae-4a74-baa7-e5c0dfbfb59d",
   "metadata": {},
   "outputs": [
    {
     "name": "stdout",
     "output_type": "stream",
     "text": [
      "20500.18\n",
      "105.0\n",
      "15399.26\n",
      "2007316.26\n"
     ]
    }
   ],
   "source": [
    "def compound(p,t,r,n):\n",
    "    Total=p*(1+(r/n))**(n*t)\n",
    "    return round(Total,2)\n",
    "print(compound(10000,12,0.06,10))\n",
    "print(compound(100,1,0.05,1))\n",
    "print(compound(3500,15,0.1,4))\n",
    "print(compound(100000,20,0.15,365))"
   ]
  },
  {
   "cell_type": "raw",
   "id": "c9b408d8-a0f6-4879-a790-8b50012b4255",
   "metadata": {},
   "source": [
    "Question5\n",
    "Write a function that takes a list of elements and returns only the integers.\n",
    "Examples\n",
    "return_only_integer([9, 2, &quot;space&quot;, &quot;car&quot;, &quot;lion&quot;, 16]) ➞ [9, 2, 16]\n",
    "return_only_integer([&quot;hello&quot;, 81, &quot;basketball&quot;, 123, &quot;fox&quot;]) ➞ [81, 123]\n",
    "return_only_integer([10, &quot;121&quot;, 56, 20, &quot;car&quot;, 3, &quot;lion&quot;]) ➞ [10, 56, 20,\n",
    "3]\n",
    "return_only_integer([&quot;String&quot;, True, 3.3, 1]) ➞ [1]"
   ]
  },
  {
   "cell_type": "code",
   "execution_count": 104,
   "id": "1fde0e9b-09ae-4dc7-a5dc-d6606b90fae6",
   "metadata": {},
   "outputs": [
    {
     "name": "stdout",
     "output_type": "stream",
     "text": [
      "[9, 2, 16]\n",
      "[81, 123]\n",
      "[10, 56, 20, 3]\n"
     ]
    }
   ],
   "source": [
    "def digits(lst):\n",
    "    integers=[]\n",
    "    for i in lst:\n",
    "        if type(i)==int:\n",
    "            integers.append(i)\n",
    "    return integers\n",
    "print(digits([9,2,\"space\",\"car\",\"lion\",16]))\n",
    "print(digits([\"hello\",81,\"basketball\",123,\"fox\"]))\n",
    "print(digits([10,\"121\",56,20,\"car\",3,\"lion\"]))\n",
    "            "
   ]
  },
  {
   "cell_type": "code",
   "execution_count": null,
   "id": "abc6eb97-fb8b-4c51-a0b4-135234b8c132",
   "metadata": {},
   "outputs": [],
   "source": []
  }
 ],
 "metadata": {
  "kernelspec": {
   "display_name": "Python 3 (ipykernel)",
   "language": "python",
   "name": "python3"
  },
  "language_info": {
   "codemirror_mode": {
    "name": "ipython",
    "version": 3
   },
   "file_extension": ".py",
   "mimetype": "text/x-python",
   "name": "python",
   "nbconvert_exporter": "python",
   "pygments_lexer": "ipython3",
   "version": "3.10.6"
  }
 },
 "nbformat": 4,
 "nbformat_minor": 5
}
