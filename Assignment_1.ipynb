{
 "cells": [
  {
   "cell_type": "markdown",
   "id": "dbd6cbec",
   "metadata": {},
   "source": [
    "1. In the below elements which of them are values or an expression? eg:- values can be\n",
    "integer or string and expressions will be mathematical operators."
   ]
  },
  {
   "cell_type": "raw",
   "id": "92124897",
   "metadata": {},
   "source": [
    "\n",
    "\n",
    "  * ,  -,   /,   +   are Mathemetical Operators\n",
    "\n",
    "  'hello', -87.8,  6  are values\n",
    "\n"
   ]
  },
  {
   "cell_type": "markdown",
   "id": "da938373",
   "metadata": {},
   "source": [
    "2. What is the difference between string and variable?"
   ]
  },
  {
   "cell_type": "raw",
   "id": "dc2cd1db",
   "metadata": {},
   "source": [
    "\n",
    " Ans: Variable is For Storing Information\n",
    " example a=15,here a is the variable\n",
    "\n",
    " String is a type of information we store in a variable\n",
    " example-  a=\"hi\",here 'hi' is the string"
   ]
  },
  {
   "cell_type": "markdown",
   "id": "8992f03b",
   "metadata": {},
   "source": [
    "3. Describe three different data types."
   ]
  },
  {
   "cell_type": "raw",
   "id": "98b60771",
   "metadata": {},
   "source": [
    "Three different Data Types:\n",
    "    1.Numeric Data types\n",
    "       (a)int\n",
    "       (b)Long\n",
    "       (c)float\n",
    "       (d)complex\n",
    "    2.String Data type:\n",
    "       (a)string\n",
    "    3.Sequence Data Types:\n",
    "       (a)List\n",
    "       (b)Tuple\n",
    "       (c)Range"
   ]
  },
  {
   "cell_type": "markdown",
   "id": "f72c7d30",
   "metadata": {},
   "source": [
    "4. What is an expression made up of? What do all expressions do?"
   ]
  },
  {
   "cell_type": "raw",
   "id": "90aad600",
   "metadata": {},
   "source": [
    "An Expression is a combination of Operators and Operands that will give some other value.\n",
    "If there is more than one operator in an expression, their precedence decides which operation will be performed first."
   ]
  },
  {
   "cell_type": "markdown",
   "id": "4391e3e7",
   "metadata": {},
   "source": [
    "5. This assignment statements, like spam = 10. What is the difference between an\n",
    "expression and a statement?"
   ]
  },
  {
   "cell_type": "raw",
   "id": "91149265",
   "metadata": {},
   "source": [
    "An Expression is a Combination of operators and Operands that will give other value\n",
    "Example:- 1+6=7\n",
    "    it is an example for expression\n",
    "A statement is a stand alone unit of execution which does not return anything\n",
    "Example:- \"hi=1+5\""
   ]
  },
  {
   "cell_type": "markdown",
   "id": "12effed5",
   "metadata": {},
   "source": [
    "6. After running the following code, what does the variable bacon contain?\n",
    "bacon = 22\n",
    "bacon + 1"
   ]
  },
  {
   "cell_type": "raw",
   "id": "a789d14b",
   "metadata": {},
   "source": [
    "The Bacon value is set to 22\n",
    "Because Bacon+1 need an assignment\n",
    "ex: Bacon=Bacon+1 (This will work)"
   ]
  },
  {
   "cell_type": "markdown",
   "id": "4e6bcb92",
   "metadata": {},
   "source": [
    "7. What should the values of the following two terms be?\n",
    "&#39;spam&#39; + &#39;spamspam&#39;\n",
    "&#39;spam&#39; * 3"
   ]
  },
  {
   "cell_type": "raw",
   "id": "4ce14faf",
   "metadata": {},
   "source": [
    "# 'spam' + 'spamspam' is 'spamspamspam'\n",
    "'spam'*3 is also 'spamspamspam'\n",
    "Both returns same"
   ]
  },
  {
   "cell_type": "markdown",
   "id": "f37d7688",
   "metadata": {},
   "source": [
    "8. Why is eggs a valid variable name while 100 is invalid?"
   ]
  },
  {
   "cell_type": "raw",
   "id": "2ffc437e",
   "metadata": {},
   "source": [
    "Variables name cannot start with numbers"
   ]
  },
  {
   "cell_type": "markdown",
   "id": "fe188647",
   "metadata": {},
   "source": [
    "9. What three functions can be used to get the integer, floating-point number, or string\n",
    "version of a value?"
   ]
  },
  {
   "cell_type": "raw",
   "id": "1444ab1f",
   "metadata": {},
   "source": [
    "integer- int()\n",
    "floating-point number- float()\n",
    "string- str()"
   ]
  },
  {
   "cell_type": "markdown",
   "id": "5bd2bf60",
   "metadata": {},
   "source": [
    "10. Why does this expression cause an error? How can you fix it?\n",
    "&#39;I have eaten &#39; + 99 + &#39; burritos.&#39;"
   ]
  },
  {
   "cell_type": "raw",
   "id": "6def7a54",
   "metadata": {},
   "source": [
    "integers and string cannot concatenated.\n",
    "'I have eaten ' + str(99) + ' burritos.'"
   ]
  },
  {
   "cell_type": "code",
   "execution_count": null,
   "id": "cebf9173",
   "metadata": {},
   "outputs": [],
   "source": [
    "t"
   ]
  }
 ],
 "metadata": {
  "kernelspec": {
   "display_name": "Python 3 (ipykernel)",
   "language": "python",
   "name": "python3"
  },
  "language_info": {
   "codemirror_mode": {
    "name": "ipython",
    "version": 3
   },
   "file_extension": ".py",
   "mimetype": "text/x-python",
   "name": "python",
   "nbconvert_exporter": "python",
   "pygments_lexer": "ipython3",
   "version": "3.9.12"
  }
 },
 "nbformat": 4,
 "nbformat_minor": 5
}
