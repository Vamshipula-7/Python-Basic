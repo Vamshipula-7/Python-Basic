{
 "cells": [
  {
   "cell_type": "markdown",
   "id": "6327b6d3-9623-47bc-aa9f-9e7db794fdd6",
   "metadata": {},
   "source": [
    "1. What does an empty dictionary&#39;s code look like?"
   ]
  },
  {
   "cell_type": "code",
   "execution_count": 1,
   "id": "a0e89c07-f836-42d3-a0f0-f9722d004f17",
   "metadata": {},
   "outputs": [
    {
     "data": {
      "text/plain": [
       "{}"
      ]
     },
     "execution_count": 1,
     "metadata": {},
     "output_type": "execute_result"
    }
   ],
   "source": [
    "#An Empty dictionary code looks like\n",
    "{}"
   ]
  },
  {
   "cell_type": "markdown",
   "id": "681d8df4-b7f3-4768-adf1-618f2dfed3bd",
   "metadata": {},
   "source": [
    "2. What is the value of a dictionary value with the key &#39;foo&#39; and the value 42?"
   ]
  },
  {
   "cell_type": "code",
   "execution_count": 2,
   "id": "db51fe7e-8cfa-4c98-8738-5800e96a9a08",
   "metadata": {},
   "outputs": [
    {
     "data": {
      "text/plain": [
       "{'foo': 42}"
      ]
     },
     "execution_count": 2,
     "metadata": {},
     "output_type": "execute_result"
    }
   ],
   "source": [
    "{'foo':42}"
   ]
  },
  {
   "cell_type": "markdown",
   "id": "736a3772-b45a-4924-b010-06eef7ea8bbe",
   "metadata": {},
   "source": [
    "3. What is the most significant distinction between a dictionary and a list?"
   ]
  },
  {
   "cell_type": "code",
   "execution_count": 3,
   "id": "e76a4381-aa87-403c-8b0b-0bb5e24626a5",
   "metadata": {},
   "outputs": [],
   "source": [
    "# The Items stored in the dictionary are Unordered\n",
    "# The Items stored in the List are Ordered"
   ]
  },
  {
   "cell_type": "markdown",
   "id": "0e8c1d0e-c2f4-4f4b-8582-3d09bc346d88",
   "metadata": {},
   "source": [
    "4. What happens if you try to access spam[&#39;foo&#39;] if spam is {&#39;bar&#39;: 100}?"
   ]
  },
  {
   "cell_type": "code",
   "execution_count": 5,
   "id": "fe790603-eabd-4779-a8ed-844ba6d92fa5",
   "metadata": {},
   "outputs": [
    {
     "ename": "KeyError",
     "evalue": "'foo'",
     "output_type": "error",
     "traceback": [
      "\u001b[0;31m---------------------------------------------------------------------------\u001b[0m",
      "\u001b[0;31mKeyError\u001b[0m                                  Traceback (most recent call last)",
      "Cell \u001b[0;32mIn [5], line 3\u001b[0m\n\u001b[1;32m      1\u001b[0m \u001b[38;5;66;03m# We get KeyError\u001b[39;00m\n\u001b[1;32m      2\u001b[0m spam\u001b[38;5;241m=\u001b[39m{\u001b[38;5;124m'\u001b[39m\u001b[38;5;124mbar\u001b[39m\u001b[38;5;124m'\u001b[39m:\u001b[38;5;241m100\u001b[39m}\n\u001b[0;32m----> 3\u001b[0m \u001b[43mspam\u001b[49m\u001b[43m[\u001b[49m\u001b[38;5;124;43m'\u001b[39;49m\u001b[38;5;124;43mfoo\u001b[39;49m\u001b[38;5;124;43m'\u001b[39;49m\u001b[43m]\u001b[49m\n",
      "\u001b[0;31mKeyError\u001b[0m: 'foo'"
     ]
    }
   ],
   "source": [
    "# We get KeyError\n",
    "spam={'bar':100}\n",
    "spam['foo']"
   ]
  },
  {
   "cell_type": "markdown",
   "id": "9939c69c-aa0c-4a31-8974-8b7b38d07145",
   "metadata": {},
   "source": [
    "5. If a dictionary is stored in spam, what is the difference between the expressions &#39;cat&#39; in spam and\n",
    "&#39;cat&#39; in spam.keys()?"
   ]
  },
  {
   "cell_type": "code",
   "execution_count": 11,
   "id": "07e255e5-5a11-46da-8bcc-bab1ef68dafd",
   "metadata": {},
   "outputs": [],
   "source": [
    "# There is no difference,Both checks the whether a value exists as a key in the Dictionary\n",
    "spam1={'cat':145}\n"
   ]
  },
  {
   "cell_type": "code",
   "execution_count": 8,
   "id": "9a5c16cf-a589-4c3b-97b8-0ffb22abed6f",
   "metadata": {},
   "outputs": [
    {
     "data": {
      "text/plain": [
       "dict_keys(['cat'])"
      ]
     },
     "execution_count": 8,
     "metadata": {},
     "output_type": "execute_result"
    }
   ],
   "source": [
    "spam1.keys()"
   ]
  },
  {
   "cell_type": "markdown",
   "id": "26227b57-7712-4b54-97fc-a5cbf437d642",
   "metadata": {},
   "source": [
    "6. If a dictionary is stored in spam, what is the difference between the expressions &#39;cat&#39; in spam and\n",
    "&#39;cat&#39; in spam.values()?"
   ]
  },
  {
   "cell_type": "code",
   "execution_count": 12,
   "id": "a52c20cc-1404-43c6-9f18-d95779575438",
   "metadata": {},
   "outputs": [],
   "source": [
    "\n",
    "\n",
    "#'cat' in spam checks whether there is a 'cat' key in the dictionary.\n",
    "# while 'cat' in spam.values() checks whether there is a value 'cat' for one of the keys in spam."
   ]
  },
  {
   "cell_type": "markdown",
   "id": "d7a11527-cd7c-404b-8127-d23679f4a33e",
   "metadata": {},
   "source": [
    "7. What is a shortcut for the following code?"
   ]
  },
  {
   "cell_type": "markdown",
   "id": "c7dc7ab7-d650-47b7-9cea-3505449423f8",
   "metadata": {},
   "source": [
    "if &#39;color&#39; not in spam:"
   ]
  },
  {
   "cell_type": "markdown",
   "id": "af5a9158-a535-4f93-a9e3-24577720349b",
   "metadata": {},
   "source": [
    "spam[&#39;color&#39;] = &#39;black&#39;"
   ]
  },
  {
   "cell_type": "code",
   "execution_count": 16,
   "id": "eac167e1-6b4d-4d9a-a251-48b3a86b20d6",
   "metadata": {},
   "outputs": [
    {
     "data": {
      "text/plain": [
       "'black'"
      ]
     },
     "execution_count": 16,
     "metadata": {},
     "output_type": "execute_result"
    }
   ],
   "source": [
    "\n",
    "spam.setdefault('color','black')"
   ]
  },
  {
   "cell_type": "markdown",
   "id": "051de074-85ad-43bf-a231-d33b12c733af",
   "metadata": {},
   "source": [
    "8. How do you &quot;pretty print&quot; dictionary values using which module and function?"
   ]
  },
  {
   "cell_type": "code",
   "execution_count": 18,
   "id": "a075fc64-2392-4e9e-960e-1e22ecd23399",
   "metadata": {},
   "outputs": [],
   "source": [
    "# pprint.pprint()"
   ]
  }
 ],
 "metadata": {
  "kernelspec": {
   "display_name": "Python 3 (ipykernel)",
   "language": "python",
   "name": "python3"
  },
  "language_info": {
   "codemirror_mode": {
    "name": "ipython",
    "version": 3
   },
   "file_extension": ".py",
   "mimetype": "text/x-python",
   "name": "python",
   "nbconvert_exporter": "python",
   "pygments_lexer": "ipython3",
   "version": "3.10.6"
  }
 },
 "nbformat": 4,
 "nbformat_minor": 5
}
