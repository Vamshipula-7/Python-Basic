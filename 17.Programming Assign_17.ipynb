{
 "cells": [
  {
   "cell_type": "raw",
   "id": "e3261ed4-64a4-41dc-8711-ecca96211d63",
   "metadata": {},
   "source": [
    "Question1. Create a function that takes three arguments a, b, c and returns the sum of the\n",
    "numbers that are evenly divided by c from the range a, b inclusive.\n",
    "Examples\n",
    "evenly_divisible(1, 10, 20) ➞ 0\n",
    "# No number between 1 and 10 can be evenly divided by 20.\n",
    "evenly_divisible(1, 10, 2) ➞ 30\n",
    "# 2 + 4 + 6 + 8 + 10 = 30\n",
    "evenly_divisible(1, 10, 3) ➞ 18\n",
    "# 3 + 6 + 9 = 18"
   ]
  },
  {
   "cell_type": "code",
   "execution_count": 10,
   "id": "081b94bb-be8f-4b2e-b05d-a4c08acc3d59",
   "metadata": {},
   "outputs": [
    {
     "name": "stdout",
     "output_type": "stream",
     "text": [
      "[4, 8]\n"
     ]
    },
    {
     "data": {
      "text/plain": [
       "12"
      ]
     },
     "execution_count": 10,
     "metadata": {},
     "output_type": "execute_result"
    }
   ],
   "source": [
    "def div(a,b,c):\n",
    "    evenly_div=[]\n",
    "    sum=0\n",
    "    for i in range(a,b+1):\n",
    "        if i%c==0:\n",
    "            evenly_div.append(i)\n",
    "            sum=sum+i\n",
    "    print(evenly_div)\n",
    "    return sum\n",
    "div(1,10,4)"
   ]
  },
  {
   "cell_type": "raw",
   "id": "afd10fb9-a574-48a4-b505-91b6dfc58c0e",
   "metadata": {},
   "source": [
    "Question2. Create a function that returns True if a given inequality expression is correct and\n",
    "False otherwise.\n",
    "Examples\n",
    "correct_signs(&quot;3 &lt; 7 &lt; 11&quot;) ➞ True\n",
    "correct_signs(&quot;13 &gt; 44 &gt; 33 &gt; 1&quot;) ➞ False\n",
    "correct_signs(&quot;1 &lt; 2 &lt; 6 &lt; 9 &gt; 3&quot;) ➞ True"
   ]
  },
  {
   "cell_type": "code",
   "execution_count": 16,
   "id": "083e4e20-e9c2-40c9-ad4c-29fce3e439cc",
   "metadata": {},
   "outputs": [
    {
     "data": {
      "text/plain": [
       "False"
      ]
     },
     "execution_count": 16,
     "metadata": {},
     "output_type": "execute_result"
    }
   ],
   "source": [
    "def check(expression):\n",
    "    evaluate=eval(expression)\n",
    "    if evaluate:\n",
    "        return True\n",
    "    else:\n",
    "        return False\n",
    "check(\"90<150<120\")"
   ]
  },
  {
   "cell_type": "raw",
   "id": "57f0eb2a-2c25-473b-8216-65c107061d88",
   "metadata": {},
   "source": [
    "Question3. Create a function that replaces all the vowels in a string with a specified character.\n",
    "Examples\n",
    "replace_vowels(&quot;the aardvark&quot;, &quot;#&quot;) ➞ &quot;th# ##rdv#rk&quot;\n",
    "replace_vowels(&quot;minnie mouse&quot;, &quot;?&quot;) ➞ &quot;m?nn?? m??s?&quot;\n",
    "replace_vowels(&quot;shakespeare&quot;, &quot;*&quot;) ➞ &quot;sh*k*sp**r*&quot;"
   ]
  },
  {
   "cell_type": "code",
   "execution_count": 28,
   "id": "61c394c3-a20f-4d22-b08d-53147b088bc1",
   "metadata": {},
   "outputs": [
    {
     "data": {
      "text/plain": [
       "'V*msh* kr*shn* p*l*'"
      ]
     },
     "execution_count": 28,
     "metadata": {},
     "output_type": "execute_result"
    }
   ],
   "source": [
    "def replace1(word,k):\n",
    "    vowels=\"aeiouAEIOU\"\n",
    "    word2=[]\n",
    "    for i in vowels:\n",
    "            if i in word:\n",
    "                word=word.replace(i,k)\n",
    "    return word\n",
    "            \n",
    "replace1(\"Vamshi krishna pula\",\"*\")           "
   ]
  },
  {
   "cell_type": "raw",
   "id": "bab580a7-93ad-4694-8b2d-01a6d0a1cfda",
   "metadata": {},
   "source": [
    "Question4. Write a function that calculates the factorial of a number recursively.\n",
    "Examples\n",
    "factorial(5) ➞ 120\n",
    "factorial(3) ➞ 6\n",
    "factorial(1) ➞ 1\n",
    "factorial(0) ➞ 1"
   ]
  },
  {
   "cell_type": "code",
   "execution_count": 40,
   "id": "52f83246-c860-49b3-80ab-951524ad638f",
   "metadata": {},
   "outputs": [
    {
     "data": {
      "text/plain": [
       "5040"
      ]
     },
     "execution_count": 40,
     "metadata": {},
     "output_type": "execute_result"
    }
   ],
   "source": [
    "def Factorial(Number):\n",
    "    fact=1\n",
    "    temp=Number\n",
    "    while Number>0:\n",
    "        fact=fact*Number\n",
    "        Number-=1\n",
    "    return fact\n",
    "Factorial(7)      \n",
    "        "
   ]
  },
  {
   "cell_type": "raw",
   "id": "d5c0d1bb-5808-4e13-8376-3961951c4555",
   "metadata": {},
   "source": [
    "Question 5\n",
    "Hamming distance is the number of characters that differ between two strings.\n",
    "To illustrate:\n",
    "String1: &quot;abcbba&quot;\n",
    "String2: &quot;abcbda&quot;\n",
    "Hamming Distance: 1 - &quot;b&quot; vs. &quot;d&quot; is the only difference.\n",
    "Create a function that computes the hamming distance between two strings.\n",
    "Examples\n",
    "hamming_distance(&quot;abcde&quot;, &quot;bcdef&quot;) ➞ 5\n",
    "hamming_distance(&quot;abcde&quot;, &quot;abcde&quot;) ➞ 0\n",
    "hamming_distance(&quot;strong&quot;, &quot;strung&quot;) ➞ 1"
   ]
  },
  {
   "cell_type": "code",
   "execution_count": 52,
   "id": "4d45b205-f39e-4736-8347-65eba7ed4c15",
   "metadata": {},
   "outputs": [
    {
     "data": {
      "text/plain": [
       "1"
      ]
     },
     "execution_count": 52,
     "metadata": {},
     "output_type": "execute_result"
    }
   ],
   "source": [
    "def String(s1,s2):\n",
    "    count=0\n",
    "    for letter in range(len(s1)):\n",
    "        if s1[letter] !=s2[letter]:\n",
    "            count+=1\n",
    "        else:\n",
    "            pass\n",
    "    return count\n",
    "\n",
    "s1=\"strong\"\n",
    "s2=\"strung\"\n",
    "String(s1,s2)\n",
    "            "
   ]
  },
  {
   "cell_type": "code",
   "execution_count": null,
   "id": "469d2b4b-67e6-49c7-8140-0d84e792623a",
   "metadata": {},
   "outputs": [],
   "source": []
  }
 ],
 "metadata": {
  "kernelspec": {
   "display_name": "Python 3 (ipykernel)",
   "language": "python",
   "name": "python3"
  },
  "language_info": {
   "codemirror_mode": {
    "name": "ipython",
    "version": 3
   },
   "file_extension": ".py",
   "mimetype": "text/x-python",
   "name": "python",
   "nbconvert_exporter": "python",
   "pygments_lexer": "ipython3",
   "version": "3.10.6"
  }
 },
 "nbformat": 4,
 "nbformat_minor": 5
}
