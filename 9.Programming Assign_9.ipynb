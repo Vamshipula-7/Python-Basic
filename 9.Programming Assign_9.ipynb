{
 "cells": [
  {
   "cell_type": "markdown",
   "id": "9426d9fc-2f0e-4e23-a0fe-868f9eec1dbb",
   "metadata": {},
   "source": [
    "1. Write a Python program to check if the given number is a Disarium Number?"
   ]
  },
  {
   "cell_type": "code",
   "execution_count": 1,
   "id": "639d7dc9-2543-4f64-994c-4bf8b6a79bc9",
   "metadata": {},
   "outputs": [
    {
     "name": "stdout",
     "output_type": "stream",
     "text": [
      "207\n",
      "195  is not a Disarium \n"
     ]
    }
   ],
   "source": [
    "def is_Disarium(num):\n",
    "    sum=0\n",
    "    for i in range(len(str(num))):\n",
    "        sum=sum+int(str(num)[i])**(i+1)\n",
    "    print(sum)\n",
    "    \n",
    "    if num==sum:\n",
    "        print(num, \" is a Disarium\")\n",
    "    else:\n",
    "        print(num, \" is not a Disarium \")\n",
    "is_Disarium(195)\n",
    "\n",
    "\n",
    "    \n",
    "    "
   ]
  },
  {
   "cell_type": "markdown",
   "id": "2e4f5aa0-33a6-4b3a-9133-f8838c09af2a",
   "metadata": {},
   "source": [
    "2. Write a Python program to print all disarium numbers between 1 to 100?"
   ]
  },
  {
   "cell_type": "code",
   "execution_count": 27,
   "id": "977477e5-b3dd-49db-ba6a-5ae69d0d51b6",
   "metadata": {},
   "outputs": [
    {
     "name": "stdout",
     "output_type": "stream",
     "text": [
      "1\n",
      "2\n",
      "3\n",
      "4\n",
      "5\n",
      "6\n",
      "7\n",
      "8\n",
      "9\n",
      "89\n"
     ]
    }
   ],
   "source": [
    "def cal_Length(num):\n",
    "    length=0\n",
    "    while (num!=0):\n",
    "        num=num//10\n",
    "        length=length+1\n",
    "    return length\n",
    "\n",
    "def cal_Sum_Disarium(num):\n",
    "    sum=a=0\n",
    "    length1=cal_Length(num)\n",
    "    while(num>0):\n",
    "        a=num%10\n",
    "        sum=sum+(a**length1)\n",
    "        num=num//10\n",
    "        length1=length1-1 \n",
    "    return sum\n",
    "\n",
    "result=0\n",
    "for i in range(1,101):\n",
    "    result=cal_Sum_Disarium(i)\n",
    "    if result==i:\n",
    "        print(i)"
   ]
  },
  {
   "cell_type": "markdown",
   "id": "15e75aca-b53f-4e74-8015-ee1ed5d2a0fc",
   "metadata": {},
   "source": [
    "3. Write a Python program to check if the given number is Happy Number?"
   ]
  },
  {
   "cell_type": "code",
   "execution_count": 52,
   "id": "f124629f-abce-40e6-95a4-d0446a93458e",
   "metadata": {},
   "outputs": [
    {
     "name": "stdout",
     "output_type": "stream",
     "text": [
      "82  is a happy Number\n"
     ]
    }
   ],
   "source": [
    "def cal_Happy(num):\n",
    "    sum=rem=0\n",
    "    while(num>0):\n",
    "        rem=num%10\n",
    "        sum=sum+(rem*rem)\n",
    "        num=num//10\n",
    "    return sum\n",
    "num=82\n",
    "result=num\n",
    "while(result!=1 and result!=4):\n",
    "    result=cal_Happy(result)\n",
    "        \n",
    "if(result==1):\n",
    "    print(str(num) ,\" is a happy Number\")\n",
    "else:\n",
    "    print(str(num) ,\" is a not a happy number\")\n",
    "    \n",
    "    "
   ]
  },
  {
   "cell_type": "markdown",
   "id": "1517eed8-4482-43cd-aa1b-aefabed51d3a",
   "metadata": {},
   "source": [
    "4. Write a Python program to print all happy numbers between 1 and 100?"
   ]
  },
  {
   "cell_type": "code",
   "execution_count": 53,
   "id": "2c2893d3-368a-4290-b65e-9a5fe9e64c17",
   "metadata": {},
   "outputs": [
    {
     "name": "stdout",
     "output_type": "stream",
     "text": [
      "1\n",
      "7\n",
      "10\n",
      "13\n",
      "19\n",
      "23\n",
      "28\n",
      "31\n",
      "32\n",
      "44\n",
      "49\n",
      "68\n",
      "70\n",
      "79\n",
      "82\n",
      "86\n",
      "91\n",
      "94\n",
      "97\n",
      "100\n"
     ]
    }
   ],
   "source": [
    "def isHappyNumber(num):\n",
    "    rem=sum=0\n",
    "    while(num!=0):\n",
    "        rem=num%10\n",
    "        sum=sum+(rem*rem)\n",
    "        num=num//10\n",
    "    return sum\n",
    "\n",
    "for i in range(1,101):\n",
    "    result=i\n",
    "    while(result!=1 and result!=4):\n",
    "        result=isHappyNumber(result)\n",
    "    if(result==1):\n",
    "        print(i)"
   ]
  },
  {
   "cell_type": "markdown",
   "id": "68b09b9b-4f63-4e1c-9d38-237913841f7b",
   "metadata": {},
   "source": [
    "5. Write a Python program to determine whether the given number is a Harshad Number?"
   ]
  },
  {
   "cell_type": "code",
   "execution_count": 68,
   "id": "add22393-bdd2-446f-beac-979480106db5",
   "metadata": {},
   "outputs": [
    {
     "name": "stdout",
     "output_type": "stream",
     "text": [
      "17  is not a Harshad Number\n"
     ]
    }
   ],
   "source": [
    "def isHarshad(num):\n",
    "\n",
    "    sum=rem=0\n",
    "    while(num!=0):\n",
    "        rem=num%10\n",
    "        sum=sum+rem\n",
    "        num=num//10\n",
    "    return sum\n",
    "num=17\n",
    "if num % isHarshad(num)==0:\n",
    "    print(num,\" is a Harshad Number\")\n",
    "else:\n",
    "    print(num,\" is not a Harshad Number\")\n",
    "    \n"
   ]
  },
  {
   "cell_type": "markdown",
   "id": "ffd75bcb-b5fa-41c1-9d23-23b993e91698",
   "metadata": {},
   "source": [
    "6. Write a Python program to print all pronic numbers between 1 and 100?"
   ]
  },
  {
   "cell_type": "code",
   "execution_count": 74,
   "id": "0503ee40-40d8-49b0-8155-bdbabd38caf1",
   "metadata": {},
   "outputs": [
    {
     "name": "stdout",
     "output_type": "stream",
     "text": [
      "2 6 12 20 30 42 56 72 90 "
     ]
    }
   ],
   "source": [
    "def isPotranic(num):\n",
    "    flag=False\n",
    "    for i in range(1,num+1):\n",
    "        if(i*(i+1)==num):\n",
    "            flag=True\n",
    "            break\n",
    "    return flag\n",
    "\n",
    "for j in range(1,101):\n",
    "           if(isPotranic(j)):\n",
    "              print(j,end=\" \")"
   ]
  }
 ],
 "metadata": {
  "kernelspec": {
   "display_name": "Python 3 (ipykernel)",
   "language": "python",
   "name": "python3"
  },
  "language_info": {
   "codemirror_mode": {
    "name": "ipython",
    "version": 3
   },
   "file_extension": ".py",
   "mimetype": "text/x-python",
   "name": "python",
   "nbconvert_exporter": "python",
   "pygments_lexer": "ipython3",
   "version": "3.10.6"
  }
 },
 "nbformat": 4,
 "nbformat_minor": 5
}
