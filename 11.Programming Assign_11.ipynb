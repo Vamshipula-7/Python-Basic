{
 "cells": [
  {
   "cell_type": "markdown",
   "id": "cc458da2-5e64-4d7d-b06f-e986ae91fa38",
   "metadata": {},
   "source": [
    "1. Write a Python program to find words which are greater than given length k?"
   ]
  },
  {
   "cell_type": "code",
   "execution_count": 10,
   "id": "d9162d02-867c-4a17-93b1-c0210f497c56",
   "metadata": {},
   "outputs": [
    {
     "data": {
      "text/plain": [
       "['Vamshi', 'Krishna', 'Data', 'Scientist', 'Tata', 'Consultancy', 'Services']"
      ]
     },
     "execution_count": 10,
     "metadata": {},
     "output_type": "execute_result"
    }
   ],
   "source": [
    "def _string(k,text):\n",
    "    #create empty string\n",
    "    string=[]\n",
    "    text1=text.split(\" \")\n",
    "    for i in text1:\n",
    "        if len(i) > k:\n",
    "            string.append(i)\n",
    "    return string\n",
    "\n",
    "_string(3,\"Vamshi Krishna is a Data Scientist in Tata Consultancy Services\")"
   ]
  },
  {
   "cell_type": "markdown",
   "id": "4fc1385b-c3d3-4efe-9417-9b5d8f45b691",
   "metadata": {},
   "source": [
    "2. Write a Python program for removing i-th character from a string?"
   ]
  },
  {
   "cell_type": "code",
   "execution_count": 12,
   "id": "9f7aa84c-497d-4f9b-ace2-67beb1d8b315",
   "metadata": {},
   "outputs": [
    {
     "data": {
      "text/plain": [
       "'VamsiKrishna'"
      ]
     },
     "execution_count": 12,
     "metadata": {},
     "output_type": "execute_result"
    }
   ],
   "source": [
    "def _remove(k,string):\n",
    "    for i in range(len(string)):\n",
    "        if i == k:\n",
    "            string=string.replace(string[k],\"\",1)\n",
    "    return string\n",
    "\n",
    "k=4\n",
    "string=\"VamshiKrishna\"\n",
    "_remove(k,string)"
   ]
  },
  {
   "cell_type": "markdown",
   "id": "fdd89cac-dd0d-44dd-a821-6c4482db78fb",
   "metadata": {},
   "source": [
    "3. Write a Python program to split and join a string?"
   ]
  },
  {
   "cell_type": "code",
   "execution_count": 43,
   "id": "1d1a1bb1-6b0d-492f-bbe7-0bc94cabecbf",
   "metadata": {},
   "outputs": [
    {
     "name": "stdin",
     "output_type": "stream",
     "text": [
      "Enter the string vamshi krishna pula\n"
     ]
    },
    {
     "name": "stdout",
     "output_type": "stream",
     "text": [
      "['vamshi', 'krishna', 'pula']\n",
      "vamshi-krishna-pula\n"
     ]
    }
   ],
   "source": [
    "string=input(\"Enter the string\")\n",
    "list_str=string.split(\" \")\n",
    "print(list_str)\n",
    "\n",
    "join_str=\"-\".join(list_str)\n",
    "print(join_str)\n"
   ]
  },
  {
   "cell_type": "markdown",
   "id": "430e4a9e-1d8f-4fe6-8bcc-e09fbfd12e8d",
   "metadata": {},
   "source": [
    "4. Write a Python to check if a given string is binary string or not?"
   ]
  },
  {
   "cell_type": "code",
   "execution_count": 48,
   "id": "682682ef-1e2e-4733-86ba-b65c5eae1a88",
   "metadata": {},
   "outputs": [
    {
     "name": "stdout",
     "output_type": "stream",
     "text": [
      "yes\n"
     ]
    }
   ],
   "source": [
    "string='0101010101010'\n",
    "if string.count('0')+ string.count('1') ==len(string):\n",
    "    print(\"yes\")\n",
    "else:\n",
    "    print(\"no\")\n",
    "    "
   ]
  },
  {
   "cell_type": "markdown",
   "id": "4ef49440-4ca0-4aad-9417-d4d928fe232c",
   "metadata": {},
   "source": [
    "5. Write a Python program to find uncommon words from two Strings?"
   ]
  },
  {
   "cell_type": "code",
   "execution_count": 51,
   "id": "2fd50fb3-14da-4705-8da6-5dade8c7e328",
   "metadata": {},
   "outputs": [
    {
     "data": {
      "text/plain": [
       "['a', 'Data', 'name', 'Scientist', 'My']"
      ]
     },
     "execution_count": 51,
     "metadata": {},
     "output_type": "execute_result"
    }
   ],
   "source": [
    "def uncommon_words(X,Y):\n",
    "    X=X.split()\n",
    "    Y=Y.split()\n",
    "    A=[]\n",
    "    for i in X:\n",
    "        if i not in Y:\n",
    "            A.append(i)\n",
    "    for i in  Y:\n",
    "        if i not in X:\n",
    "            A.append(i)\n",
    "    A=list(set(A))\n",
    "    return A\n",
    "X=\"My name is Vamshi Krishna Pula\"\n",
    "Y=\"Vamshi Krishna Pula is a Data Scientist\"\n",
    "uncommon_words(X,Y)"
   ]
  },
  {
   "cell_type": "markdown",
   "id": "513c5bd6-c9ef-44b0-b0b6-2b503d9d7011",
   "metadata": {},
   "source": [
    "6. Write a Python to find all duplicate characters in string?"
   ]
  },
  {
   "cell_type": "code",
   "execution_count": 63,
   "id": "c66ff712-edfc-40be-84ab-045c5106d6dd",
   "metadata": {},
   "outputs": [
    {
     "name": "stdout",
     "output_type": "stream",
     "text": [
      "a e l e m n\n"
     ]
    }
   ],
   "source": [
    "string=\"alexander flemming\"\n",
    "originals=[]\n",
    "duplicates=[]\n",
    "for i in string:\n",
    "    if i not in originals:\n",
    "         originals.append(i)\n",
    "    else:\n",
    "        duplicates.append(i)\n",
    "        \n",
    "print(' '.join(duplicates))\n",
    "        "
   ]
  },
  {
   "cell_type": "code",
   "execution_count": 64,
   "id": "75a63e2e-fcda-4320-9a1e-84bbf740675a",
   "metadata": {},
   "outputs": [
    {
     "name": "stdout",
     "output_type": "stream",
     "text": [
      "a s h i  \n"
     ]
    }
   ],
   "source": [
    "string=\"Vamshi krishna pula\"\n",
    "x=[]\n",
    "for i in string:\n",
    "    if i not in x and string.count(i)>1:\n",
    "        x.append(i)\n",
    "print(' '.join(x))\n",
    "        \n",
    "    "
   ]
  },
  {
   "cell_type": "markdown",
   "id": "af03249d-f5e5-4eb8-9414-874a0d8a9fea",
   "metadata": {},
   "source": [
    "7. Write a Python Program to check if a string contains any special character?"
   ]
  },
  {
   "cell_type": "code",
   "execution_count": 85,
   "id": "9e9b05cd-272a-4d4e-b665-4e60e4489688",
   "metadata": {},
   "outputs": [
    {
     "name": "stdout",
     "output_type": "stream",
     "text": [
      "has specail character\n"
     ]
    }
   ],
   "source": [
    "k='[@_!#$%^&*()<>?/\\|}{~:]'\n",
    "n=\"Helo#oWorld\"\n",
    "flag=False\n",
    "for i in range(len(n)):\n",
    "    if n[i] in k:\n",
    "        flag=True\n",
    "if flag:\n",
    "    print(\"has specail character\")\n",
    "else:\n",
    "    print(\"no specail character\")"
   ]
  },
  {
   "cell_type": "code",
   "execution_count": null,
   "id": "fc1aba65-2a93-46c6-a284-708f272a984c",
   "metadata": {},
   "outputs": [],
   "source": []
  }
 ],
 "metadata": {
  "kernelspec": {
   "display_name": "Python 3 (ipykernel)",
   "language": "python",
   "name": "python3"
  },
  "language_info": {
   "codemirror_mode": {
    "name": "ipython",
    "version": 3
   },
   "file_extension": ".py",
   "mimetype": "text/x-python",
   "name": "python",
   "nbconvert_exporter": "python",
   "pygments_lexer": "ipython3",
   "version": "3.10.6"
  }
 },
 "nbformat": 4,
 "nbformat_minor": 5
}
