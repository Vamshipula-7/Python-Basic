{
 "cells": [
  {
   "cell_type": "markdown",
   "id": "24469819",
   "metadata": {},
   "source": [
    "1.What are the two values of the Boolean data type? How do you write them?"
   ]
  },
  {
   "cell_type": "raw",
   "id": "93e5b2ed",
   "metadata": {},
   "source": [
    "The Two types of boolean data type are: \n",
    "                                      1.True\n",
    "                                      2.False\n",
    "            \n",
    "2<=4 is True\n",
    "2>=4 is False"
   ]
  },
  {
   "cell_type": "markdown",
   "id": "db18f143",
   "metadata": {},
   "source": [
    "2. What are the three different types of Boolean operators?"
   ]
  },
  {
   "cell_type": "raw",
   "id": "5a34080c",
   "metadata": {},
   "source": [
    "The Three Types of Boolean Operators are:\n",
    "                                         1.AND\n",
    "                                         2.OR\n",
    "                                         3.NOT"
   ]
  },
  {
   "cell_type": "markdown",
   "id": "1c78b1d3",
   "metadata": {},
   "source": [
    "3. Make a list of each Boolean operator&#39;s truth tables (i.e. every possible combination of Boolean\n",
    "values for the operator and what it evaluate )."
   ]
  },
  {
   "cell_type": "raw",
   "id": "f95a18f3",
   "metadata": {},
   "source": [
    "True and True is True\n",
    "True and False is False\n",
    "False and True is False\n",
    "False and False is False\n",
    "\n",
    "True or True is True\n",
    "True or False is True\n",
    "False or True is True\n",
    "False or False is False\n",
    "\n",
    "not True is False \n",
    "not False is True\n"
   ]
  },
  {
   "cell_type": "markdown",
   "id": "5dc3f29a",
   "metadata": {},
   "source": [
    "4. What are the values of the following expressions?\n",
    "a.(5 &gt; 4) and (3 == 5)\n",
    "b.not (5 &gt; 4)\n",
    "c.(5 &gt; 4) or (3 == 5)\n",
    "d.not ((5 &gt; 4) or (3 == 5))\n",
    "e.(True and True) and (True == False)\n",
    "f.(not False) or (not True)"
   ]
  },
  {
   "cell_type": "raw",
   "id": "a9183331",
   "metadata": {},
   "source": [
    "(5>4)and(3==5)-False\n",
    "not(5>4)-False\n",
    "(5>4)or(3==5)-True\n",
    "not((5>4)or(3==5))-False\n",
    "(True and True)and(True==False)-False\n",
    "(not False)or(not True)-True"
   ]
  },
  {
   "cell_type": "code",
   "execution_count": 7,
   "id": "77b1f566",
   "metadata": {},
   "outputs": [
    {
     "data": {
      "text/plain": [
       "(False, False, True, False, False, True)"
      ]
     },
     "execution_count": 7,
     "metadata": {},
     "output_type": "execute_result"
    }
   ],
   "source": [
    "(5>4)and(3==5),not(5>4),(5>4)or(3==5),not((5>4)or(3==5)),(True and True)and(True==False),(not False)or(not True)\n"
   ]
  },
  {
   "cell_type": "markdown",
   "id": "9947ce08",
   "metadata": {},
   "source": [
    "5. What are the six comparison operators?"
   ]
  },
  {
   "cell_type": "raw",
   "id": "c4e95d50",
   "metadata": {},
   "source": [
    "The Six Comparison Operators are:\n",
    "    ==\n",
    "    !=\n",
    "    <\n",
    "    >\n",
    "    <=\n",
    "    >="
   ]
  },
  {
   "cell_type": "markdown",
   "id": "6f66e548",
   "metadata": {},
   "source": [
    "6. How do you tell the difference between the equal to and assignment operators?Describe a\n",
    "condition and when you would use one."
   ]
  },
  {
   "cell_type": "raw",
   "id": "5e23b583",
   "metadata": {},
   "source": [
    "== operator compares two Values and Evaluates Boolean\n",
    "= is a Assignment Operator that stores a Value  in  variable.\n",
    "\n",
    "== Operator:\n",
    "2==2-True\n",
    "\n",
    "= Operator:\n",
    "a=2\n"
   ]
  },
  {
   "cell_type": "markdown",
   "id": "5a5f620a",
   "metadata": {},
   "source": [
    "7. Identify the three blocks in this code:\n",
    "spam = 0\n",
    "if spam == 10:\n",
    "print(&#39;eggs&#39;)\n",
    "if spam &gt; 5:\n",
    "print(&#39;bacon&#39;)\n",
    "else:\n",
    "print(&#39;ham&#39;)\n",
    "print(&#39;spam&#39;)\n",
    "print(&#39;spam&#39;)"
   ]
  },
  {
   "cell_type": "markdown",
   "id": "eaea5c86",
   "metadata": {},
   "source": [
    "spam = 0\n",
    "if spam == 10:\n",
    "print(&#39;eggs&#39;)\n",
    "if spam &gt; 5:\n",
    "print(&#39;bacon&#39;)\n",
    "else:\n",
    "print(&#39;ham&#39;)\n",
    "print(&#39;spam&#39;)\n",
    "print(&#39;spam&#39;)"
   ]
  },
  {
   "cell_type": "raw",
   "id": "0ac932af",
   "metadata": {},
   "source": [
    "It only print else statement,beacause above if and elif statements are proved False\n",
    "'ham'\n",
    "'spam'\n",
    "'spam'"
   ]
  },
  {
   "cell_type": "markdown",
   "id": "afd0c860",
   "metadata": {},
   "source": [
    "8. Write code that prints Hello if 1 is stored in spam, prints Howdy if 2 is stored in spam, and prints\n",
    "Greetings! if anything else is stored in spam."
   ]
  },
  {
   "cell_type": "raw",
   "id": "cde0a97d",
   "metadata": {},
   "source": [
    "if spam==1:\n",
    "    print(\"Hello\")\n",
    "elif spam==2:\n",
    "    print(\"Howdy\")\n",
    "else:\n",
    "    print(\"Greetings!\")"
   ]
  },
  {
   "cell_type": "markdown",
   "id": "3033532a",
   "metadata": {},
   "source": [
    "9.If your programme is stuck in an endless loop, what keys you’ll press?"
   ]
  },
  {
   "cell_type": "raw",
   "id": "76d23207",
   "metadata": {},
   "source": [
    "ctrl+c to stop a program stuck in endless loop"
   ]
  },
  {
   "cell_type": "markdown",
   "id": "ed284579",
   "metadata": {},
   "source": [
    "10. How can you tell the difference between break and continue?"
   ]
  },
  {
   "cell_type": "raw",
   "id": "0b042a0e",
   "metadata": {},
   "source": [
    "Break:\n",
    "    skips remaining execution of complete loop and leaves the loop\n",
    "    example:\n",
    "        n=1,2,3,4,5\n",
    "        for i in n:\n",
    "            if i==3:\n",
    "                print(i)\n",
    "    Result:1,2\n",
    "        \n",
    "        \n",
    "Continue:\n",
    "    skips the execution of current statement\n",
    "    \n",
    "    Example:\n",
    "        n=1,2,3,4,5\n",
    "        for i in n:\n",
    "            if i==3:\n",
    "                print(i)\n",
    "                \n",
    "    Result:1,2,4,5\n",
    "    \n",
    "    "
   ]
  },
  {
   "cell_type": "markdown",
   "id": "67d16fc2",
   "metadata": {},
   "source": [
    "11. In a for loop, what is the difference between range(10), range(0, 10), and range(0, 10, 1)?"
   ]
  },
  {
   "cell_type": "raw",
   "id": "ac856690",
   "metadata": {},
   "source": [
    "The three will do the same work\n",
    "range(10):\n",
    "    here it shows,range starts from 0 to 9,excluding 10\n",
    "range(0,10):\n",
    "    here it also shows,range starts from 0 t0 9,excluding 10\n",
    "range(0,10,1):\n",
    "    here it shows,range starts from 0 to 9,excluding 10,gradually increasing by 1 each iteration"
   ]
  },
  {
   "cell_type": "markdown",
   "id": "5667ad08",
   "metadata": {},
   "source": [
    "12. Write a short program that prints the numbers 1 to 10 using a for loop. Then write an equivalent\n",
    "program that prints the numbers 1 to 10 using a while loop."
   ]
  },
  {
   "cell_type": "code",
   "execution_count": 12,
   "id": "5e9cac77",
   "metadata": {},
   "outputs": [
    {
     "name": "stdout",
     "output_type": "stream",
     "text": [
      "1\n",
      "2\n",
      "3\n",
      "4\n",
      "5\n",
      "6\n",
      "7\n",
      "8\n",
      "9\n",
      "10\n",
      "1\n",
      "2\n",
      "3\n",
      "4\n",
      "5\n",
      "6\n",
      "7\n",
      "8\n",
      "9\n",
      "10\n"
     ]
    }
   ],
   "source": [
    "#using For loop:\n",
    "for i in range(1,11):\n",
    "    print(i)\n",
    "\n",
    "#While Loop:\n",
    "i=1\n",
    "while i<=10:\n",
    "    print(i)\n",
    "    i=i+1\n",
    "    \n",
    "    "
   ]
  },
  {
   "cell_type": "markdown",
   "id": "a913f964",
   "metadata": {},
   "source": [
    "13. If you had a function named bacon() inside a module named spam, how would you call it after\n",
    "importing spam?"
   ]
  },
  {
   "cell_type": "raw",
   "id": "bdb98089",
   "metadata": {},
   "source": [
    "spam.bacon()"
   ]
  },
  {
   "cell_type": "code",
   "execution_count": null,
   "id": "2cba8a5a",
   "metadata": {},
   "outputs": [],
   "source": []
  }
 ],
 "metadata": {
  "kernelspec": {
   "display_name": "Python 3 (ipykernel)",
   "language": "python",
   "name": "python3"
  },
  "language_info": {
   "codemirror_mode": {
    "name": "ipython",
    "version": 3
   },
   "file_extension": ".py",
   "mimetype": "text/x-python",
   "name": "python",
   "nbconvert_exporter": "python",
   "pygments_lexer": "ipython3",
   "version": "3.9.12"
  }
 },
 "nbformat": 4,
 "nbformat_minor": 5
}
