{
 "cells": [
  {
   "cell_type": "markdown",
   "id": "80f5ebd5-99e0-4de7-b8c4-5939b3395157",
   "metadata": {},
   "source": [
    "1. Write a Python program to print &quot;Hello Python&quot;?"
   ]
  },
  {
   "cell_type": "code",
   "execution_count": 1,
   "id": "0d09d7c0-53dc-4d15-a6f6-7491b2398894",
   "metadata": {},
   "outputs": [
    {
     "name": "stdout",
     "output_type": "stream",
     "text": [
      "Hello python\n"
     ]
    }
   ],
   "source": [
    "print(\"Hello python\")"
   ]
  },
  {
   "cell_type": "markdown",
   "id": "e3d8f953-6f11-4635-ba02-c70c0bd06c13",
   "metadata": {},
   "source": [
    "2. Write a Python program to do arithmetical operations addition and division.?"
   ]
  },
  {
   "cell_type": "code",
   "execution_count": 2,
   "id": "9339c5c5-e738-4218-9682-6f75bea50384",
   "metadata": {},
   "outputs": [
    {
     "name": "stdout",
     "output_type": "stream",
     "text": [
      "115\n",
      "0.6428571428571429\n"
     ]
    }
   ],
   "source": [
    "num_1=45\n",
    "num_2=70\n",
    "addition=num_1+num_2\n",
    "division=num_1/num_2\n",
    "print(addition)\n",
    "print(division)"
   ]
  },
  {
   "cell_type": "markdown",
   "id": "b4f64917-f093-4cd1-827c-8ad1f7bff9f5",
   "metadata": {},
   "source": [
    "3. Write a Python program to find the area of a triangle?"
   ]
  },
  {
   "cell_type": "code",
   "execution_count": 4,
   "id": "d8cac8bf-ea02-46f6-a125-379115626d75",
   "metadata": {},
   "outputs": [
    {
     "name": "stdout",
     "output_type": "stream",
     "text": [
      "17.5\n"
     ]
    }
   ],
   "source": [
    "base=5\n",
    "height=7\n",
    "Area_of_Triangle=1/2*base*height\n",
    "print(Area_of_Triangle)"
   ]
  },
  {
   "cell_type": "markdown",
   "id": "2b084cfc-92cd-4734-8747-0d20dae0863b",
   "metadata": {},
   "source": [
    "4. Write a Python program to swap two variables?"
   ]
  },
  {
   "cell_type": "code",
   "execution_count": 6,
   "id": "bcbb4e2b-801f-41fd-804b-5cfa50956fde",
   "metadata": {},
   "outputs": [
    {
     "name": "stdout",
     "output_type": "stream",
     "text": [
      "Before swapping\n",
      "a:  25\n",
      "b:  70\n",
      "After Swapping\n",
      "a:  70\n",
      "b:  25\n"
     ]
    }
   ],
   "source": [
    "a=25\n",
    "b=70\n",
    "print(\"Before swapping\")\n",
    "print(\"a: \",a)\n",
    "print(\"b: \",b)\n",
    "temp=a\n",
    "a=b\n",
    "b=temp\n",
    "print(\"After Swapping\")\n",
    "print(\"a: \",a)\n",
    "print(\"b: \",b)"
   ]
  },
  {
   "cell_type": "code",
   "execution_count": 7,
   "id": "62c7c88e-e4fe-426e-9e3c-3cb2cfb3914f",
   "metadata": {},
   "outputs": [
    {
     "name": "stdout",
     "output_type": "stream",
     "text": [
      "70\n",
      "25\n"
     ]
    }
   ],
   "source": [
    "a=25\n",
    "b=70\n",
    "#swapping\n",
    "a,b=b,a\n",
    "print(a)\n",
    "print(b)"
   ]
  },
  {
   "cell_type": "markdown",
   "id": "922fb3b0-209e-4269-aa65-e427e7121990",
   "metadata": {},
   "source": [
    "5. Write a Python program to generate a random number?"
   ]
  },
  {
   "cell_type": "code",
   "execution_count": 9,
   "id": "282d082a-f920-4654-87d8-1128d97d622f",
   "metadata": {},
   "outputs": [
    {
     "data": {
      "text/plain": [
       "104"
      ]
     },
     "execution_count": 9,
     "metadata": {},
     "output_type": "execute_result"
    }
   ],
   "source": [
    "import random\n",
    "\n",
    "random.randint(0,120)"
   ]
  },
  {
   "cell_type": "code",
   "execution_count": 12,
   "id": "e1f186f3-79fa-421c-b5cf-7481ffba850e",
   "metadata": {},
   "outputs": [
    {
     "data": {
      "text/plain": [
       "0.025764368715741726"
      ]
     },
     "execution_count": 12,
     "metadata": {},
     "output_type": "execute_result"
    }
   ],
   "source": [
    "import random\n",
    "\n",
    "random.random()"
   ]
  },
  {
   "cell_type": "code",
   "execution_count": null,
   "id": "427c4f0c-420a-4dc6-b970-252e22734873",
   "metadata": {},
   "outputs": [],
   "source": []
  }
 ],
 "metadata": {
  "kernelspec": {
   "display_name": "Python 3 (ipykernel)",
   "language": "python",
   "name": "python3"
  },
  "language_info": {
   "codemirror_mode": {
    "name": "ipython",
    "version": 3
   },
   "file_extension": ".py",
   "mimetype": "text/x-python",
   "name": "python",
   "nbconvert_exporter": "python",
   "pygments_lexer": "ipython3",
   "version": "3.10.6"
  }
 },
 "nbformat": 4,
 "nbformat_minor": 5
}
