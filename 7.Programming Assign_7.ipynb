{
 "cells": [
  {
   "cell_type": "markdown",
   "id": "b7a61a90-03b9-4b95-b413-278b0d3ca58a",
   "metadata": {},
   "source": [
    "1. Write a Python Program to find sum of array?"
   ]
  },
  {
   "cell_type": "code",
   "execution_count": 3,
   "id": "7d2b1b37-54f0-44bf-95f8-f023c429ad88",
   "metadata": {},
   "outputs": [
    {
     "data": {
      "text/plain": [
       "15"
      ]
     },
     "execution_count": 3,
     "metadata": {},
     "output_type": "execute_result"
    }
   ],
   "source": [
    "\n",
    "def array_sum():\n",
    "    sum=0\n",
    "    for i in array:\n",
    "        sum+=i\n",
    "    return sum\n",
    "\n",
    "array=[1,2,3,4,5]\n",
    "array_sum()"
   ]
  },
  {
   "cell_type": "markdown",
   "id": "6a7bc920-23d7-4b0a-81d2-4766735f9fdb",
   "metadata": {},
   "source": [
    "2. Write a Python Program to find largest element in an array?"
   ]
  },
  {
   "cell_type": "code",
   "execution_count": 4,
   "id": "afaec169-9a8e-45b3-b348-7ac4d141e165",
   "metadata": {},
   "outputs": [
    {
     "data": {
      "text/plain": [
       "89"
      ]
     },
     "execution_count": 4,
     "metadata": {},
     "output_type": "execute_result"
    }
   ],
   "source": [
    "\n",
    "def array_large(array):\n",
    "    large=0\n",
    "    for i in array:\n",
    "        if i>large:\n",
    "            large =i\n",
    "    return large\n",
    "array_large([45,89,65,23,87])\n",
    "    "
   ]
  },
  {
   "cell_type": "markdown",
   "id": "981a0aa7-785a-44fd-b4d9-5e85a6405cb6",
   "metadata": {},
   "source": [
    "3. Write a Python Program for array rotation?"
   ]
  },
  {
   "cell_type": "code",
   "execution_count": 7,
   "id": "f4b25a33-771b-4ce2-bf85-0a26b0a64286",
   "metadata": {},
   "outputs": [
    {
     "data": {
      "text/plain": [
       "[87, 23, 65, 89, 45]"
      ]
     },
     "execution_count": 7,
     "metadata": {},
     "output_type": "execute_result"
    }
   ],
   "source": [
    "def array_rot(n):\n",
    "    array1=n[::-1]\n",
    "    return array1 \n",
    "    \n",
    "array_rot([45,89,65,23,87])\n",
    "    "
   ]
  },
  {
   "cell_type": "markdown",
   "id": "101a6c4a-1d59-4cf3-9bf6-fdb75fc701b4",
   "metadata": {},
   "source": [
    "4. Write a Python Program to Split the array and add the first part to the end?"
   ]
  },
  {
   "cell_type": "code",
   "execution_count": 16,
   "id": "80d28028-1627-44c0-8e7a-c61483994c63",
   "metadata": {},
   "outputs": [
    {
     "name": "stdout",
     "output_type": "stream",
     "text": [
      "3 4 5 6 1 2 "
     ]
    }
   ],
   "source": [
    "arr=[1,2,3,4,5,6]\n",
    "temp1=[]\n",
    "temp2=[]\n",
    "position=2\n",
    "temp1=arr[:position]\n",
    "temp2=arr[position:]\n",
    "temp2.extend(temp1)\n",
    "for i in temp2:\n",
    "    print(i,end=\" \")\n",
    "    "
   ]
  },
  {
   "cell_type": "markdown",
   "id": "0a4ec4ff-d15e-4005-81a9-e0a31f135000",
   "metadata": {},
   "source": [
    "5. Write a Python Program to check if given array is Monotonic?"
   ]
  },
  {
   "cell_type": "code",
   "execution_count": 19,
   "id": "ed2b0610-01a6-4b3a-9680-d6570d801421",
   "metadata": {},
   "outputs": [
    {
     "name": "stdout",
     "output_type": "stream",
     "text": [
      "Its a Monotonic Array\n"
     ]
    }
   ],
   "source": [
    "a=[89,56,32,23,12,8,3]\n",
    "x=[]\n",
    "y=[]\n",
    "x.extend(a)\n",
    "y.extend(a)\n",
    "x.sort()\n",
    "y.sort(reverse=True)\n",
    "if (a==x) or (a==y):\n",
    "    True \n",
    "    print(\"Its a Monotonic Array\")\n",
    "else:\n",
    "    print(\"Its not a Monotonic Array\")"
   ]
  },
  {
   "cell_type": "code",
   "execution_count": null,
   "id": "1e23a0ae-28f1-4d4d-a8d8-85f7a77cf370",
   "metadata": {},
   "outputs": [],
   "source": []
  }
 ],
 "metadata": {
  "kernelspec": {
   "display_name": "Python 3 (ipykernel)",
   "language": "python",
   "name": "python3"
  },
  "language_info": {
   "codemirror_mode": {
    "name": "ipython",
    "version": 3
   },
   "file_extension": ".py",
   "mimetype": "text/x-python",
   "name": "python",
   "nbconvert_exporter": "python",
   "pygments_lexer": "ipython3",
   "version": "3.10.6"
  }
 },
 "nbformat": 4,
 "nbformat_minor": 5
}
