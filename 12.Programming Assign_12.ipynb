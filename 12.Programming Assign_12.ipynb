{
 "cells": [
  {
   "cell_type": "markdown",
   "id": "30fa2485-7842-4556-a087-3e13a03dafcf",
   "metadata": {},
   "source": [
    "1. Write a Python program to Extract Unique values dictionary values?"
   ]
  },
  {
   "cell_type": "code",
   "execution_count": 22,
   "id": "a7d16119-6eb8-42cb-84ad-ac385156f723",
   "metadata": {},
   "outputs": [
    {
     "name": "stdout",
     "output_type": "stream",
     "text": [
      "[90, 91, 92, 93, 96, 97, 98, 99, 100]\n"
     ]
    }
   ],
   "source": [
    "d={\"vamshi\":[90,96,97],\"sahithi\":[91,92,93],\"sreenika\":[99,100,98]}\n",
    "x=[]\n",
    "for i in d.keys():\n",
    "    x.extend(d[i])\n",
    "x=list(set(x))\n",
    "x.sort()\n",
    "print(x)"
   ]
  },
  {
   "cell_type": "markdown",
   "id": "04a220f2-48fe-4777-bc6e-8b23a02834ab",
   "metadata": {},
   "source": [
    "2. Write a Python program to find the sum of all items in a dictionary?"
   ]
  },
  {
   "cell_type": "code",
   "execution_count": 26,
   "id": "704bb072-cfed-4a8a-a94b-5e77dff0148e",
   "metadata": {},
   "outputs": [
    {
     "name": "stdout",
     "output_type": "stream",
     "text": [
      "856\n"
     ]
    }
   ],
   "source": [
    "d={\"vamshi\":[90,96,97],\"sahithi\":[91,92,93],\"sreenika\":[99,100,98]}\n",
    "x=list(set(sum(d.values(),[])))\n",
    "sum=0\n",
    "for i in x:\n",
    "    sum+=i\n",
    "print(sum)\n",
    "    \n"
   ]
  },
  {
   "cell_type": "markdown",
   "id": "a6b2b055-5f6d-4e5f-a61e-765061e215ea",
   "metadata": {},
   "source": [
    "3. Write a Python program to Merging two Dictionaries?"
   ]
  },
  {
   "cell_type": "code",
   "execution_count": 49,
   "id": "0f05a271-0f7c-47ba-afac-762c44117c83",
   "metadata": {},
   "outputs": [
    {
     "data": {
      "text/plain": [
       "{'a': 1, 'b': 2, 'c': 3, 'd': 4, 'e': 5, 'f': 6}"
      ]
     },
     "execution_count": 49,
     "metadata": {},
     "output_type": "execute_result"
    }
   ],
   "source": [
    "def Merge1(dict1,dict2):\n",
    "    result=({**dict1,**dict2})\n",
    "    return result\n",
    "dict1={\"a\":1,\"b\":2,\"c\":3}\n",
    "dict2={\"d\":4,\"e\":5,\"f\":6}\n",
    "Merge1(dict1,dict2)"
   ]
  },
  {
   "cell_type": "code",
   "execution_count": 36,
   "id": "4aac4f88-a0cf-433d-b4cc-2e41541b8908",
   "metadata": {},
   "outputs": [
    {
     "data": {
      "text/plain": [
       "{'a': 1, 'b': 2, 'c': 3, 'd': 4, 'e': 5, 'f': 6}"
      ]
     },
     "execution_count": 36,
     "metadata": {},
     "output_type": "execute_result"
    }
   ],
   "source": [
    "def Merge2(dict1,dict2):\n",
    "    res=(dict2.update(dict1))\n",
    "    return res\n",
    "dict1={\"a\":1,\"b\":2,\"c\":3}\n",
    "dict2={\"d\":4,\"e\":5,\"f\":6}\n",
    "Merge1(dict1,dict2)"
   ]
  },
  {
   "cell_type": "code",
   "execution_count": 38,
   "id": "20f52f69-24f7-4470-aec8-16af052f73d9",
   "metadata": {},
   "outputs": [
    {
     "data": {
      "text/plain": [
       "{'a': 1, 'b': 2, 'c': 3, 'd': 4, 'e': 9, 'f': 6}"
      ]
     },
     "execution_count": 38,
     "metadata": {},
     "output_type": "execute_result"
    }
   ],
   "source": [
    "def Merge3(dict1,dict2):\n",
    "    x=(dict1 | dict2)\n",
    "    return x\n",
    "dict1={\"a\":1,\"b\":2,\"c\":3}\n",
    "dict2={\"d\":4,\"e\":9,\"f\":6}\n",
    "Merge1(dict1,dict2)"
   ]
  },
  {
   "cell_type": "markdown",
   "id": "945ec793-8357-41e3-bf76-9339d3a2cc2e",
   "metadata": {},
   "source": [
    "4. Write a Python program to convert key-values list to flat dictionary?"
   ]
  },
  {
   "cell_type": "code",
   "execution_count": 44,
   "id": "626d292c-d35a-4b46-bf1e-b62906149a17",
   "metadata": {},
   "outputs": [
    {
     "data": {
      "text/plain": [
       "{'vamshi': 145, 'sahithi': 73, 'sreenika': 111}"
      ]
     },
     "execution_count": 44,
     "metadata": {},
     "output_type": "execute_result"
    }
   ],
   "source": [
    "from itertools import product\n",
    "def flat(dict1):\n",
    "    res=dict(zip(dict1[\"name\"],dict1[\"rollno\"]))\n",
    "    return res\n",
    "        \n",
    "        \n",
    "dict1={\"name\":[\"vamshi\",\"sahithi\",\"sreenika\"],\n",
    "       \"rollno\":[145,73,111]}\n",
    "flat(dict1)"
   ]
  },
  {
   "cell_type": "markdown",
   "id": "5fd1ef6f-5817-4a49-9f03-35fa2f01543e",
   "metadata": {},
   "source": [
    "5. Write a Python program to insertion at the beginning in OrderedDict?"
   ]
  },
  {
   "cell_type": "code",
   "execution_count": 54,
   "id": "4353b62b-1875-4b74-861b-3c4a6c441982",
   "metadata": {},
   "outputs": [
    {
     "name": "stdout",
     "output_type": "stream",
     "text": [
      "OrderedDict([(3, 'Sakshi'), (1, 'vamshi'), (2, 'sahithi')])\n"
     ]
    }
   ],
   "source": [
    "from collections import OrderedDict\n",
    "\n",
    "dict1=OrderedDict({1:\"vamshi\",2:\"sahithi\"})\n",
    "dict1.update({3:\"Sakshi\"})\n",
    "dict1.move_to_end(3,last=False)\n",
    "print(dict1)\n"
   ]
  },
  {
   "cell_type": "markdown",
   "id": "38df54b0-4e26-42d6-97b5-5b541308f845",
   "metadata": {},
   "source": [
    "6. Write a Python program to check order of character in string using OrderedDict()?"
   ]
  },
  {
   "cell_type": "code",
   "execution_count": 13,
   "id": "2c701cb6-f0e5-41e9-b893-de62e77dbbc8",
   "metadata": {},
   "outputs": [
    {
     "data": {
      "text/plain": [
       "'The Order of pattern is correct'"
      ]
     },
     "execution_count": 13,
     "metadata": {},
     "output_type": "execute_result"
    }
   ],
   "source": [
    "from collections import OrderedDict\n",
    "def check(input1,pattern):\n",
    "    dict1=OrderedDict.fromkeys(input1)\n",
    "    pattern_len=0\n",
    "    for key,value in dict1.items():\n",
    "        if (key==pattern[pattern_len]):\n",
    "            pattern_len=pattern_len+1\n",
    "        \n",
    "        if (pattern_len==len(pattern)):\n",
    "            return \"The Order of pattern is correct\"\n",
    "    return \"The order of pattern is not correct\"\n",
    "\n",
    "input1=\"Hi Vamshi\"\n",
    "pattern=\"Va\"\n",
    "check(input1,pattern)\n",
    "        \n",
    "    "
   ]
  },
  {
   "cell_type": "markdown",
   "id": "2c187aee-080a-4194-b728-c60813b9e8b3",
   "metadata": {},
   "source": [
    "7. Write a Python program to sort Python Dictionaries by Key or Value?"
   ]
  },
  {
   "cell_type": "code",
   "execution_count": 20,
   "id": "9628e12c-9231-40e4-8531-a2117be6aa6f",
   "metadata": {},
   "outputs": [
    {
     "name": "stdout",
     "output_type": "stream",
     "text": [
      "OrderedDict([('ammu', 97), ('sahithi', 99), ('sreenika', 100), ('vamshi', 98)])\n"
     ]
    }
   ],
   "source": [
    "from collections import OrderedDict\n",
    "dict1={\"vamshi\":98,\"sahithi\":99,\"sreenika\":100,\"ammu\":97}\n",
    "myDict=OrderedDict(sorted(dict1.items()))\n",
    "print(myDict)"
   ]
  },
  {
   "cell_type": "code",
   "execution_count": null,
   "id": "c6b0feaa-9993-4668-8989-07debb6e6ddb",
   "metadata": {},
   "outputs": [],
   "source": []
  }
 ],
 "metadata": {
  "kernelspec": {
   "display_name": "Python 3 (ipykernel)",
   "language": "python",
   "name": "python3"
  },
  "language_info": {
   "codemirror_mode": {
    "name": "ipython",
    "version": 3
   },
   "file_extension": ".py",
   "mimetype": "text/x-python",
   "name": "python",
   "nbconvert_exporter": "python",
   "pygments_lexer": "ipython3",
   "version": "3.10.6"
  }
 },
 "nbformat": 4,
 "nbformat_minor": 5
}
