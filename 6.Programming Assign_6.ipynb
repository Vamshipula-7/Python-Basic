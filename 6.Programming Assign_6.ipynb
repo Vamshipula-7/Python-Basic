{
 "cells": [
  {
   "cell_type": "markdown",
   "id": "1b3c24ca-8999-48af-9fae-f1eb7f2b3e7f",
   "metadata": {},
   "source": [
    "1. Write a Python Program to Display Fibonacci Sequence Using Recursion?"
   ]
  },
  {
   "cell_type": "code",
   "execution_count": 15,
   "id": "3c490d57-b9b7-4469-bfe2-130866344487",
   "metadata": {},
   "outputs": [
    {
     "name": "stdout",
     "output_type": "stream",
     "text": [
      "0\n",
      "1\n",
      "1\n",
      "2\n",
      "3\n",
      "5\n",
      "8\n",
      "13\n",
      "21\n",
      "34\n"
     ]
    }
   ],
   "source": [
    "def fibo(n):\n",
    "    a=0\n",
    "    b=1\n",
    "    if n==0:\n",
    "        return a\n",
    "        \n",
    "    elif n==1:\n",
    "        return b\n",
    "    else:\n",
    "        print(a)\n",
    "        print(b)\n",
    "        for i in range(2,n):\n",
    "            c=a+b\n",
    "            a=b\n",
    "            b=c\n",
    "            print(c)\n",
    "\n",
    "fibo(10)\n"
   ]
  },
  {
   "cell_type": "markdown",
   "id": "ad6b117c-6605-4285-8237-28430421a54c",
   "metadata": {},
   "source": [
    "2. Write a Python Program to Find Factorial of Number Using Recursion?"
   ]
  },
  {
   "cell_type": "code",
   "execution_count": 20,
   "id": "be27c060-b824-4e31-9c80-fcc6d517c7cc",
   "metadata": {},
   "outputs": [
    {
     "name": "stdout",
     "output_type": "stream",
     "text": [
      "720\n"
     ]
    }
   ],
   "source": [
    "def fact(n):\n",
    "    fact=1\n",
    "    for i in range(1,n+1):\n",
    "        fact=fact*i\n",
    "    print(fact)\n",
    "fact(6)"
   ]
  },
  {
   "cell_type": "markdown",
   "id": "ac6d89e9-0c70-4851-b70c-98a15e67f63d",
   "metadata": {},
   "source": [
    "3. Write a Python Program to calculate your Body Mass Index?"
   ]
  },
  {
   "cell_type": "code",
   "execution_count": 47,
   "id": "d965ea41-95c3-4a5f-bedb-eb6786c94e75",
   "metadata": {},
   "outputs": [
    {
     "name": "stdin",
     "output_type": "stream",
     "text": [
      "Enter weight in kgs:  65\n",
      "Enter height in meters:  1.76\n"
     ]
    },
    {
     "name": "stdout",
     "output_type": "stream",
     "text": [
      "20.983987603305785\n",
      "You are healthy.\n"
     ]
    }
   ],
   "source": [
    "weight=float(input(\"Enter weight in kgs: \"))\n",
    "height=float(input(\"Enter height in meters: \"))\n",
    "\n",
    "BMI=(weight/height**2)\n",
    "print(BMI)\n",
    "             \n",
    "if BMI <= 18.4:\n",
    "    print(\"You are underweight.\")\n",
    "elif BMI <= 24.9:\n",
    "    print(\"You are healthy.\")\n",
    "elif BMI <= 29.9:\n",
    "    print(\"You are over weight.\")\n",
    "elif BMI <= 34.9:\n",
    "    print(\"You are severely over weight.\")\n",
    "elif BMI <= 39.9:\n",
    "    print(\"You are obese.\")\n",
    "else:\n",
    "    print(\"You are severely obese.\")\n"
   ]
  },
  {
   "cell_type": "markdown",
   "id": "4e7c5e6a-5d92-4cf6-adc9-ca2b1142a051",
   "metadata": {},
   "source": [
    "4. Write a Python Program to calculate the natural logarithm of any number?"
   ]
  },
  {
   "cell_type": "code",
   "execution_count": 48,
   "id": "c97d2e28-f87f-4d8a-81bc-1e2c49a2a915",
   "metadata": {},
   "outputs": [
    {
     "name": "stdout",
     "output_type": "stream",
     "text": [
      "The natural Logarithm of Base 6 of 14:  1.4728859397362333\n",
      "The natural Logarithm of 5:  1.6094379124341003\n"
     ]
    }
   ],
   "source": [
    "import math\n",
    "print(\"The natural Logarithm of Base 6 of 14: \",math.log(14,6))\n",
    "print(\"The natural Logarithm of 5: \",math.log(5))"
   ]
  },
  {
   "cell_type": "markdown",
   "id": "2f93dd17-45f6-41b2-ae46-4712c56066fb",
   "metadata": {},
   "source": [
    "5. Write a Python Program for cube sum of first n natural numbers?"
   ]
  },
  {
   "cell_type": "code",
   "execution_count": 51,
   "id": "ff4e1fda-22c4-4a1f-b048-64fecb732439",
   "metadata": {},
   "outputs": [
    {
     "data": {
      "text/plain": [
       "3025.0"
      ]
     },
     "execution_count": 51,
     "metadata": {},
     "output_type": "execute_result"
    }
   ],
   "source": [
    "def sum_cube(n):\n",
    "    sum_cube=(n**2)*(n+1)**2/4\n",
    "    return sum_cube\n",
    "sum_cube(10)"
   ]
  },
  {
   "cell_type": "code",
   "execution_count": null,
   "id": "c90b6f84-c3ce-4227-96c9-aa1d52e25b68",
   "metadata": {},
   "outputs": [],
   "source": []
  }
 ],
 "metadata": {
  "kernelspec": {
   "display_name": "Python 3 (ipykernel)",
   "language": "python",
   "name": "python3"
  },
  "language_info": {
   "codemirror_mode": {
    "name": "ipython",
    "version": 3
   },
   "file_extension": ".py",
   "mimetype": "text/x-python",
   "name": "python",
   "nbconvert_exporter": "python",
   "pygments_lexer": "ipython3",
   "version": "3.10.6"
  }
 },
 "nbformat": 4,
 "nbformat_minor": 5
}
