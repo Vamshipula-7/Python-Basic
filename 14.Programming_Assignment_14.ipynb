{
 "cells": [
  {
   "cell_type": "markdown",
   "id": "1488b31b-566f-4c71-9994-9f68e5cdf6d4",
   "metadata": {},
   "source": [
    "Question-1"
   ]
  },
  {
   "cell_type": "code",
   "execution_count": 34,
   "id": "252444f8-fe39-4966-bdc2-6093a8465d42",
   "metadata": {},
   "outputs": [
    {
     "name": "stdout",
     "output_type": "stream",
     "text": [
      "[[0, 7, 14, 21, 28, 35, 42, 49, 56, 63, 70, 77, 84, 91, 98]]\n"
     ]
    }
   ],
   "source": [
    "\n",
    "def Div1(n):\n",
    "    yes=[]\n",
    "    for i in range(n):\n",
    "        if i%7==0:\n",
    "            yes.append(i)\n",
    "    yield yes\n",
    "        \n",
    "print(list(Div1(100)))\n",
    "                "
   ]
  },
  {
   "cell_type": "markdown",
   "id": "5eeca7d6-1484-4458-b489-204a535f9736",
   "metadata": {},
   "source": [
    "Question-2"
   ]
  },
  {
   "cell_type": "code",
   "execution_count": 54,
   "id": "d2479123-9b17-47ae-8ecb-668bfcc97bb9",
   "metadata": {},
   "outputs": [
    {
     "name": "stdout",
     "output_type": "stream",
     "text": [
      "['New', 'to', 'Python', 'or', 'choosing', 'between', 'Python', '2', 'and', 'Python', '3?', 'Read', 'Python', '2', 'or', 'Python', '3']\n",
      "{'New': 0, 'to': 0, 'Python': 0, 'or': 0, 'choosing': 0, 'between': 0, '2': 0, 'and': 0, '3?': 0, 'Read': 0, '3': 0}\n",
      "New:0\n",
      "to:0\n",
      "Python:0\n",
      "or:0\n",
      "choosing:0\n",
      "between:0\n",
      "2:0\n",
      "and:0\n",
      "3?:0\n",
      "Read:0\n",
      "3:0\n"
     ]
    }
   ],
   "source": [
    "String=\"New to Python or choosing between Python 2 and Python 3? Read Python 2 or Python 3\"\n",
    "String=String.split(\" \")\n",
    "print(String)\n",
    "dict=dict.fromkeys(String,0)\n",
    "print(dict)\n",
    "for i in String:\n",
    "    dict[i]=dict[i]+1\n",
    "for i in dict:\n",
    "    print(\"{}:{}\".format(i,dict[i]))"
   ]
  },
  {
   "cell_type": "markdown",
   "id": "65c66d5c-4c54-4cd6-a74c-7c1e00265f63",
   "metadata": {},
   "source": [
    "Question-3"
   ]
  },
  {
   "cell_type": "code",
   "execution_count": 21,
   "id": "bd10271e-da40-47d6-909d-a2f0b03431ab",
   "metadata": {},
   "outputs": [
    {
     "name": "stdout",
     "output_type": "stream",
     "text": [
      "Female\n",
      "Male\n"
     ]
    }
   ],
   "source": [
    "class Person(object):\n",
    "    def __init__(self):\n",
    "        self.gender = \"unknown\"\n",
    "\n",
    "    def getGender(self):\n",
    "        print(self.gender)\n",
    "\n",
    "class Male(Person):\n",
    "    def __init__(self):\n",
    "        self.gender = \"Male\"\n",
    "\n",
    "class Female(Person):\n",
    "    def __init__(self):\n",
    "        self.gender = \"Female\"\n",
    "\n",
    "f = Female()\n",
    "m= Male()\n",
    "f.getGender()\n",
    "m.getGender()"
   ]
  },
  {
   "cell_type": "markdown",
   "id": "103220da-bc13-4d04-aaca-bb404882c2a1",
   "metadata": {},
   "source": [
    "Question-4"
   ]
  },
  {
   "cell_type": "code",
   "execution_count": 8,
   "id": "d7adc05d-5d54-4941-8a1b-aa36ab392dcb",
   "metadata": {},
   "outputs": [
    {
     "data": {
      "text/plain": [
       "['I play Cricket',\n",
       " 'I play Hockey',\n",
       " 'I Love Cricket',\n",
       " 'I Love Hockey',\n",
       " 'You play Cricket',\n",
       " 'You play Hockey',\n",
       " 'You Love Cricket',\n",
       " 'You Love Hockey']"
      ]
     },
     "execution_count": 8,
     "metadata": {},
     "output_type": "execute_result"
    }
   ],
   "source": [
    "def sen(Subject,Verb,Object):\n",
    "    output=[]\n",
    "    for i in Subject:\n",
    "        for j in Verb:\n",
    "            for k in Object:\n",
    "                output.append(i+\" \"+j+\" \"+k)\n",
    "    return output\n",
    "Subject=[\"I\",\"You\"]\n",
    "Verb=[\"play\",\"Love\"]\n",
    "Object=[\"Cricket\",\"Hockey\"]\n",
    "sen(Subject,Verb,Object)"
   ]
  },
  {
   "cell_type": "markdown",
   "id": "c1709332-7f17-4151-8c6a-54c55d649712",
   "metadata": {},
   "source": [
    "Question-5"
   ]
  },
  {
   "cell_type": "markdown",
   "id": "71460d57-b247-4631-83ab-2151dcae34b6",
   "metadata": {},
   "source": [
    "Please write a program to compress and decompress the string &quot;hello world!hello\n",
    "world!hello world!hello world!&quot;."
   ]
  },
  {
   "cell_type": "code",
   "execution_count": 18,
   "id": "07b2b7aa-5bc2-4162-bdf8-a8f9a82d3140",
   "metadata": {},
   "outputs": [
    {
     "name": "stdout",
     "output_type": "stream",
     "text": [
      "b'x\\x9c\\xcbH\\xcd\\xc9\\xc9W(\\xcf/\\xcaIQ\\xcc \\x82\\r\\x00\\xbd[\\x11\\xf5'\n",
      "b'hello world!hello world!hello world!hello world!'\n"
     ]
    }
   ],
   "source": [
    "import zlib\n",
    "String= \"hello world!hello world!hello world!hello world!\"\n",
    "byte=bytes(String,'utf-8')\n",
    "String_compress=zlib.compress(byte)\n",
    "print(String_compress)\n",
    "print(zlib.decompress(String_compress))\n"
   ]
  },
  {
   "cell_type": "markdown",
   "id": "a3ba6fa9-b3eb-4e26-9d37-66e6548ad367",
   "metadata": {},
   "source": [
    "Question-6"
   ]
  },
  {
   "cell_type": "markdown",
   "id": "182ec702-811b-4105-827d-143f2190bfed",
   "metadata": {},
   "source": [
    "Please write a binary search function which searches an item in a sorted list. The\n",
    "function should return the index of element to be searched in the list."
   ]
  },
  {
   "cell_type": "code",
   "execution_count": 6,
   "id": "0985cf56-840b-458a-a7d2-7c5bdeb0347f",
   "metadata": {},
   "outputs": [
    {
     "data": {
      "text/plain": [
       "[10]"
      ]
     },
     "execution_count": 6,
     "metadata": {},
     "output_type": "execute_result"
    }
   ],
   "source": [
    "def binary_search(list1,target):\n",
    "    index=[]\n",
    "    for i in range(len(list1)):\n",
    "        if list1[i]==target:\n",
    "            index.append(i)\n",
    "    return index\n",
    "binary_search([1,5,8,10,12,13,55,66,73,78,82,85,88,99] ,82)        \n",
    "        "
   ]
  }
 ],
 "metadata": {
  "kernelspec": {
   "display_name": "Python 3 (ipykernel)",
   "language": "python",
   "name": "python3"
  },
  "language_info": {
   "codemirror_mode": {
    "name": "ipython",
    "version": 3
   },
   "file_extension": ".py",
   "mimetype": "text/x-python",
   "name": "python",
   "nbconvert_exporter": "python",
   "pygments_lexer": "ipython3",
   "version": "3.10.6"
  }
 },
 "nbformat": 4,
 "nbformat_minor": 5
}
