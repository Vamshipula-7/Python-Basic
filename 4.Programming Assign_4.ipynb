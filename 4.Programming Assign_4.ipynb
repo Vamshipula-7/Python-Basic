{
 "cells": [
  {
   "cell_type": "markdown",
   "id": "dccbfbc2-dcbe-4d51-8638-f33e473064bf",
   "metadata": {},
   "source": [
    "1. Write a Python Program to Find the Factorial of a Number?"
   ]
  },
  {
   "cell_type": "code",
   "execution_count": 15,
   "id": "1d7a660e-71a2-4fdf-a007-8610f570895a",
   "metadata": {},
   "outputs": [
    {
     "name": "stdin",
     "output_type": "stream",
     "text": [
      "Enter the Number:  7\n"
     ]
    },
    {
     "name": "stdout",
     "output_type": "stream",
     "text": [
      "5040\n"
     ]
    }
   ],
   "source": [
    "n=int(input(\"Enter the Number: \"))\n",
    "fact=1\n",
    "for i in range(1,n+1):\n",
    "    fact=fact*i\n",
    "print(fact)"
   ]
  },
  {
   "cell_type": "markdown",
   "id": "a9581c9a-6377-4c88-8bd9-8480430ef160",
   "metadata": {},
   "source": [
    "2. Write a Python Program to Display the multiplication Table?"
   ]
  },
  {
   "cell_type": "code",
   "execution_count": 17,
   "id": "214cef10-1932-4495-88be-676af533e030",
   "metadata": {},
   "outputs": [
    {
     "name": "stdin",
     "output_type": "stream",
     "text": [
      "Eneter the number:  5\n"
     ]
    },
    {
     "name": "stdout",
     "output_type": "stream",
     "text": [
      "5  *  1  =  5\n",
      "5  *  2  =  10\n",
      "5  *  3  =  15\n",
      "5  *  4  =  20\n",
      "5  *  5  =  25\n",
      "5  *  6  =  30\n",
      "5  *  7  =  35\n",
      "5  *  8  =  40\n",
      "5  *  9  =  45\n",
      "5  *  10  =  50\n"
     ]
    }
   ],
   "source": [
    "n=int(input(\"Eneter the number: \"))\n",
    "for i in range(1,11):\n",
    "    print(n,\" * \",i,\" = \",n*i)"
   ]
  },
  {
   "cell_type": "markdown",
   "id": "6e727a7a-c7bb-47a0-ad5f-37983f29249f",
   "metadata": {},
   "source": [
    "3. Write a Python Program to Print the Fibonacci sequence?"
   ]
  },
  {
   "cell_type": "code",
   "execution_count": 18,
   "id": "c547b7d8-bedb-4664-845d-18abdb3e93c4",
   "metadata": {},
   "outputs": [
    {
     "name": "stdin",
     "output_type": "stream",
     "text": [
      "enter:  10\n"
     ]
    },
    {
     "name": "stdout",
     "output_type": "stream",
     "text": [
      "0\n",
      "1\n",
      "1\n",
      "2\n",
      "3\n",
      "5\n",
      "8\n",
      "13\n",
      "21\n",
      "34\n"
     ]
    }
   ],
   "source": [
    "n_terms=int(input(\"enter: \"))\n",
    "n1=0\n",
    "n2=1\n",
    "count=0\n",
    "\n",
    "if n_terms==0:\n",
    "    print(\"print positive numbers\")\n",
    "elif n_terms == 1:\n",
    "    print(\"fibonacci series upto \",nterms ,\" is \",n1)\n",
    "else:\n",
    "    \n",
    "    while n_terms > count:\n",
    "        print(n1)\n",
    "        n3=n1+n2\n",
    "        \n",
    "        n1=n2\n",
    "        n2=n3\n",
    "        \n",
    "        count+=1\n",
    "    \n"
   ]
  },
  {
   "cell_type": "markdown",
   "id": "391fe7e7-4afa-42cf-8de8-ee7ed19fbc50",
   "metadata": {},
   "source": [
    "4. Write a Python Program to Check Armstrong Number?"
   ]
  },
  {
   "cell_type": "code",
   "execution_count": 6,
   "id": "20f4fb1b-c37c-4f46-857a-1c06a2c09b69",
   "metadata": {},
   "outputs": [
    {
     "name": "stdin",
     "output_type": "stream",
     "text": [
      " 153\n"
     ]
    },
    {
     "name": "stdout",
     "output_type": "stream",
     "text": [
      "153  is a armstrong number\n"
     ]
    }
   ],
   "source": [
    "n=int(input())\n",
    "sum=0\n",
    "temp=n\n",
    "while temp>0:\n",
    "    a=temp%10\n",
    "    sum+=a**3\n",
    "    temp//=10\n",
    "if sum==n:\n",
    "    print(n,\" is a armstrong number\")\n",
    "else:\n",
    "    print(n,\" is not a armstrong number\")\n",
    "    \n",
    "    \n"
   ]
  },
  {
   "cell_type": "markdown",
   "id": "8d601230-efad-4b1d-81ed-d906ea9ce1dc",
   "metadata": {},
   "source": [
    "5. Write a Python Program to Find Armstrong Number in an Interval?"
   ]
  },
  {
   "cell_type": "code",
   "execution_count": 11,
   "id": "b267d70d-f5f7-461b-b210-feafdd5cb54a",
   "metadata": {},
   "outputs": [
    {
     "name": "stdout",
     "output_type": "stream",
     "text": [
      "153\n",
      "370\n",
      "371\n",
      "407\n"
     ]
    }
   ],
   "source": [
    "for i in range(100,1000):\n",
    "    sum=0\n",
    "    temp=i\n",
    "    while temp>0:\n",
    "        digit=temp%10\n",
    "        sum+=digit**3\n",
    "        temp//=10\n",
    "        \n",
    "    if sum==i:\n",
    "        print(i)"
   ]
  },
  {
   "cell_type": "markdown",
   "id": "73b956ff-7ff3-482f-88d6-b738f8b65049",
   "metadata": {},
   "source": [
    "6. Write a Python Program to Find the Sum of Natural Numbers?"
   ]
  },
  {
   "cell_type": "code",
   "execution_count": 13,
   "id": "2d5c6a95-e670-4abf-9ae0-a3a8d4eb259f",
   "metadata": {},
   "outputs": [
    {
     "name": "stdout",
     "output_type": "stream",
     "text": [
      "1 \n",
      "\n",
      "2 \n",
      "\n",
      "3 \n",
      "\n",
      "4 \n",
      "\n",
      "5 \n",
      "\n",
      "6 \n",
      "\n",
      "7 \n",
      "\n",
      "8 \n",
      "\n",
      "9 \n",
      "\n",
      "10 \n",
      "\n",
      "11 \n",
      "\n",
      "12 \n",
      "\n",
      "13 \n",
      "\n",
      "14 \n",
      "\n",
      "15 \n",
      "\n",
      "16 \n",
      "\n",
      "17 \n",
      "\n",
      "18 \n",
      "\n",
      "19 \n",
      "\n",
      "20 \n",
      "\n",
      "21 \n",
      "\n",
      "22 \n",
      "\n",
      "23 \n",
      "\n",
      "24 \n",
      "\n",
      "25 \n",
      "\n",
      "26 \n",
      "\n",
      "27 \n",
      "\n",
      "28 \n",
      "\n",
      "29 \n",
      "\n",
      "30 \n",
      "\n",
      "31 \n",
      "\n",
      "32 \n",
      "\n",
      "33 \n",
      "\n",
      "34 \n",
      "\n",
      "35 \n",
      "\n",
      "36 \n",
      "\n",
      "37 \n",
      "\n",
      "38 \n",
      "\n",
      "39 \n",
      "\n",
      "40 \n",
      "\n",
      "41 \n",
      "\n",
      "42 \n",
      "\n",
      "43 \n",
      "\n",
      "44 \n",
      "\n",
      "45 \n",
      "\n",
      "46 \n",
      "\n",
      "47 \n",
      "\n",
      "48 \n",
      "\n",
      "49 \n",
      "\n",
      "50 \n",
      "\n",
      "51 \n",
      "\n",
      "52 \n",
      "\n",
      "53 \n",
      "\n",
      "54 \n",
      "\n",
      "55 \n",
      "\n",
      "56 \n",
      "\n",
      "57 \n",
      "\n",
      "58 \n",
      "\n",
      "59 \n",
      "\n",
      "60 \n",
      "\n",
      "61 \n",
      "\n",
      "62 \n",
      "\n",
      "63 \n",
      "\n",
      "64 \n",
      "\n",
      "65 \n",
      "\n",
      "66 \n",
      "\n",
      "67 \n",
      "\n",
      "68 \n",
      "\n",
      "69 \n",
      "\n",
      "70 \n",
      "\n",
      "71 \n",
      "\n",
      "72 \n",
      "\n",
      "73 \n",
      "\n",
      "74 \n",
      "\n",
      "75 \n",
      "\n",
      "76 \n",
      "\n",
      "77 \n",
      "\n",
      "78 \n",
      "\n",
      "79 \n",
      "\n",
      "80 \n",
      "\n",
      "81 \n",
      "\n",
      "82 \n",
      "\n",
      "83 \n",
      "\n",
      "84 \n",
      "\n",
      "85 \n",
      "\n",
      "86 \n",
      "\n",
      "87 \n",
      "\n",
      "88 \n",
      "\n",
      "89 \n",
      "\n",
      "90 \n",
      "\n",
      "91 \n",
      "\n",
      "92 \n",
      "\n",
      "93 \n",
      "\n",
      "94 \n",
      "\n",
      "95 \n",
      "\n",
      "96 \n",
      "\n",
      "97 \n",
      "\n",
      "98 \n",
      "\n",
      "99 \n",
      "\n",
      "100 \n",
      "\n",
      "sum of natutral numbers is:  5050\n"
     ]
    }
   ],
   "source": [
    "n=100\n",
    "sum=0\n",
    "for i in range(1,n+1):\n",
    "    print(i,\"\\n\")\n",
    "    sum+=i\n",
    "print(\"sum of natutral numbers is: \",sum)\n",
    "    "
   ]
  },
  {
   "cell_type": "code",
   "execution_count": null,
   "id": "e0fd9646-44d2-426f-9fbb-6dbb93844b04",
   "metadata": {},
   "outputs": [],
   "source": []
  }
 ],
 "metadata": {
  "kernelspec": {
   "display_name": "Python 3 (ipykernel)",
   "language": "python",
   "name": "python3"
  },
  "language_info": {
   "codemirror_mode": {
    "name": "ipython",
    "version": 3
   },
   "file_extension": ".py",
   "mimetype": "text/x-python",
   "name": "python",
   "nbconvert_exporter": "python",
   "pygments_lexer": "ipython3",
   "version": "3.10.6"
  }
 },
 "nbformat": 4,
 "nbformat_minor": 5
}
