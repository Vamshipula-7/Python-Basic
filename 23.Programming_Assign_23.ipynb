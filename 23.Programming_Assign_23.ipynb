{
 "cells": [
  {
   "cell_type": "raw",
   "id": "04f6f5d9-52e8-448a-bbf8-578e5641a884",
   "metadata": {},
   "source": [
    "Question 1\n",
    "Create a function that takes a number as an argument and returns True or False depending\n",
    "on whether the number is symmetrical or not. A number is symmetrical when it is the same as\n",
    "its reverse.\n",
    "Examples\n",
    "is_symmetrical(7227) ➞ True\n",
    "is_symmetrical(12567) ➞ False\n",
    "is_symmetrical(44444444) ➞ True\n",
    "is_symmetrical(9939) ➞ False\n",
    "is_symmetrical(1112111) ➞ True"
   ]
  },
  {
   "cell_type": "code",
   "execution_count": 5,
   "id": "dc1124b5-5d3f-43ec-bcbc-a0e4894a4248",
   "metadata": {},
   "outputs": [
    {
     "name": "stdout",
     "output_type": "stream",
     "text": [
      "True\n",
      "False\n",
      "True\n",
      "False\n",
      "True\n"
     ]
    }
   ],
   "source": [
    "def is_symmetrical(l):\n",
    "    #convert in string\n",
    "    l1=str(l)\n",
    "    #convert to list\n",
    "    l1=list(l1)\n",
    "    #reverse the string\n",
    "    l1.reverse()\n",
    "    # and  remove commas\n",
    "    l1=''.join(l1)\n",
    "    \n",
    "    if int(l1)==int(l):\n",
    "        return True\n",
    "    return False\n",
    "\n",
    "print(is_symmetrical(7227))  \n",
    "print(is_symmetrical(12567)) \n",
    "print(is_symmetrical(4444444)) \n",
    "print(is_symmetrical(9939)) \n",
    "print(is_symmetrical(1112111)) "
   ]
  },
  {
   "cell_type": "code",
   "execution_count": 6,
   "id": "ec2a700d-6bcd-4913-bfb9-fdc7712928f8",
   "metadata": {},
   "outputs": [
    {
     "name": "stdout",
     "output_type": "stream",
     "text": [
      "True\n",
      "False\n",
      "True\n",
      "False\n",
      "True\n"
     ]
    }
   ],
   "source": [
    "def is_symm(string):\n",
    "    if string==string[::-1]:\n",
    "        return True\n",
    "    return False\n",
    "\n",
    "print(is_symmetrical(7227))  \n",
    "print(is_symmetrical(12567)) \n",
    "print(is_symmetrical(4444444)) \n",
    "print(is_symmetrical(9939)) \n",
    "print(is_symmetrical(1112111)) "
   ]
  },
  {
   "cell_type": "raw",
   "id": "005cdcb2-2bac-422c-a555-bbba1d1f5393",
   "metadata": {},
   "source": [
    "Question 2\n",
    "Given a string of numbers separated by a comma and space, return the product of the\n",
    "numbers.\n",
    "Examples\n",
    "multiply_nums(&quot;2, 3&quot;) ➞ 6\n",
    "multiply_nums(&quot;1, 2, 3, 4&quot;) ➞ 24\n",
    "multiply_nums(&quot;54, 75, 453, 0&quot;) ➞ 0\n",
    "multiply_nums(&quot;10, -2&quot;) ➞ -20"
   ]
  },
  {
   "cell_type": "code",
   "execution_count": 58,
   "id": "adee4cf0-6bb4-4395-8295-323a4e38f931",
   "metadata": {},
   "outputs": [
    {
     "name": "stdout",
     "output_type": "stream",
     "text": [
      "6\n",
      "24\n",
      "0\n",
      "-20\n"
     ]
    }
   ],
   "source": [
    "def prod(l):\n",
    "    product=1\n",
    "    for i in l:\n",
    "        product*=i\n",
    "    return product\n",
    "\n",
    "print(prod((2,3)))\n",
    "print(prod((1,2,3,4)))\n",
    "print(prod((54,75,453,0)))\n",
    "print(prod((10,-2)))\n",
    "        \n",
    "        "
   ]
  },
  {
   "cell_type": "raw",
   "id": "a292ecb7-415e-4647-a161-e9ea97ae6043",
   "metadata": {},
   "source": [
    "Question 3\n",
    "Create a function that squares every digit of a number.\n",
    "Examples\n",
    "square_digits(9119) ➞ 811181\n",
    "square_digits(2483) ➞ 416649\n",
    "square_digits(3212) ➞ 9414"
   ]
  },
  {
   "cell_type": "code",
   "execution_count": 97,
   "id": "e33b046f-40b4-4841-b5ec-e0f4e0365e0a",
   "metadata": {},
   "outputs": [
    {
     "name": "stdout",
     "output_type": "stream",
     "text": [
      "811181\n",
      "416649\n",
      "9414\n"
     ]
    }
   ],
   "source": [
    "def square(num):\n",
    "    z=''.join(str(int(i)**2) for i in str(num))\n",
    "    return z\n",
    "print(square(9119))\n",
    "print(square(2483))\n",
    "print(square(3212))   "
   ]
  },
  {
   "cell_type": "raw",
   "id": "3fa0564d-6290-4d56-83b5-250106da0100",
   "metadata": {},
   "source": [
    "Question 4\n",
    "Create a function that sorts a list and removes all duplicate items from it.\n",
    "Examples\n",
    "setify([1, 3, 3, 5, 5]) ➞ [1, 3, 5]\n",
    "setify([4, 4, 4, 4]) ➞ [4]\n",
    "setify([5, 7, 8, 9, 10, 15]) ➞ [5, 7, 8, 9, 10, 15]\n",
    "setify([3, 3, 3, 2, 1]) ➞ [1, 2, 3]"
   ]
  },
  {
   "cell_type": "code",
   "execution_count": 2,
   "id": "70ab3cf9-ba2c-4bcb-85ae-91c2247d3fcb",
   "metadata": {},
   "outputs": [
    {
     "name": "stdout",
     "output_type": "stream",
     "text": [
      "[1, 3, 5]\n",
      "[4]\n",
      "[5, 7, 8, 9, 10, 15]\n",
      "[1, 2, 3]\n"
     ]
    }
   ],
   "source": [
    "def setify(l):\n",
    "    l1=[]\n",
    "    for i in l:\n",
    "        if i not in l1:\n",
    "            l1.append(i)\n",
    "    l1.sort()\n",
    "    return l1\n",
    "print(setify([1, 3, 3, 5, 5]))\n",
    "print(setify([4, 4, 4, 4]))\n",
    "print(setify([5, 7, 8, 9, 10, 15]))\n",
    "print(setify([3, 3, 3, 2, 1]))\n",
    "        \n"
   ]
  },
  {
   "cell_type": "raw",
   "id": "c69fd56f-8d36-466f-9451-61cc2b82df58",
   "metadata": {},
   "source": [
    "Question 5\n",
    "Create a function that returns the mean of all digits.\n",
    "Examples\n",
    "mean(42) ➞ 3\n",
    "mean(12345) ➞ 3\n",
    "mean(666) ➞ 6\n",
    "Notes\n",
    " The mean of all digits is the sum of digits / how many digits there are (e.g. mean of digits in\n",
    "512 is (5+1+2)/3(number of digits) = 8/3=2).\n",
    " The mean will always be an integer."
   ]
  },
  {
   "cell_type": "code",
   "execution_count": 19,
   "id": "b9842c39-32e5-41db-9946-d88289972225",
   "metadata": {},
   "outputs": [
    {
     "name": "stdout",
     "output_type": "stream",
     "text": [
      "3\n",
      "3\n",
      "6\n"
     ]
    }
   ],
   "source": [
    "def mean(num):\n",
    "    string=str(num)\n",
    "    l=len(string)\n",
    "    sum1=0\n",
    "    for i in string:\n",
    "        sum1=sum1+int(i)\n",
    "    mean=sum1/l\n",
    "    return int(mean)\n",
    "\n",
    "print(mean(42))\n",
    "print(mean(12345))\n",
    "print(mean(666))"
   ]
  },
  {
   "cell_type": "code",
   "execution_count": null,
   "id": "dbf35fca-b639-4201-9f9f-b24d2a87ba0d",
   "metadata": {},
   "outputs": [],
   "source": []
  }
 ],
 "metadata": {
  "kernelspec": {
   "display_name": "Python 3 (ipykernel)",
   "language": "python",
   "name": "python3"
  },
  "language_info": {
   "codemirror_mode": {
    "name": "ipython",
    "version": 3
   },
   "file_extension": ".py",
   "mimetype": "text/x-python",
   "name": "python",
   "nbconvert_exporter": "python",
   "pygments_lexer": "ipython3",
   "version": "3.10.6"
  }
 },
 "nbformat": 4,
 "nbformat_minor": 5
}
