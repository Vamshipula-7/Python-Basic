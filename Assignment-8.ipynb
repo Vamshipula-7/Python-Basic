{
 "cells": [
  {
   "cell_type": "markdown",
   "id": "a47f9fe6-70f1-4c2d-b03d-8ba30a1f9403",
   "metadata": {},
   "source": [
    "1. Is the Python Standard Library included with PyInputPlus?"
   ]
  },
  {
   "cell_type": "raw",
   "id": "00ae0081-2234-474d-8ca7-986e9f7576dd",
   "metadata": {},
   "source": [
    "No,it is not part of the Pylnputplus.We should separately insatll it using pip"
   ]
  },
  {
   "cell_type": "markdown",
   "id": "808aa5b3-aca5-4fa4-8469-6b64427ca83d",
   "metadata": {},
   "source": [
    "2. Why is PyInputPlus commonly imported with import pyinputplus as pypi?"
   ]
  },
  {
   "cell_type": "raw",
   "id": "717be6b2-89cd-4430-b034-3dce0c8ede0e",
   "metadata": {},
   "source": [
    "So we can call shorter name while using it."
   ]
  },
  {
   "cell_type": "markdown",
   "id": "073090db-8321-49bb-a641-58540de12d16",
   "metadata": {},
   "source": [
    "3. How do you distinguish between inputInt() and inputFloat()?"
   ]
  },
  {
   "cell_type": "raw",
   "id": "e0ffdcf4-59a5-4aa4-bb09-c6aa14d36a02",
   "metadata": {},
   "source": [
    "inputInt() - Integer value\n",
    "inputFloat() - Floating point numeric value"
   ]
  },
  {
   "cell_type": "markdown",
   "id": "e79372f6-65f0-4472-8067-49c343862d3b",
   "metadata": {},
   "source": [
    "4. Using PyInputPlus, how do you ensure that the user enters a whole number between 0 and 99?"
   ]
  },
  {
   "cell_type": "raw",
   "id": "0ae66d8b-f2b6-4165-b4e6-a0437f47d89c",
   "metadata": {},
   "source": [
    "pyip.inputint(min=1, max=100)"
   ]
  },
  {
   "cell_type": "markdown",
   "id": "08a98a8d-2641-4512-8794-918f4b59a80a",
   "metadata": {},
   "source": [
    "5. What is transferred to the keyword arguments allowRegexes and blockRegexes?"
   ]
  },
  {
   "cell_type": "raw",
   "id": "07b5ce24-d8e7-45b2-9db6-5231010e5800",
   "metadata": {},
   "source": [
    "keyword arguments take a list of regular expression strings to determine what the PyInputPlus function will accept or reject as valid input."
   ]
  },
  {
   "cell_type": "markdown",
   "id": "eeed6d83-34ec-4936-af46-f1ae252c408f",
   "metadata": {},
   "source": [
    "6. If a blank input is entered three times, what does inputStr(limit=3) do?"
   ]
  },
  {
   "cell_type": "raw",
   "id": "7bda6c37-8df8-48f7-9b01-0d64bd9444af",
   "metadata": {},
   "source": [
    "It will throw RetryLimitException exception.\n"
   ]
  },
  {
   "cell_type": "markdown",
   "id": "baa71e7f-eac3-4143-b2f0-763d013acdf5",
   "metadata": {},
   "source": [
    "7. If blank input is entered three times, what does inputStr(limit=3, default=&#39;hello&#39;) do?"
   ]
  },
  {
   "cell_type": "raw",
   "id": "dfd8557e-7d04-4635-97b4-0572ed76df97",
   "metadata": {},
   "source": [
    "It will throw RetryLimitException exception.\n"
   ]
  }
 ],
 "metadata": {
  "kernelspec": {
   "display_name": "Python 3 (ipykernel)",
   "language": "python",
   "name": "python3"
  },
  "language_info": {
   "codemirror_mode": {
    "name": "ipython",
    "version": 3
   },
   "file_extension": ".py",
   "mimetype": "text/x-python",
   "name": "python",
   "nbconvert_exporter": "python",
   "pygments_lexer": "ipython3",
   "version": "3.10.6"
  }
 },
 "nbformat": 4,
 "nbformat_minor": 5
}
