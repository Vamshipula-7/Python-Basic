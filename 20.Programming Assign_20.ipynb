{
 "cells": [
  {
   "cell_type": "raw",
   "id": "a0c594cf-bcf6-4ac4-bf11-210f95d511f3",
   "metadata": {},
   "source": [
    "Question1\n",
    "Create a function that takes a list of strings and integers, and filters out the list so that it\n",
    "returns a list of integers only.\n",
    "Examples\n",
    "filter_list([1, 2, 3, &quot;a&quot;, &quot;b&quot;, 4]) ➞ [1, 2, 3, 4]\n",
    "filter_list([&quot;A&quot;, 0, &quot;Edabit&quot;, 1729, &quot;Python&quot;, &quot;1729&quot;]) ➞ [0, 1729]\n",
    "filter_list([&quot;Nothing&quot;, &quot;here&quot;]) ➞ []"
   ]
  },
  {
   "cell_type": "code",
   "execution_count": 10,
   "id": "3a77f17e-a75a-44da-8ca3-b8f8d4dffa3c",
   "metadata": {},
   "outputs": [
    {
     "name": "stdout",
     "output_type": "stream",
     "text": [
      "[1, 2, 3, 4]\n"
     ]
    }
   ],
   "source": [
    "def n_filter(string):\n",
    "    integers=[]\n",
    "    for i in string:\n",
    "        if type(i)==int:\n",
    "            integers.append(i)\n",
    "    return integers\n",
    "\n",
    "print(n_filter([1,2,3,\"a\",\"b\",4]))\n",
    "            "
   ]
  },
  {
   "cell_type": "raw",
   "id": "0a0fb068-aae1-49ba-be9e-5e3241390b66",
   "metadata": {},
   "source": [
    "Question-2\n",
    "Given a list of numbers, create a function which returns the list but with each element&#39;s\n",
    "index in the list added to itself. This means you add 0 to the number at index 0, add 1 to the\n",
    "number at index 1, etc...\n",
    "Examples\n",
    "add_indexes([0, 0, 0, 0, 0]) ➞ [0, 1, 2, 3, 4]\n",
    "add_indexes([1, 2, 3, 4, 5]) ➞ [1, 3, 5, 7, 9]\n",
    "add_indexes([5, 4, 3, 2, 1]) ➞ [5, 5, 5, 5, 5]"
   ]
  },
  {
   "cell_type": "code",
   "execution_count": 39,
   "id": "53046409-c0a7-405c-9b45-0f06c6d495d0",
   "metadata": {},
   "outputs": [
    {
     "name": "stdout",
     "output_type": "stream",
     "text": [
      "[0, 1, 2, 3, 4]\n",
      "[1, 3, 5, 7, 9]\n",
      "[5, 5, 5, 5, 5]\n"
     ]
    }
   ],
   "source": [
    "def ads_index(l):\n",
    "    l2=[]\n",
    "    for i in range(len(l)):\n",
    "        #index value + i value\n",
    "        l1=i+l[i]\n",
    "        l2.append(l1)\n",
    "    return l2\n",
    "        \n",
    "print(ads_index([0,0,0,0,0]))            \n",
    "print(ads_index([1,2,3,4,5]))\n",
    "print(ads_index([5,4,3,2,1]))"
   ]
  },
  {
   "cell_type": "raw",
   "id": "f23b8be0-da9a-42de-9f86-78a008f01dd9",
   "metadata": {},
   "source": [
    "Question-3\n",
    "Create a function that takes the height and radius of a cone as arguments and returns the\n",
    "volume of the cone rounded to the nearest hundredth. See the resources tab for the formula.\n",
    "cone_volume(3, 2) ➞ 12.57\n",
    "cone_volume(15, 6) ➞ 565.49\n",
    "cone_volume(18, 0) ➞ 0"
   ]
  },
  {
   "cell_type": "code",
   "execution_count": 49,
   "id": "27e6316d-eccf-4ed0-9b84-2832f47fd31e",
   "metadata": {},
   "outputs": [
    {
     "name": "stdout",
     "output_type": "stream",
     "text": [
      "12.56\n",
      "565.2\n",
      "0.0\n"
     ]
    }
   ],
   "source": [
    "def vol_cone(height,radius):\n",
    "    volume=3.14*radius**2*height/3\n",
    "    return round(volume,2)\n",
    "print(vol_cone(3,2))\n",
    "print(vol_cone(15,6))\n",
    "print(vol_cone(18,0))"
   ]
  },
  {
   "cell_type": "raw",
   "id": "47d8441e-aa38-4caa-8b1c-2faaecdf5fe5",
   "metadata": {},
   "source": [
    "Question4\n",
    "This Triangular Number Sequence is generated from a pattern of dots that form a triangle.\n",
    "The first 5 numbers of the sequence, or dots, are:\n",
    "1, 3, 6, 10, 15\n",
    "This means that the first triangle has just one dot, the second one has three dots, the third one\n",
    "has 6 dots and so on.\n",
    "Write a function that gives the number of dots with its corresponding triangle number of the\n",
    "sequence.\n",
    "Examples\n",
    "triangle(1) ➞ 1\n",
    "triangle(6) ➞ 21\n",
    "triangle(215) ➞ 23220"
   ]
  },
  {
   "cell_type": "code",
   "execution_count": 51,
   "id": "4cbd25fa-5cd5-47e4-b8b4-2bb008df66c7",
   "metadata": {},
   "outputs": [
    {
     "name": "stdout",
     "output_type": "stream",
     "text": [
      "1\n",
      "21\n",
      "23220\n"
     ]
    }
   ],
   "source": [
    "def seq_tri(n):\n",
    "    n1=n*(n+1)/2 #formula\n",
    "    return round(n1)\n",
    "\n",
    "print(seq_tri(1))\n",
    "print(seq_tri(6))\n",
    "print(seq_tri(215))"
   ]
  },
  {
   "cell_type": "raw",
   "id": "53a3aadf-ad4f-45a6-bea2-8cb65b9b6a69",
   "metadata": {},
   "source": [
    "Question5\n",
    "Create a function that takes a list of numbers between 1 and 10 (excluding one number) and\n",
    "returns the missing number.\n",
    "Examples\n",
    "missing_num([1, 2, 3, 4, 6, 7, 8, 9, 10]) ➞ 5\n",
    "missing_num([7, 2, 3, 6, 5, 9, 1, 4, 8]) ➞ 10\n",
    "missing_num([10, 5, 1, 2, 4, 6, 8, 3, 9]) ➞ 7"
   ]
  },
  {
   "cell_type": "code",
   "execution_count": 71,
   "id": "2e622be1-d082-40fd-a69b-10e2ea0afd68",
   "metadata": {},
   "outputs": [
    {
     "name": "stdout",
     "output_type": "stream",
     "text": [
      "5\n",
      "10\n",
      "7\n"
     ]
    }
   ],
   "source": [
    "def missing_n(list1):\n",
    "    sum_of_list=sum(list1)\n",
    "    Total=sum([x for x in range(11)])\n",
    "    result=Total-sum_of_list\n",
    "    return result\n",
    "\n",
    "print(missing_n([1, 2, 3, 4, 6, 7, 8, 9, 10]))\n",
    "print(missing_n([7, 2, 3, 6, 5, 9, 1, 4, 8]))\n",
    "print(missing_n([10, 5, 1, 2, 4, 6, 8, 3, 9]))   "
   ]
  },
  {
   "cell_type": "code",
   "execution_count": null,
   "id": "d7c366b3-287d-4d9d-baaa-876123753f18",
   "metadata": {},
   "outputs": [],
   "source": []
  }
 ],
 "metadata": {
  "kernelspec": {
   "display_name": "Python 3 (ipykernel)",
   "language": "python",
   "name": "python3"
  },
  "language_info": {
   "codemirror_mode": {
    "name": "ipython",
    "version": 3
   },
   "file_extension": ".py",
   "mimetype": "text/x-python",
   "name": "python",
   "nbconvert_exporter": "python",
   "pygments_lexer": "ipython3",
   "version": "3.10.6"
  }
 },
 "nbformat": 4,
 "nbformat_minor": 5
}
