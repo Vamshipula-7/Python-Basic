{
 "cells": [
  {
   "cell_type": "raw",
   "id": "36ad0f26-ecf5-486b-af0c-65d851226d7f",
   "metadata": {},
   "source": [
    "Question1\n",
    "Create a function that takes a string and returns a string in which each character is repeated\n",
    "once.\n",
    "Examples\n",
    "double_char(&quot;String&quot;) ➞ &quot;SSttrriinngg&quot;\n",
    "double_char(&quot;Hello World!&quot;) ➞ &quot;HHeelllloo WWoorrlldd!!&quot;\n",
    "double_char(&quot;1234!_ &quot;) ➞ &quot;11223344!!__ &quot;"
   ]
  },
  {
   "cell_type": "code",
   "execution_count": 36,
   "id": "8024151f-33d4-4109-a495-0ee5f0d5169c",
   "metadata": {},
   "outputs": [
    {
     "data": {
      "text/plain": [
       "'vvaammsshhii'"
      ]
     },
     "execution_count": 36,
     "metadata": {},
     "output_type": "execute_result"
    }
   ],
   "source": [
    "def repeat(s):\n",
    "    repeated=''\n",
    "    for i in range(len(s)):\n",
    "        repeated+=s[i]*2\n",
    "    return repeated\n",
    "s=\"vamshi\"   \n",
    "repeat(s)\n",
    "        "
   ]
  },
  {
   "cell_type": "code",
   "execution_count": 35,
   "id": "69e181c5-1715-41a0-8759-eaaa0dd1b2be",
   "metadata": {},
   "outputs": [
    {
     "data": {
      "text/plain": [
       "'vvaammsshhii'"
      ]
     },
     "execution_count": 35,
     "metadata": {},
     "output_type": "execute_result"
    }
   ],
   "source": [
    "def string(str1):\n",
    "    return ''.join([word*2 for word in str1])\n",
    "string(\"vamshi\")"
   ]
  },
  {
   "cell_type": "raw",
   "id": "453b840e-e7ec-43b0-8ac6-dcb906d75454",
   "metadata": {},
   "source": [
    "Question2\n",
    "Create a function that reverses a boolean value and returns the string &quot;boolean expected&quot;\n",
    "if another variable type is given.\n",
    "Examples\n",
    "reverse(True) ➞ False\n",
    "reverse(False) ➞ True\n",
    "reverse(0) ➞ &quot;boolean expected&quot;\n",
    "reverse(None) ➞ &quot;boolean expected&quot;"
   ]
  },
  {
   "cell_type": "code",
   "execution_count": 38,
   "id": "312c8c9c-67df-4f0c-aae3-9077f5affe33",
   "metadata": {},
   "outputs": [
    {
     "data": {
      "text/plain": [
       "True"
      ]
     },
     "execution_count": 38,
     "metadata": {},
     "output_type": "execute_result"
    }
   ],
   "source": [
    "def reverse(value):\n",
    "    if value==True:\n",
    "        return False\n",
    "    elif value==False:\n",
    "        return True\n",
    "    elif value==0 :\n",
    "        print(\"Boolean Value Expected\")\n",
    "    else:\n",
    "        return \"boolean value expected\"\n",
    "reverse(0)"
   ]
  },
  {
   "cell_type": "code",
   "execution_count": 42,
   "id": "3937e0f8-e254-4fd1-9da2-0f593e7d1884",
   "metadata": {},
   "outputs": [
    {
     "name": "stdout",
     "output_type": "stream",
     "text": [
      "False\n",
      "True\n",
      "boolean expected\n",
      "boolean expected\n"
     ]
    }
   ],
   "source": [
    "def reverse(value=None):\n",
    "    return not value if type(value)==bool else \"boolean expected\"\n",
    "print(reverse(True))\n",
    "print(reverse(False))\n",
    "print(reverse(0))\n",
    "print(reverse(None))"
   ]
  },
  {
   "cell_type": "raw",
   "id": "c49b16eb-8449-464c-8582-e64e75b40934",
   "metadata": {},
   "source": [
    "Question3\n",
    "Create a function that returns the thickness (in meters) of a piece of paper after folding it n\n",
    "number of times. The paper starts off with a thickness of 0.5mm.\n",
    "Examples\n",
    "num_layers(1) ➞ &quot;0.001m&quot;\n",
    "# Paper folded once is 1mm (equal to 0.001m)\n",
    "num_layers(4) ➞ &quot;0.008m&quot;\n",
    "# Paper folded 4 times is 8mm (equal to 0.008m)\n",
    "num_layers(21) ➞ &quot;1048.576m&quot;\n",
    "# Paper folded 21 times is 1048576mm (equal to 1048.576m)"
   ]
  },
  {
   "cell_type": "code",
   "execution_count": 48,
   "id": "a8237ed2-512d-41b7-aad6-b8fb33b29688",
   "metadata": {},
   "outputs": [
    {
     "name": "stdout",
     "output_type": "stream",
     "text": [
      "0.001 meters\n",
      "0.008 meters\n",
      "1048.576 meters\n"
     ]
    }
   ],
   "source": [
    "def folds(n):\n",
    "    thickness=0.5\n",
    "    for i in range(n):\n",
    "        thickness*=2\n",
    "    thickness=thickness/1000\n",
    "    return str(thickness)+' meters'\n",
    "print(folds(1))\n",
    "print(folds(4))\n",
    "print(folds(21))"
   ]
  },
  {
   "cell_type": "raw",
   "id": "62b7f153-d7b1-4e04-8a43-7dd6582ff3d4",
   "metadata": {},
   "source": [
    "Question4\n",
    "\n",
    "Create a function that takes a single string as argument and returns an ordered list containing\n",
    "the indices of all capital letters in the string.\n",
    "Examples\n",
    "index_of_caps(&quot;eDaBiT&quot;) ➞ [1, 3, 5]\n",
    "index_of_caps(&quot;eQuINoX&quot;) ➞ [1, 3, 4, 6]\n",
    "index_of_caps(&quot;determine&quot;) ➞ []\n",
    "index_of_caps(&quot;STRIKE&quot;) ➞ [0, 1, 2, 3, 4, 5]\n",
    "index_of_caps(&quot;sUn&quot;) ➞ [1]"
   ]
  },
  {
   "cell_type": "code",
   "execution_count": 57,
   "id": "5394e2f6-7c38-44e2-b096-a92c752c4e02",
   "metadata": {},
   "outputs": [
    {
     "name": "stdout",
     "output_type": "stream",
     "text": [
      "[1, 3, 5]\n",
      "[1, 2, 3, 5]\n",
      "[]\n",
      "[0, 1, 2, 3, 4, 5]\n",
      "[1]\n"
     ]
    }
   ],
   "source": [
    "def capital(string):\n",
    "    capital_indexes=[]\n",
    "    for i in range(len(string)):\n",
    "        if string[i].isupper():\n",
    "            capital_indexes.append(i)\n",
    "    return capital_indexes\n",
    "\n",
    "print(capital(\"eDaBiT\"))\n",
    "print(capital(\"eQINoX\"))\n",
    "print(capital(\"determine\"))\n",
    "print(capital(\"STRIKE\"))\n",
    "print(capital(\"sUn\"))\n",
    "      "
   ]
  },
  {
   "cell_type": "raw",
   "id": "e65e5a1e-68a9-408b-b6b5-2a73b5ae681c",
   "metadata": {},
   "source": [
    "Question5\n",
    "Using list comprehensions, create a function that finds all even numbers from 1 to the given\n",
    "number.\n",
    "Examples\n",
    "find_even_nums(8) ➞ [2, 4, 6, 8]\n",
    "find_even_nums(4) ➞ [2, 4]\n",
    "find_even_nums(2) ➞ [2]"
   ]
  },
  {
   "cell_type": "code",
   "execution_count": 59,
   "id": "57e7f726-fffb-4920-82f7-4aba6d688ffa",
   "metadata": {},
   "outputs": [
    {
     "name": "stdout",
     "output_type": "stream",
     "text": [
      "[2, 4, 6, 8]\n",
      "[2, 4]\n",
      "[2]\n"
     ]
    }
   ],
   "source": [
    "def even(n):\n",
    "    even1 =([x for x in range(1,n+1) if x%2==0])\n",
    "    return even1\n",
    "\n",
    "print(even(8))\n",
    "print(even(4))\n",
    "print(even(2))\n"
   ]
  },
  {
   "cell_type": "code",
   "execution_count": null,
   "id": "6c5f85ac-bcd4-4d0a-b369-d5804c662be4",
   "metadata": {},
   "outputs": [],
   "source": []
  }
 ],
 "metadata": {
  "kernelspec": {
   "display_name": "Python 3 (ipykernel)",
   "language": "python",
   "name": "python3"
  },
  "language_info": {
   "codemirror_mode": {
    "name": "ipython",
    "version": 3
   },
   "file_extension": ".py",
   "mimetype": "text/x-python",
   "name": "python",
   "nbconvert_exporter": "python",
   "pygments_lexer": "ipython3",
   "version": "3.10.6"
  }
 },
 "nbformat": 4,
 "nbformat_minor": 5
}
