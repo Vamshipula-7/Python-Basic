{
 "cells": [
  {
   "cell_type": "code",
   "execution_count": 1,
   "id": "d07a57b5-594e-4226-a963-ab4a1e103715",
   "metadata": {},
   "outputs": [
    {
     "data": {
      "text/plain": [
       "55"
      ]
     },
     "execution_count": 1,
     "metadata": {},
     "output_type": "execute_result"
    }
   ],
   "source": [
    "def list(x):\n",
    "    sum=0\n",
    "    for i in x:\n",
    "        sum+=i\n",
    "    return sum\n",
    "\n",
    "list([1,2,3,4,5,6,7,8,9,10])\n",
    "        "
   ]
  },
  {
   "cell_type": "markdown",
   "id": "be3278e7-7250-414d-9226-069d2d135c2b",
   "metadata": {},
   "source": [
    "2. Write a Python program to Multiply all numbers in the list?"
   ]
  },
  {
   "cell_type": "code",
   "execution_count": 3,
   "id": "d744e5a2-13b8-4979-a438-9e0ec8bdc8dd",
   "metadata": {},
   "outputs": [
    {
     "data": {
      "text/plain": [
       "120"
      ]
     },
     "execution_count": 3,
     "metadata": {},
     "output_type": "execute_result"
    }
   ],
   "source": [
    "def list(x):\n",
    "    mul=1\n",
    "    for i in x:\n",
    "        mul*=i\n",
    "    return mul\n",
    "\n",
    "list([1,2,3,4,5])"
   ]
  },
  {
   "cell_type": "markdown",
   "id": "62a6de53-78ca-4cf6-a8a3-8b5a27eb5d29",
   "metadata": {},
   "source": [
    "3. Write a Python program to find smallest number in a list?"
   ]
  },
  {
   "cell_type": "code",
   "execution_count": 14,
   "id": "533e18cc-5f2c-4c34-a2a8-cd30fbca13ce",
   "metadata": {},
   "outputs": [
    {
     "data": {
      "text/plain": [
       "23"
      ]
     },
     "execution_count": 14,
     "metadata": {},
     "output_type": "execute_result"
    }
   ],
   "source": [
    "def smaller(x):\n",
    "    small=x[0]\n",
    "    for i in (x):\n",
    "        if i<small:\n",
    "            small = i\n",
    "    return small\n",
    "\n",
    "smaller([87,90,65,76,23])"
   ]
  },
  {
   "cell_type": "markdown",
   "id": "c5c45be1-75fa-4da7-98ef-eb38a7434160",
   "metadata": {},
   "source": [
    "4. Write a Python program to find largest number in a list?"
   ]
  },
  {
   "cell_type": "code",
   "execution_count": 15,
   "id": "2fcf75a3-bb80-43b1-b56a-8a17b1ac6999",
   "metadata": {},
   "outputs": [
    {
     "data": {
      "text/plain": [
       "145"
      ]
     },
     "execution_count": 15,
     "metadata": {},
     "output_type": "execute_result"
    }
   ],
   "source": [
    "def largest(x):\n",
    "    large=x[0]\n",
    "    for i in x:\n",
    "        if i>large:\n",
    "            large=i\n",
    "    return large\n",
    "\n",
    "largest([87,90,120,76,145])"
   ]
  },
  {
   "cell_type": "markdown",
   "id": "f36157cd-bb5b-40c0-9622-40671c968605",
   "metadata": {},
   "source": [
    "5. Write a Python program to find second largest number in a list?"
   ]
  },
  {
   "cell_type": "code",
   "execution_count": 30,
   "id": "e51daa07-1708-42f2-ba12-684f71b17d52",
   "metadata": {},
   "outputs": [
    {
     "data": {
      "text/plain": [
       "120"
      ]
     },
     "execution_count": 30,
     "metadata": {},
     "output_type": "execute_result"
    }
   ],
   "source": [
    "def second_largest(list):\n",
    "    x=[]\n",
    "    large=list[0]\n",
    "    for i in list:\n",
    "        if i>large:\n",
    "            large = i\n",
    "    list.remove(large)\n",
    "    x.extend(list)\n",
    "    return max(list)\n",
    "second_largest( [87,90,120,76,145]  )"
   ]
  },
  {
   "cell_type": "markdown",
   "id": "6d6ae61c-ae51-4905-a02c-b6fa3bef8689",
   "metadata": {},
   "source": [
    "6. Write a Python program to find N largest elements from a list?"
   ]
  },
  {
   "cell_type": "code",
   "execution_count": 42,
   "id": "780f00a9-f3ff-4e35-b33d-cb50ac9448a2",
   "metadata": {},
   "outputs": [
    {
     "name": "stdin",
     "output_type": "stream",
     "text": [
      " 3\n"
     ]
    },
    {
     "name": "stdout",
     "output_type": "stream",
     "text": [
      "[145, 120, 90]\n"
     ]
    }
   ],
   "source": [
    "def n_largest(list):\n",
    "    list2=[]\n",
    "    for i in range(n):\n",
    "        max1=0\n",
    "        for j in range(len(list)):\n",
    "            if list[j]>max1:\n",
    "                max1=list[j]\n",
    "        list.remove(max1)\n",
    "        list2.append(max1)\n",
    "    print (list2)\n",
    "n=int(input())\n",
    "n_largest([87,90,120,76,145] )"
   ]
  },
  {
   "cell_type": "markdown",
   "id": "997ce0fb-0cf7-4509-8e7c-cb8b9e00cfd2",
   "metadata": {},
   "source": [
    "7. Write a Python program to print even numbers in a list?"
   ]
  },
  {
   "cell_type": "code",
   "execution_count": 46,
   "id": "eb8f7970-388a-4024-8004-2d64dafa7fa8",
   "metadata": {},
   "outputs": [
    {
     "name": "stdout",
     "output_type": "stream",
     "text": [
      "90 120 76 "
     ]
    }
   ],
   "source": [
    "def even_list(list):\n",
    "    for i in list:\n",
    "        if i % 2 ==0:\n",
    "            print(i,end=' ')\n",
    "even_list([87,90,120,76,145])           \n",
    "            "
   ]
  },
  {
   "cell_type": "markdown",
   "id": "06d7e1b5-fd48-4453-b3d7-13b2fc6e7e9a",
   "metadata": {},
   "source": [
    "8. Write a Python program to print odd numbers in a List?"
   ]
  },
  {
   "cell_type": "code",
   "execution_count": 48,
   "id": "34b6457f-ad05-4683-9397-621ff2ac9131",
   "metadata": {},
   "outputs": [
    {
     "name": "stdout",
     "output_type": "stream",
     "text": [
      "87 145 "
     ]
    }
   ],
   "source": [
    "def odd_list(list):\n",
    "    for i in list:\n",
    "        if i % 2 != 0:\n",
    "            print(i,end=\" \")\n",
    "odd_list([87,90,120,76,145])"
   ]
  },
  {
   "cell_type": "markdown",
   "id": "c25b0cbf-03b8-4712-817d-46323c8e91a1",
   "metadata": {},
   "source": [
    "9. Write a Python program to Remove empty List from List?"
   ]
  },
  {
   "cell_type": "code",
   "execution_count": 62,
   "id": "8e49fab8-9af5-4e1d-ab03-cb65da0af665",
   "metadata": {},
   "outputs": [
    {
     "data": {
      "text/plain": [
       "[87, 90, 120, 76, 145]"
      ]
     },
     "execution_count": 62,
     "metadata": {},
     "output_type": "execute_result"
    }
   ],
   "source": [
    "def rem_emptylist(list):\n",
    "    empty_list=[]\n",
    "    for ele in list:\n",
    "        if ele:\n",
    "            empty_list.append(ele)\n",
    "    return empty_list\n",
    "\n",
    "rem_emptylist([87,[],90,120,[],76,[],145])"
   ]
  },
  {
   "cell_type": "markdown",
   "id": "75090f46-5bcb-4a9a-9781-972eb0d5e799",
   "metadata": {},
   "source": [
    "10. Write a Python program to Cloning or Copying a list?"
   ]
  },
  {
   "cell_type": "code",
   "execution_count": 64,
   "id": "3c895edd-743e-4e0e-bae3-eda5afd5d7ce",
   "metadata": {},
   "outputs": [
    {
     "data": {
      "text/plain": [
       "[[87, 90, 120, 76, 145]]"
      ]
     },
     "execution_count": 64,
     "metadata": {},
     "output_type": "execute_result"
    }
   ],
   "source": [
    "def cloning(list):\n",
    "    list1=[]\n",
    "    list1.append(list)\n",
    "    return list1\n",
    "cloning([87,90,120,76,145])"
   ]
  },
  {
   "cell_type": "markdown",
   "id": "1961380c-3b0a-4619-81d4-51b9319b491d",
   "metadata": {},
   "source": [
    "11. Write a Python program to Count occurrences of an element in a list?"
   ]
  },
  {
   "cell_type": "code",
   "execution_count": 66,
   "id": "dd61cf84-518d-48da-aaa6-1d0acc598ae3",
   "metadata": {},
   "outputs": [
    {
     "name": "stdout",
     "output_type": "stream",
     "text": [
      "3 has occured 3 times\n"
     ]
    }
   ],
   "source": [
    "def count(list,x):\n",
    "    return list.count(x)\n",
    "list=[1,4,7,9,3,6,9,3,6,8,2,3,4]\n",
    "x=3\n",
    "\n",
    "print('{} has occured {} times'.format(x,count(list,x)))\n",
    "    "
   ]
  },
  {
   "cell_type": "code",
   "execution_count": null,
   "id": "57e8e04c-9a6e-4173-ad99-4d6477457f43",
   "metadata": {},
   "outputs": [],
   "source": []
  }
 ],
 "metadata": {
  "kernelspec": {
   "display_name": "Python 3 (ipykernel)",
   "language": "python",
   "name": "python3"
  },
  "language_info": {
   "codemirror_mode": {
    "name": "ipython",
    "version": 3
   },
   "file_extension": ".py",
   "mimetype": "text/x-python",
   "name": "python",
   "nbconvert_exporter": "python",
   "pygments_lexer": "ipython3",
   "version": "3.10.6"
  }
 },
 "nbformat": 4,
 "nbformat_minor": 5
}
