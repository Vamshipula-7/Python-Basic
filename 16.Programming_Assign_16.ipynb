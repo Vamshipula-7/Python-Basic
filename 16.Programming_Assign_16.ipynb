{
 "cells": [
  {
   "cell_type": "raw",
   "id": "761991a7-caae-4cc5-8a98-03530306c4dd",
   "metadata": {},
   "source": [
    "Question1. Write a function that stutters a word as if someone is struggling to read it. The\n",
    "first two letters are repeated twice with an ellipsis ... and space after each, and then the\n",
    "word is pronounced with a question mark ?.\n",
    "Examples\n",
    "stutter(&quot;incredible&quot;) ➞ &quot;in... in... incredible?&quot;\n",
    "stutter(&quot;enthusiastic&quot;) ➞ &quot;en... en... enthusiastic?&quot;\n",
    "stutter(&quot;outstanding&quot;) ➞ &quot;ou... ou... outstanding?&quot;"
   ]
  },
  {
   "cell_type": "code",
   "execution_count": 7,
   "id": "85b7bd87-c661-4a8d-9452-7edb30152cc5",
   "metadata": {},
   "outputs": [
    {
     "data": {
      "text/plain": [
       "'Ex...Ex...Excellent ?'"
      ]
     },
     "execution_count": 7,
     "metadata": {},
     "output_type": "execute_result"
    }
   ],
   "source": [
    "def shutters(word):\n",
    "    word1=word[:2]\n",
    "    shutter=(2*(word1 +\"...\") + word + \" ?\")\n",
    "    return shutter\n",
    "shutters(\"Excellent\")"
   ]
  },
  {
   "cell_type": "raw",
   "id": "ffa5f862-eba8-47ad-8322-056f6bb1977c",
   "metadata": {},
   "source": [
    "Question 2.Create a function that takes an angle in radians and returns the corresponding\n",
    "angle in degrees rounded to one decimal place."
   ]
  },
  {
   "cell_type": "code",
   "execution_count": 20,
   "id": "ed115bdd-3e95-4434-8d00-e43431263362",
   "metadata": {},
   "outputs": [
    {
     "data": {
      "text/plain": [
       "'1146.50'"
      ]
     },
     "execution_count": 20,
     "metadata": {},
     "output_type": "execute_result"
    }
   ],
   "source": [
    "def convert(Radians):\n",
    "    Degrees=Radians*180/3.14\n",
    "    return ('%.2f' % Degrees)\n",
    "convert(20)"
   ]
  },
  {
   "cell_type": "raw",
   "id": "929bbfde-e00c-4039-9cce-7ab79e196114",
   "metadata": {},
   "source": [
    "Question 3. In this challenge, establish if a given integer num is a Curzon number. If 1 plus\n",
    "2 elevated to num is exactly divisible by 1 plus 2 multiplied by num, then num is a Curzon\n",
    "number.\n",
    "Given a non-negative integer num, implement a function that returns True if num is a Curzon\n",
    "number, or False otherwise.\n",
    "is_curzon(5) ➞ True\n",
    "# 2 ** 5 + 1 = 33\n",
    "# 2 * 5 + 1 = 11\n",
    "# 33 is a multiple of 11"
   ]
  },
  {
   "cell_type": "code",
   "execution_count": 34,
   "id": "55995207-bbd3-47c1-adee-d5541c92b7ae",
   "metadata": {},
   "outputs": [
    {
     "data": {
      "text/plain": [
       "True"
      ]
     },
     "execution_count": 34,
     "metadata": {},
     "output_type": "execute_result"
    }
   ],
   "source": [
    "def curzon1(number):\n",
    "    n1=2**number+1\n",
    "    n2=2*number+1\n",
    "    if n1%n2==0:\n",
    "        return True\n",
    "    else:\n",
    "        return False\n",
    "\n",
    "curzon1(14)"
   ]
  },
  {
   "cell_type": "raw",
   "id": "f6c41700-e056-45fa-8e9e-fe43a674609d",
   "metadata": {},
   "source": [
    "Question 4.Given the side length x find the area of a hexagon.\n",
    "area_of_hexagon(1) ➞ 2.6\n",
    "area_of_hexagon(2) ➞ 10.4\n",
    "area_of_hexagon(3) ➞ 23.4"
   ]
  },
  {
   "cell_type": "code",
   "execution_count": 42,
   "id": "15ddd47e-bf27-4ed8-9f5f-db0a01d0423f",
   "metadata": {},
   "outputs": [
    {
     "data": {
      "text/plain": [
       "10.392"
      ]
     },
     "execution_count": 42,
     "metadata": {},
     "output_type": "execute_result"
    }
   ],
   "source": [
    "import math\n",
    "def hexagon_area(side):\n",
    "    Area=3*(math.sqrt(3))*side**side/2\n",
    "    return (round(Area,3))\n",
    "hexagon_area(2)"
   ]
  },
  {
   "cell_type": "raw",
   "id": "2292806b-4dfa-42c7-861a-8f751700b172",
   "metadata": {},
   "source": [
    "Question 5. Create a function that returns a base-2 (binary) representation of a base-10\n",
    "(decimal) string number. To convert is simple: ((2) means base-2 and (10) means base-10)\n",
    "010101001(2) = 1 + 8 + 32 + 128.\n",
    "Going from right to left, the value of the most right bit is 1, now from that every bit to the left\n",
    "will be x2 the value, value of an 8 bit binary numbers are (256, 128, 64, 32, 16, 8, 4, 2, 1).\n",
    "Examples\n",
    "binary(1) ➞ &quot;1&quot;\n",
    "# 1*1 = 1\n",
    "binary(5) ➞ &quot;101&quot;\n",
    "# 1*1 + 1*4 = 5\n",
    "binary(10) ➞ &quot;1010&quot;\n",
    "# 1*2 + 1*8 = 10"
   ]
  },
  {
   "cell_type": "code",
   "execution_count": 47,
   "id": "589fa6a6-2693-4580-a8b6-ef18cee396d6",
   "metadata": {},
   "outputs": [
    {
     "name": "stdout",
     "output_type": "stream",
     "text": [
      "282\n"
     ]
    }
   ],
   "source": [
    "n = \"11A\"\n",
    "b = 16\n",
    "print(int(n, b))"
   ]
  },
  {
   "cell_type": "code",
   "execution_count": null,
   "id": "65f04dd4-2d3e-49dc-8760-e85e705206fe",
   "metadata": {},
   "outputs": [],
   "source": []
  }
 ],
 "metadata": {
  "kernelspec": {
   "display_name": "Python 3 (ipykernel)",
   "language": "python",
   "name": "python3"
  },
  "language_info": {
   "codemirror_mode": {
    "name": "ipython",
    "version": 3
   },
   "file_extension": ".py",
   "mimetype": "text/x-python",
   "name": "python",
   "nbconvert_exporter": "python",
   "pygments_lexer": "ipython3",
   "version": "3.10.6"
  }
 },
 "nbformat": 4,
 "nbformat_minor": 5
}
