{
 "cells": [
  {
   "cell_type": "markdown",
   "id": "fb0549f9-4517-4808-9307-de9804c19415",
   "metadata": {},
   "source": [
    "1. What exactly is []?"
   ]
  },
  {
   "cell_type": "code",
   "execution_count": null,
   "id": "cb8cb3c0-5a63-40f4-ac54-c4ee137d2aa7",
   "metadata": {},
   "outputs": [],
   "source": [
    "#Empty list value,Which contains no items."
   ]
  },
  {
   "cell_type": "markdown",
   "id": "229ec81a-cf63-4870-9265-965e03785231",
   "metadata": {},
   "source": [
    "2. In a list of values stored in a variable called spam, how would you assign the value &#39;hello&#39; as the\n",
    "third value? (Assume [2, 4, 6, 8, 10] are in spam.)\n",
    "Let&#39;s pretend the spam includes the list [&#39;a&#39;, &#39;b&#39;, &#39;c&#39;, &#39;d&#39;] for the next three queries."
   ]
  },
  {
   "cell_type": "code",
   "execution_count": 3,
   "id": "c5039830-4304-454a-b779-48b619006b54",
   "metadata": {},
   "outputs": [],
   "source": [
    "spam=[2,4,6,8,10]\n",
    "spam[2]='hello'"
   ]
  },
  {
   "cell_type": "code",
   "execution_count": 4,
   "id": "97b06e7f-7db9-493a-94bb-78901a7d96b2",
   "metadata": {},
   "outputs": [
    {
     "data": {
      "text/plain": [
       "[2, 4, 'hello', 8, 10]"
      ]
     },
     "execution_count": 4,
     "metadata": {},
     "output_type": "execute_result"
    }
   ],
   "source": [
    "spam"
   ]
  },
  {
   "cell_type": "markdown",
   "id": "92c9ffac-779d-431a-a7bb-e7e4f441acb2",
   "metadata": {},
   "source": [
    "3. What is the value of spam[int(int(&#39;3&#39; * 2) / 11)]?"
   ]
  },
  {
   "cell_type": "code",
   "execution_count": 9,
   "id": "024eec82-c494-4af7-b8d3-a76f42fa360e",
   "metadata": {},
   "outputs": [
    {
     "data": {
      "text/plain": [
       "[3]"
      ]
     },
     "execution_count": 9,
     "metadata": {},
     "output_type": "execute_result"
    }
   ],
   "source": [
    "spam=['a','b','c','d']\n",
    "[int(int('3'*2)/11)]\n"
   ]
  },
  {
   "cell_type": "code",
   "execution_count": 10,
   "id": "fd7f8c64-e4dc-4d04-9e07-6e99b49a2bd5",
   "metadata": {},
   "outputs": [
    {
     "data": {
      "text/plain": [
       "'d'"
      ]
     },
     "execution_count": 10,
     "metadata": {},
     "output_type": "execute_result"
    }
   ],
   "source": [
    "spam[3]"
   ]
  },
  {
   "cell_type": "markdown",
   "id": "43320a0f-be44-4a11-b51e-4277f8b90085",
   "metadata": {},
   "source": [
    "4. What is the value of spam[-1]?"
   ]
  },
  {
   "cell_type": "code",
   "execution_count": 11,
   "id": "d64558e1-6e5f-4aae-b5fc-e00f1783391f",
   "metadata": {},
   "outputs": [
    {
     "data": {
      "text/plain": [
       "'d'"
      ]
     },
     "execution_count": 11,
     "metadata": {},
     "output_type": "execute_result"
    }
   ],
   "source": [
    "spam=['a','b','c','d']\n",
    "spam[-1]"
   ]
  },
  {
   "cell_type": "markdown",
   "id": "9e0979d5-799e-4c7e-a6a1-c8d529b4a0fb",
   "metadata": {},
   "source": [
    "5. What is the value of spam[:2]?"
   ]
  },
  {
   "cell_type": "code",
   "execution_count": 12,
   "id": "af5914a9-98b9-4cae-921f-443e43a99c2e",
   "metadata": {},
   "outputs": [
    {
     "data": {
      "text/plain": [
       "['a', 'b']"
      ]
     },
     "execution_count": 12,
     "metadata": {},
     "output_type": "execute_result"
    }
   ],
   "source": [
    "spam=['a','b','c','d']\n",
    "spam[0:2]"
   ]
  },
  {
   "cell_type": "markdown",
   "id": "1f8efd11-0f34-457c-81c3-393c7fade726",
   "metadata": {},
   "source": [
    "Let&#39;s pretend bacon has the list [3.14, &#39;cat,&#39; 11, &#39;cat,&#39; True] for the next three questions."
   ]
  },
  {
   "cell_type": "markdown",
   "id": "8c4f3e1a-1132-4ff8-bc00-2e95cdd1986f",
   "metadata": {},
   "source": [
    "6. What is the value of bacon.index(&#39;cat&#39;)?"
   ]
  },
  {
   "cell_type": "code",
   "execution_count": 13,
   "id": "19843e64-1432-4068-9343-c82fad0b6533",
   "metadata": {},
   "outputs": [
    {
     "data": {
      "text/plain": [
       "1"
      ]
     },
     "execution_count": 13,
     "metadata": {},
     "output_type": "execute_result"
    }
   ],
   "source": [
    "bacon=[3.14,'cat',11,'cat',True]\n",
    "bacon.index('cat')"
   ]
  },
  {
   "cell_type": "markdown",
   "id": "6ce410f0-3364-4c15-9e33-be9ec9478f99",
   "metadata": {},
   "source": [
    "7. How does bacon.append(99) change the look of the list value in bacon?"
   ]
  },
  {
   "cell_type": "code",
   "execution_count": 14,
   "id": "66438e21-a9fc-46f9-98aa-d0077285bb85",
   "metadata": {},
   "outputs": [],
   "source": [
    "bacon=[3.14,'cat',11,'cat',True]\n",
    "bacon.append(99)"
   ]
  },
  {
   "cell_type": "code",
   "execution_count": 16,
   "id": "cb717d2a-9a4b-4c19-88d0-966673656964",
   "metadata": {},
   "outputs": [
    {
     "data": {
      "text/plain": [
       "[3.14, 'cat', 11, 'cat', True, 99]"
      ]
     },
     "execution_count": 16,
     "metadata": {},
     "output_type": "execute_result"
    }
   ],
   "source": [
    "bacon #At the End 99 is Added to the List"
   ]
  },
  {
   "cell_type": "markdown",
   "id": "0fa1b76e-d9a9-49d2-90f4-58d51a8352ac",
   "metadata": {},
   "source": [
    "8. How does bacon.remove(&#39;cat&#39;) change the look of the list in bacon?"
   ]
  },
  {
   "cell_type": "code",
   "execution_count": 17,
   "id": "149400a1-6e9c-4702-bb8e-03feb6eebac5",
   "metadata": {},
   "outputs": [],
   "source": [
    "bacon.remove('cat')"
   ]
  },
  {
   "cell_type": "code",
   "execution_count": 18,
   "id": "ea199aa4-7b99-4128-bb71-38160e03b82f",
   "metadata": {},
   "outputs": [
    {
     "data": {
      "text/plain": [
       "[3.14, 11, 'cat', True, 99]"
      ]
     },
     "execution_count": 18,
     "metadata": {},
     "output_type": "execute_result"
    }
   ],
   "source": [
    "bacon #one cat is removed from the list by using this function"
   ]
  },
  {
   "cell_type": "markdown",
   "id": "aa13aa2d-6514-46d4-8b8f-a5f4f22609d7",
   "metadata": {},
   "source": [
    "9. What are the list concatenation and list replication operators?"
   ]
  },
  {
   "cell_type": "code",
   "execution_count": 19,
   "id": "adfe107d-6e54-44d5-b12f-48c44abb4724",
   "metadata": {},
   "outputs": [],
   "source": [
    "# The Operator for list cocatenation is +\n",
    "# The Operator  for list replication is *"
   ]
  },
  {
   "cell_type": "markdown",
   "id": "4703047b-77b6-4ea5-a0c6-86e46ec3c9fc",
   "metadata": {},
   "source": [
    "10. What is difference between the list methods append() and insert()?"
   ]
  },
  {
   "cell_type": "code",
   "execution_count": 20,
   "id": "50c9b095-d65d-42c9-9bd3-a70d0de76235",
   "metadata": {},
   "outputs": [],
   "source": [
    "# append() will add values only to end of a List\n",
    "# where insert() can add values anywhere in the list"
   ]
  },
  {
   "cell_type": "markdown",
   "id": "8a58f5fe-be66-4d94-8420-ad3fc4687838",
   "metadata": {},
   "source": [
    "11. What are the two methods for removing items from a list?"
   ]
  },
  {
   "cell_type": "code",
   "execution_count": 21,
   "id": "aefedfaf-2c91-4347-a110-c4baeb2318b4",
   "metadata": {},
   "outputs": [],
   "source": [
    "# Del statement and remove() list method"
   ]
  },
  {
   "cell_type": "markdown",
   "id": "95913346-5070-4099-8166-9ade98719d80",
   "metadata": {},
   "source": [
    "12. Describe how list values and string values are identical."
   ]
  },
  {
   "cell_type": "code",
   "execution_count": 22,
   "id": "3aad7950-3e76-4d94-9ffc-98c55df0d6a7",
   "metadata": {},
   "outputs": [],
   "source": [
    "#Both Strings and Lists have lengths \n",
    "# Each character in String and Each item in List have index values"
   ]
  },
  {
   "cell_type": "markdown",
   "id": "bd096c61-ed18-4771-9374-08cadff7dee0",
   "metadata": {},
   "source": [
    "13. What&#39;s the difference between tuples and lists?"
   ]
  },
  {
   "cell_type": "code",
   "execution_count": 23,
   "id": "8b7f4398-a870-4b7a-93c8-b0fa41433827",
   "metadata": {},
   "outputs": [],
   "source": [
    "# Lists are mutable; they can have values added, removed, or changed.\n",
    "# Tuples are immutable; they cannot be changed at all.\n",
    "# tuples are written using parentheses ().\n",
    "# while lists use the square brackets [ ]."
   ]
  },
  {
   "cell_type": "markdown",
   "id": "01bffc91-1b56-4178-9f71-dbf71dadc329",
   "metadata": {},
   "source": [
    "14. How do you type a tuple value that only contains the integer 42?"
   ]
  },
  {
   "cell_type": "code",
   "execution_count": 31,
   "id": "ee4ca982-d5ad-4d17-8fea-3749c4a29b0a",
   "metadata": {},
   "outputs": [],
   "source": [
    "t=(42,)"
   ]
  },
  {
   "cell_type": "code",
   "execution_count": 32,
   "id": "c5e4680c-5eb4-4d91-b93d-ed1da9cad682",
   "metadata": {},
   "outputs": [
    {
     "data": {
      "text/plain": [
       "(42,)"
      ]
     },
     "execution_count": 32,
     "metadata": {},
     "output_type": "execute_result"
    }
   ],
   "source": [
    "t"
   ]
  },
  {
   "cell_type": "markdown",
   "id": "b61664ad-e374-4fe7-bb68-42ab302322f6",
   "metadata": {},
   "source": [
    "15. How do you get a list value&#39;s tuple form? How do you get a tuple value&#39;s list form?"
   ]
  },
  {
   "cell_type": "code",
   "execution_count": 48,
   "id": "05efd1bc-8e80-44eb-8759-c59885825e0d",
   "metadata": {},
   "outputs": [],
   "source": [
    "# tuple() and list() functions"
   ]
  },
  {
   "cell_type": "markdown",
   "id": "7ad92e67-e2b7-483d-9770-b42ca7704486",
   "metadata": {},
   "source": [
    "16. Variables that &quot;contain&quot; list values are not necessarily lists themselves. Instead, what do they\n",
    "contain?"
   ]
  },
  {
   "cell_type": "code",
   "execution_count": 49,
   "id": "92605ce6-1f8c-4cee-9a03-a32d2eee41e3",
   "metadata": {},
   "outputs": [],
   "source": [
    "# They Cantain references to list values"
   ]
  },
  {
   "cell_type": "markdown",
   "id": "6e84d777-467b-4c44-986c-f0916b957aef",
   "metadata": {},
   "source": [
    "17. How do you distinguish between copy.copy() and copy.deepcopy()?"
   ]
  },
  {
   "cell_type": "code",
   "execution_count": 50,
   "id": "026808d4-9eb2-402d-9a2b-c32c8ef642fa",
   "metadata": {},
   "outputs": [],
   "source": [
    "#copy() create reference to original object. If you change copied object - you change the original object.\n",
    "# deepcopy() creates new object and does real copying of original object to new one. "
   ]
  }
 ],
 "metadata": {
  "kernelspec": {
   "display_name": "Python 3 (ipykernel)",
   "language": "python",
   "name": "python3"
  },
  "language_info": {
   "codemirror_mode": {
    "name": "ipython",
    "version": 3
   },
   "file_extension": ".py",
   "mimetype": "text/x-python",
   "name": "python",
   "nbconvert_exporter": "python",
   "pygments_lexer": "ipython3",
   "version": "3.10.6"
  }
 },
 "nbformat": 4,
 "nbformat_minor": 5
}
