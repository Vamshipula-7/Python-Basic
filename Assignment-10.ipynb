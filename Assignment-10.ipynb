{
 "cells": [
  {
   "cell_type": "markdown",
   "id": "c7918626-fef2-4439-a7a0-9eb48ef654ff",
   "metadata": {},
   "source": [
    "1. How do you distinguish between shutil.copy() and shutil.copytree()?"
   ]
  },
  {
   "cell_type": "raw",
   "id": "94260507-87c2-4afd-afee-2b9407d48893",
   "metadata": {},
   "source": [
    "shutil.copy() - will copy a single file\n",
    "shutil.copy() - will copy antire folder and files contained in it"
   ]
  },
  {
   "cell_type": "markdown",
   "id": "ed5d3aa1-907b-445d-a834-79c1964e1ef9",
   "metadata": {},
   "source": [
    "2. What function is used to rename files?"
   ]
  },
  {
   "cell_type": "raw",
   "id": "a8ed8eeb-8a60-44a5-a828-2ced016ca4ea",
   "metadata": {},
   "source": [
    "rename() is used to rename files"
   ]
  },
  {
   "cell_type": "markdown",
   "id": "c2358dd3-69fb-4898-9ce0-2c8074455f3f",
   "metadata": {},
   "source": [
    "3. What is the difference between the delete functions in the send2trash and shutil modules?"
   ]
  },
  {
   "cell_type": "raw",
   "id": "3a3b6e36-527d-4b1d-a688-43be1ede48ee",
   "metadata": {},
   "source": [
    "delete function permanently deletes the file\n",
    "where as send2trash function will move the folder to Recycle bin"
   ]
  },
  {
   "cell_type": "markdown",
   "id": "3ab7658a-51e2-423e-b2b3-248e52ac8c26",
   "metadata": {},
   "source": [
    "4.ZipFile objects have a close() method just like File objects’ close() method. What ZipFile method is\n",
    "equivalent to File objects’ open() method?"
   ]
  },
  {
   "cell_type": "raw",
   "id": "cb8ab54b-3b13-4d0a-af2e-cd74b72edf46",
   "metadata": {},
   "source": [
    "The zipfile. ZipFile() function is equivalent to the open() function; the first argument is the filename, and the second argument is the mode to open the ZIP file in (read, write, or append)."
   ]
  },
  {
   "cell_type": "markdown",
   "id": "f7807e88-41b1-4f11-a075-5c807e0fe0d9",
   "metadata": {},
   "source": [
    "5. Create a programme that searches a folder tree for files with a certain file extension (such as .pdf\n",
    "or .jpg). Copy these files from whatever location they are in to a new folder."
   ]
  },
  {
   "cell_type": "code",
   "execution_count": 1,
   "id": "e4b1485b-0f93-48b4-b196-cef7bab34068",
   "metadata": {},
   "outputs": [],
   "source": [
    "import os, shutil\n",
    "\n",
    "def moveFileType(folder):\n",
    "    for folderName, subfolders, filenames in os.walk(folder):\n",
    "        for subfolder in subfolders:\n",
    "            for filename in filenames:\n",
    "                if filename.endswith('.jpg'):\n",
    "                    shutil.copy(folder + filename, '<destination>')\n",
    "\n",
    "moveFileType('<source>')"
   ]
  },
  {
   "cell_type": "code",
   "execution_count": null,
   "id": "3f959ce1-405a-471e-b130-056de24ccc18",
   "metadata": {},
   "outputs": [],
   "source": []
  }
 ],
 "metadata": {
  "kernelspec": {
   "display_name": "Python 3 (ipykernel)",
   "language": "python",
   "name": "python3"
  },
  "language_info": {
   "codemirror_mode": {
    "name": "ipython",
    "version": 3
   },
   "file_extension": ".py",
   "mimetype": "text/x-python",
   "name": "python",
   "nbconvert_exporter": "python",
   "pygments_lexer": "ipython3",
   "version": "3.10.6"
  }
 },
 "nbformat": 4,
 "nbformat_minor": 5
}
