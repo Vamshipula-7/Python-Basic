{
 "cells": [
  {
   "cell_type": "markdown",
   "id": "738b8781-7f4d-4fe1-9e3b-6c654fc14d65",
   "metadata": {},
   "source": [
    "1. To what does a relative path refer?"
   ]
  },
  {
   "cell_type": "raw",
   "id": "f16da663-170b-4062-ad66-6a87422cbf93",
   "metadata": {},
   "source": [
    "It describes the location of a directory relative to the entry point where you run the Python code."
   ]
  },
  {
   "cell_type": "markdown",
   "id": "2dcb19b5-7d50-4f54-af29-8ceaf824b6ed",
   "metadata": {},
   "source": [
    "2. What does an absolute path start with your operating system?"
   ]
  },
  {
   "cell_type": "raw",
   "id": "eebd3b5c-36d6-4e0d-a34c-71da71463fc7",
   "metadata": {},
   "source": [
    "It describes the location of directory from the root directory"
   ]
  },
  {
   "cell_type": "markdown",
   "id": "8bf6faf4-c8e9-48dd-ac5a-2f571f93cc6a",
   "metadata": {},
   "source": [
    "3. What do the functions os.getcwd() and os.chdir() do?"
   ]
  },
  {
   "cell_type": "raw",
   "id": "cb36b181-fb02-4642-b8a2-5cb92ac3c91e",
   "metadata": {},
   "source": [
    "os.getcwd() - allows  to see current working directory.\n",
    "os.chdir() - allows to change current working directory to path of our choice"
   ]
  },
  {
   "cell_type": "markdown",
   "id": "a3bddc56-9ddf-488d-9f7b-4a184b823c2b",
   "metadata": {},
   "source": [
    "4. What are the . and .. folders?"
   ]
  },
  {
   "cell_type": "raw",
   "id": "27003a18-e675-4d93-9723-9f6813c08160",
   "metadata": {},
   "source": [
    "files and folders in python"
   ]
  },
  {
   "cell_type": "markdown",
   "id": "ecf7671d-6709-4272-b41a-6f6cd166f4ea",
   "metadata": {},
   "source": [
    "5. In C:\\bacon\\eggs\\spam.txt, which part is the dir name, and which part is the base name?"
   ]
  },
  {
   "cell_type": "raw",
   "id": "7ee6ff60-8564-4de1-a86e-4175f390962c",
   "metadata": {},
   "source": [
    "C:\\bacon\\eggs is dir name\n",
    "spam.txt is base name"
   ]
  },
  {
   "cell_type": "markdown",
   "id": "3acd1d15-db2e-451d-a34d-a87501a1b5c9",
   "metadata": {},
   "source": [
    "6. What are the three “mode” arguments that can be passed to the open() function?"
   ]
  },
  {
   "cell_type": "raw",
   "id": "1b312154-66ef-4ef5-b4f7-c7f093ba16f1",
   "metadata": {},
   "source": [
    "r: Opens the file in read-only mode.\n",
    "r+: Opens a file for reading and writing.\n",
    "w: Opens in write-only mode.\n",
    "w+: Opens a file for writing and reading.\n",
    "a: Opens a file for appending new information to it.\n",
    "a+: Opens a file for both appending and reading."
   ]
  },
  {
   "cell_type": "markdown",
   "id": "e022a33c-915d-4647-86a1-1d71de6b5956",
   "metadata": {},
   "source": [
    "7. What happens if an existing file is opened in write mode?"
   ]
  },
  {
   "cell_type": "raw",
   "id": "fd37c8db-3bf1-4c7c-8a4c-20e2a85f255f",
   "metadata": {},
   "source": [
    "it replaces the file by new empty file"
   ]
  },
  {
   "cell_type": "markdown",
   "id": "3ce4e336-93a4-4939-903f-2981693e8e4f",
   "metadata": {},
   "source": [
    "8. How do you tell the difference between read() and readlines()?"
   ]
  },
  {
   "cell_type": "raw",
   "id": "a1d4a1af-d72e-486a-aee5-2c6e20cb679d",
   "metadata": {},
   "source": [
    "Python read() method will return a line from the file when called.\n",
    "readlines() method will return all the lines in a file in the format of a list where each element is a line in the file."
   ]
  },
  {
   "cell_type": "markdown",
   "id": "cb81d2e3-5a8b-4c7d-8b11-cec0d1de537f",
   "metadata": {},
   "source": [
    "9. What data structure does a shelf value resemble?"
   ]
  },
  {
   "cell_type": "raw",
   "id": "c5608de6-5ab6-4557-8860-752a7231773b",
   "metadata": {},
   "source": [
    "A shelf value resembles a dictionary"
   ]
  }
 ],
 "metadata": {
  "kernelspec": {
   "display_name": "Python 3 (ipykernel)",
   "language": "python",
   "name": "python3"
  },
  "language_info": {
   "codemirror_mode": {
    "name": "ipython",
    "version": 3
   },
   "file_extension": ".py",
   "mimetype": "text/x-python",
   "name": "python",
   "nbconvert_exporter": "python",
   "pygments_lexer": "ipython3",
   "version": "3.10.6"
  }
 },
 "nbformat": 4,
 "nbformat_minor": 5
}
