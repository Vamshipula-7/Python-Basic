{
 "cells": [
  {
   "cell_type": "markdown",
   "id": "694506d3-4f59-4ec8-9aab-bf31709009c5",
   "metadata": {},
   "source": [
    "Question-1"
   ]
  },
  {
   "cell_type": "code",
   "execution_count": 3,
   "id": "7c29dd13-8d3e-4585-98fe-950246a593df",
   "metadata": {},
   "outputs": [
    {
     "name": "stdout",
     "output_type": "stream",
     "text": [
      "[18, 24, 27]\n"
     ]
    }
   ],
   "source": [
    "import math\n",
    "D=100,180,220\n",
    "H=30\n",
    "C=50\n",
    "Answers=[]\n",
    "for i in range(len(D)):\n",
    "    Q=round(math.sqrt(2*50*D[i]/30))\n",
    "    Answers.append(Q)\n",
    "print(Answers)\n",
    "    \n",
    "    \n",
    "\n",
    "\n",
    "    "
   ]
  },
  {
   "cell_type": "markdown",
   "id": "7e5dabd2-1dc5-4c73-a5b2-e7dd49d96566",
   "metadata": {},
   "source": [
    "Questin-2"
   ]
  },
  {
   "cell_type": "code",
   "execution_count": 1,
   "id": "685e1228-9822-438e-80ed-55e134abb751",
   "metadata": {},
   "outputs": [
    {
     "name": "stdin",
     "output_type": "stream",
     "text": [
      "Enter X values as rows:  3\n",
      "Enter Y values as coloums:  4\n"
     ]
    },
    {
     "name": "stdout",
     "output_type": "stream",
     "text": [
      "[[0, 0, 0, 0], [0, 1, 2, 3], [0, 2, 4, 6]]\n"
     ]
    }
   ],
   "source": [
    "x=int(input(\"Enter X values as rows: \"))\n",
    "y=int(input(\"Enter Y values as coloums: \"))\n",
    "array=[[0 for i in range(y)]for j in range(x)]\n",
    "for row in range(x):\n",
    "    for col in range(y):\n",
    "        array[row][col]=row * col\n",
    "print(array)"
   ]
  },
  {
   "cell_type": "markdown",
   "id": "0f1a044e-b0a4-4f97-819a-5cb2331fc22b",
   "metadata": {},
   "source": [
    "Question-3"
   ]
  },
  {
   "cell_type": "code",
   "execution_count": 30,
   "id": "4ef48fc5-ea9a-4a94-a58c-e61f0df77060",
   "metadata": {},
   "outputs": [
    {
     "name": "stdin",
     "output_type": "stream",
     "text": [
      "Enter String:  Vamshi ,is ,Data ,Scientist, in, Accecunture\n"
     ]
    },
    {
     "name": "stdout",
     "output_type": "stream",
     "text": [
      " Accecunture, in,Data ,Scientist,Vamshi ,is \n"
     ]
    }
   ],
   "source": [
    "String=input(\"Enter String: \")\n",
    "x=String.split(',')\n",
    "x.sort()\n",
    "print((',').join(x))"
   ]
  },
  {
   "cell_type": "markdown",
   "id": "f5adc4ed-9131-4c4f-bf7f-dc44e9c3ca9b",
   "metadata": {},
   "source": [
    "Question-4"
   ]
  },
  {
   "cell_type": "code",
   "execution_count": 1,
   "id": "56683bdb-71d4-49a5-a01b-1e1ecf0c87ef",
   "metadata": {},
   "outputs": [
    {
     "name": "stdin",
     "output_type": "stream",
     "text": [
      "Enter Your String:   Hi my name is vamshi and vamshi is a Data scientist and Hi vamshi the Data scientist\n"
     ]
    },
    {
     "name": "stdout",
     "output_type": "stream",
     "text": [
      "['', 'Data', 'Data', 'Hi', 'Hi', 'a', 'and', 'and', 'is', 'is', 'my', 'name', 'scientist', 'scientist', 'the', 'vamshi', 'vamshi', 'vamshi']\n",
      " Data Hi a and is my name scientist the vamshi\n"
     ]
    }
   ],
   "source": [
    "String=input(\"Enter Your String: \")\n",
    "my_String=[]\n",
    "x=String.split(\" \")\n",
    "x.sort()\n",
    "print(x)\n",
    "for i in x:\n",
    "    if i not in my_String:\n",
    "        my_String.append(i)\n",
    "#my_String.sort()\n",
    "print((' ').join(my_String))\n"
   ]
  },
  {
   "cell_type": "markdown",
   "id": "0ef5e767-7367-40cc-878b-801f383119e2",
   "metadata": {},
   "source": [
    "Question-5"
   ]
  },
  {
   "cell_type": "code",
   "execution_count": 7,
   "id": "845fbae6-e9b3-4e60-8c8a-cac6881ac399",
   "metadata": {},
   "outputs": [
    {
     "data": {
      "text/plain": [
       "(13, 4)"
      ]
     },
     "execution_count": 7,
     "metadata": {},
     "output_type": "execute_result"
    }
   ],
   "source": [
    "def String(x):\n",
    "    letters=0\n",
    "    digits=0\n",
    "    for i in x:\n",
    "        if i.isalpha():\n",
    "            letters+=1\n",
    "        elif i.isdigit():\n",
    "            digits+=1\n",
    "        else:\n",
    "            pass\n",
    "    return letters,digits\n",
    "\n",
    "x=\"Vamshi19@sahithi22\"\n",
    "String(x)"
   ]
  },
  {
   "cell_type": "markdown",
   "id": "7e5f8690-5a93-4fbd-9d69-9df583f82a4d",
   "metadata": {},
   "source": [
    "Question-6"
   ]
  },
  {
   "cell_type": "code",
   "execution_count": 30,
   "id": "c2030e7a-ad10-4bd1-b853-7b159f0768da",
   "metadata": {},
   "outputs": [
    {
     "name": "stdin",
     "output_type": "stream",
     "text": [
      "Enters Your passwords separated by commas:  Vamshi@123,Sahithi&143,sreenika@165\n"
     ]
    },
    {
     "name": "stdout",
     "output_type": "stream",
     "text": [
      "Vamshi@123\n"
     ]
    }
   ],
   "source": [
    "import re\n",
    "passwords=input(\"Enters Your passwords separated by commas: \")\n",
    "passwords=passwords.split(\",\")\n",
    "passwords1=[]\n",
    "for i in passwords:\n",
    "    if len(i)<66 and len(i)>12:\n",
    "        continue\n",
    "\n",
    "    elif not re.search(\"([a-z])+\",i):\n",
    "        continue\n",
    "    \n",
    "    elif not re.search(\"([A-Z])+\",i):\n",
    "        continue\n",
    "    \n",
    "    elif not re.search(\"([0-9])+\",i):\n",
    "        continue\n",
    "        \n",
    "    elif not re.search(\"([#,$,@])+\",i):\n",
    "        continue\n",
    "        \n",
    "    else:\n",
    "        passwords1.append(i)\n",
    "\n",
    "print((\" \").join(passwords1))\n",
    "\n",
    "    \n",
    "    "
   ]
  },
  {
   "cell_type": "code",
   "execution_count": null,
   "id": "0e9b7d54-c3a8-4db4-a98e-7a53d14aab0c",
   "metadata": {},
   "outputs": [],
   "source": []
  }
 ],
 "metadata": {
  "kernelspec": {
   "display_name": "Python 3 (ipykernel)",
   "language": "python",
   "name": "python3"
  },
  "language_info": {
   "codemirror_mode": {
    "name": "ipython",
    "version": 3
   },
   "file_extension": ".py",
   "mimetype": "text/x-python",
   "name": "python",
   "nbconvert_exporter": "python",
   "pygments_lexer": "ipython3",
   "version": "3.10.6"
  }
 },
 "nbformat": 4,
 "nbformat_minor": 5
}
