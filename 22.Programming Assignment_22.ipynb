{
 "cells": [
  {
   "cell_type": "markdown",
   "id": "27202ea0-d09a-49a1-9953-e6e61c07bbaa",
   "metadata": {},
   "source": [
    "#Programming Assin_22"
   ]
  },
  {
   "cell_type": "raw",
   "id": "d6097c82-80c3-491d-980a-c6d90834bedd",
   "metadata": {},
   "source": [
    "Question1\n",
    "Create a function that takes three parameters where:\n",
    " x is the start of the range (inclusive).\n",
    " y is the end of the range (inclusive).\n",
    " n is the divisor to be checked against.\n",
    "Return an ordered list with numbers in the range that are divisible by the third parameter n.\n",
    "Return an empty list if there are no numbers that are divisible by n.\n",
    "Examples\n",
    "list_operation(1, 10, 3) ➞ [3, 6, 9]\n",
    "list_operation(7, 9, 2) ➞ [8]\n",
    "list_operation(15, 20, 7) ➞ []"
   ]
  },
  {
   "cell_type": "code",
   "execution_count": 1,
   "id": "bface349-fd27-4449-810c-7e50a497174f",
   "metadata": {},
   "outputs": [
    {
     "name": "stdout",
     "output_type": "stream",
     "text": [
      "[3, 6, 9]\n",
      "[8]\n",
      "[]\n"
     ]
    }
   ],
   "source": [
    "def third_div(x,y,z):\n",
    "    div=[]\n",
    "    for i in range(x,y):\n",
    "        if i%z==0:\n",
    "            div.append(i)\n",
    "    return div\n",
    "\n",
    "print(third_div(1,10,3))\n",
    "print(third_div(7,9,2))\n",
    "print(third_div(15,20,7))\n",
    "\n",
    "            "
   ]
  },
  {
   "cell_type": "raw",
   "id": "9613e176-3f3e-4101-a7cd-e77e1fbeb5ad",
   "metadata": {},
   "source": [
    "Question2\n",
    "Create a function that takes in two lists and returns True if the second list follows the first list\n",
    "by one element, and False otherwise. In other words, determine if the second list is the first\n",
    "list shifted to the right by 1.\n",
    "Examples\n",
    "simon_says([1, 2], [5, 1]) ➞ True\n",
    "simon_says([1, 2], [5, 5]) ➞ False\n",
    "simon_says([1, 2, 3, 4, 5], [0, 1, 2, 3, 4]) ➞ True\n",
    "simon_says([1, 2, 3, 4, 5], [5, 5, 1, 2, 3]) ➞ False\n",
    "Notes\n",
    " Both input lists will be of the same length, and will have a minimum length of 2.\n",
    " The values of the 0-indexed element in the second list and the n-1th indexed element\n",
    "in the first list do not matter."
   ]
  },
  {
   "cell_type": "code",
   "execution_count": 31,
   "id": "e236abc1-993b-4a90-bbe5-42fdef9b628e",
   "metadata": {},
   "outputs": [
    {
     "data": {
      "text/plain": [
       "True"
      ]
     },
     "execution_count": 31,
     "metadata": {},
     "output_type": "execute_result"
    }
   ],
   "source": [
    "def simon_says(ls,ls2):\n",
    "    if ls[0:len(ls)-1] == ls2[1:len(ls2)]:\n",
    "        return True\n",
    "    return False\n",
    "simon_says([1, 2], [5, 1])"
   ]
  },
  {
   "cell_type": "code",
   "execution_count": 33,
   "id": "f45272df-9b6e-496c-a267-da682707994a",
   "metadata": {},
   "outputs": [
    {
     "data": {
      "text/plain": [
       "False"
      ]
     },
     "execution_count": 33,
     "metadata": {},
     "output_type": "execute_result"
    }
   ],
   "source": [
    "simon_says([1, 2], [5, 5])"
   ]
  },
  {
   "cell_type": "code",
   "execution_count": 34,
   "id": "549217c8-67aa-4da9-b0ec-813a76f2737b",
   "metadata": {},
   "outputs": [
    {
     "data": {
      "text/plain": [
       "True"
      ]
     },
     "execution_count": 34,
     "metadata": {},
     "output_type": "execute_result"
    }
   ],
   "source": [
    "simon_says([1, 2, 3, 4, 5], [0, 1, 2, 3, 4]) \n"
   ]
  },
  {
   "cell_type": "code",
   "execution_count": 35,
   "id": "9db5b9ac-76fe-42c9-8f01-489829ad86e7",
   "metadata": {},
   "outputs": [
    {
     "data": {
      "text/plain": [
       "False"
      ]
     },
     "execution_count": 35,
     "metadata": {},
     "output_type": "execute_result"
    }
   ],
   "source": [
    "simon_says([1, 2, 3, 4, 5], [5, 5, 1, 2, 3]) "
   ]
  },
  {
   "cell_type": "raw",
   "id": "33b6b5b1-2779-4fb9-9a32-286c7fd3d268",
   "metadata": {},
   "source": [
    "Question3\n",
    "A group of friends have decided to start a secret society. The name will be the first letter of\n",
    "each of their names, sorted in alphabetical order.\n",
    "Create a function that takes in a list of names and returns the name of the secret society.\n",
    "\n",
    "Examples\n",
    "society_name([&quot;Adam&quot;, &quot;Sarah&quot;, &quot;Malcolm&quot;]) ➞ &quot;AMS&quot;\n",
    "society_name([&quot;Harry&quot;, &quot;Newt&quot;, &quot;Luna&quot;, &quot;Cho&quot;]) ➞ &quot;CHLN&quot;\n",
    "society_name([&quot;Phoebe&quot;, &quot;Chandler&quot;, &quot;Rachel&quot;, &quot;Ross&quot;, &quot;Monica&quot;, &quot;Joey&quot;])"
   ]
  },
  {
   "cell_type": "code",
   "execution_count": 43,
   "id": "ac6538f3-a958-405a-a80d-86c69dca146b",
   "metadata": {},
   "outputs": [
    {
     "name": "stdout",
     "output_type": "stream",
     "text": [
      "AMS\n",
      "CHLN\n",
      "CJMPRR\n"
     ]
    }
   ],
   "source": [
    "def names(lst):\n",
    "    secret=''.join([i[0] for i in sorted(lst)])\n",
    "    return secret\n",
    "print(names([\"Adam\",\"Sarah\",\"Malcolm\"]))\n",
    "print(names([\"Harry\",\"Newt\",\"Cho\",\"Luna\"]))\n",
    "print(names([\"Phoebe\",\"Chandler\",\"Rachel\",\"Ross\",\"Monica\",\"Joey\"]))"
   ]
  },
  {
   "cell_type": "raw",
   "id": "59111c50-7248-4a68-9042-94107804cc95",
   "metadata": {},
   "source": [
    "Question4\n",
    "An isogram is a word that has no duplicate letters. Create a function that takes a string and\n",
    "returns either True or False depending on whether or not it&#39;s an &quot;isogram&quot;.\n",
    "Examples\n",
    "is_isogram(&quot;Algorism&quot;) ➞ True\n",
    "is_isogram(&quot;PasSword&quot;) ➞ False\n",
    "# Not case sensitive.\n",
    "is_isogram(&quot;Consecutive&quot;) ➞ False\n",
    "Notes\n",
    " Ignore letter case (should not be case sensitive).\n",
    " All test cases contain valid one word strings."
   ]
  },
  {
   "cell_type": "code",
   "execution_count": 15,
   "id": "2f840793-3ec4-44fc-b819-6ca0677baadd",
   "metadata": {},
   "outputs": [
    {
     "name": "stdout",
     "output_type": "stream",
     "text": [
      "True\n",
      "False\n",
      "False\n"
     ]
    }
   ],
   "source": [
    "def isogram(lst):\n",
    "    lst=lst.lower()\n",
    "    lst1=[]\n",
    "    for i in lst:\n",
    "        if i.isalpha():\n",
    "            if i in lst1:\n",
    "                return False\n",
    "            lst1.append(i)\n",
    "    return True\n",
    "\n",
    "print(isogram(\"Algorism\"))\n",
    "print(isogram(\"pasSword\"))\n",
    "print(isogram(\"Consecutive\"))\n"
   ]
  },
  {
   "cell_type": "raw",
   "id": "8e8f90d9-c656-4a6f-9e5a-acf4ba347cad",
   "metadata": {},
   "source": [
    "Question5\n",
    "Create a function that takes a string and returns True or False, depending on whether the\n",
    "characters are in order or not.\n",
    "Examples\n",
    "is_in_order(&quot;abc&quot;) ➞ True\n",
    "is_in_order(&quot;edabit&quot;) ➞ False\n",
    "is_in_order(&quot;123&quot;) ➞ True\n",
    "is_in_order(&quot;xyzz&quot;) ➞ True\n",
    "Notes\n",
    "You don&#39;t have to handle empty strings."
   ]
  },
  {
   "cell_type": "code",
   "execution_count": 15,
   "id": "6db4a3bf-c7c6-4440-ac4f-1a039794e4cf",
   "metadata": {},
   "outputs": [
    {
     "name": "stdout",
     "output_type": "stream",
     "text": [
      "True\n",
      "False\n",
      "True\n",
      "True\n"
     ]
    }
   ],
   "source": [
    "def order(lst):\n",
    "    lst1=''.join(sorted(lst))\n",
    "    if lst==lst1:\n",
    "        return True\n",
    "    return False\n",
    "    \n",
    "\n",
    "print(order(\"abc\"))\n",
    "print(order(\"edabit\"))\n",
    "print(order(\"123\"))\n",
    "print(order(\"xyzz\"))"
   ]
  },
  {
   "cell_type": "code",
   "execution_count": null,
   "id": "8230de29-22b4-46e5-ab0a-d0c156fae7fa",
   "metadata": {},
   "outputs": [],
   "source": []
  }
 ],
 "metadata": {
  "kernelspec": {
   "display_name": "Python 3 (ipykernel)",
   "language": "python",
   "name": "python3"
  },
  "language_info": {
   "codemirror_mode": {
    "name": "ipython",
    "version": 3
   },
   "file_extension": ".py",
   "mimetype": "text/x-python",
   "name": "python",
   "nbconvert_exporter": "python",
   "pygments_lexer": "ipython3",
   "version": "3.10.6"
  }
 },
 "nbformat": 4,
 "nbformat_minor": 5
}
