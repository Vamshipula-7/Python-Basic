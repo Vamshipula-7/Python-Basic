{
 "cells": [
  {
   "cell_type": "markdown",
   "id": "69b03a1a-649f-4bf4-9220-41f6461af681",
   "metadata": {},
   "source": [
    "1. Write a Python program to convert kilometers to miles?"
   ]
  },
  {
   "cell_type": "code",
   "execution_count": 1,
   "id": "d2fe3a05-b504-4883-b7b3-94c82d434799",
   "metadata": {},
   "outputs": [
    {
     "name": "stdin",
     "output_type": "stream",
     "text": [
      " 10\n"
     ]
    },
    {
     "name": "stdout",
     "output_type": "stream",
     "text": [
      "miles :  6.21371\n"
     ]
    }
   ],
   "source": [
    "Km=int(input())\n",
    "print(\"miles : \",Km*0.621371)"
   ]
  },
  {
   "cell_type": "markdown",
   "id": "ea84b2be-d829-4c5b-9e1e-61843b2c0c6a",
   "metadata": {},
   "source": [
    "2. Write a Python program to convert Celsius to Fahrenheit?"
   ]
  },
  {
   "cell_type": "code",
   "execution_count": 2,
   "id": "4cbb34a7-ea63-4eb2-9e02-84db610cc882",
   "metadata": {},
   "outputs": [
    {
     "name": "stdin",
     "output_type": "stream",
     "text": [
      " 12\n"
     ]
    },
    {
     "name": "stdout",
     "output_type": "stream",
     "text": [
      "farenheit :  53.6\n"
     ]
    }
   ],
   "source": [
    "celcius=float(input())\n",
    "print(\"farenheit : \",celcius*1.8+32)"
   ]
  },
  {
   "cell_type": "markdown",
   "id": "e200724d-a9d5-489c-8d24-1135f859be2b",
   "metadata": {},
   "source": [
    "3. Write a Python program to display calendar?"
   ]
  },
  {
   "cell_type": "code",
   "execution_count": 3,
   "id": "0dc7fb71-e30a-4016-b100-e2e26c3e9728",
   "metadata": {},
   "outputs": [
    {
     "name": "stdin",
     "output_type": "stream",
     "text": [
      " 1998\n",
      " 05\n"
     ]
    },
    {
     "name": "stdout",
     "output_type": "stream",
     "text": [
      "      May 1998\n",
      "Mo Tu We Th Fr Sa Su\n",
      "             1  2  3\n",
      " 4  5  6  7  8  9 10\n",
      "11 12 13 14 15 16 17\n",
      "18 19 20 21 22 23 24\n",
      "25 26 27 28 29 30 31\n",
      "\n"
     ]
    }
   ],
   "source": [
    "import calendar\n",
    "yy=int(input())\n",
    "mm=int(input())\n",
    "\n",
    "print(calendar.month(yy,mm))"
   ]
  },
  {
   "cell_type": "markdown",
   "id": "845cb296-0a57-4b97-8138-8a5240ca05e4",
   "metadata": {},
   "source": [
    "4. Write a Python program to solve quadratic equation?"
   ]
  },
  {
   "cell_type": "code",
   "execution_count": 1,
   "id": "fda12084-a243-43ca-a6ea-9c86d2535020",
   "metadata": {},
   "outputs": [
    {
     "name": "stdout",
     "output_type": "stream",
     "text": [
      "Formula:- ax**2+bx+c=0\n"
     ]
    },
    {
     "name": "stdin",
     "output_type": "stream",
     "text": [
      "Enter a(a!=0):  1\n",
      "Enter b:  5\n",
      "Enter c:  6\n"
     ]
    },
    {
     "name": "stdout",
     "output_type": "stream",
     "text": [
      "d:  1\n",
      "Type of Roots: Two Distinct Real Roots\n",
      "The solutions are (-3+0j) and (-2+0j)\n"
     ]
    }
   ],
   "source": [
    "import cmath\n",
    "print(\"Formula:- ax**2+bx+c=0\")\n",
    "\n",
    "a=int(input(\"Enter a(a!=0): \"))\n",
    "b=int(input(\"Enter b: \"))\n",
    "c=int(input(\"Enter c: \"))\n",
    "\n",
    "d=(b**2)-(4*a*c)\n",
    "print(\"d: \",d)\n",
    "\n",
    "sol1= (-b-cmath.sqrt(d))/(2*a)\n",
    "sol2 = (-b+cmath.sqrt(d))/(2*a)\n",
    "\n",
    "if d>0:\n",
    "      print(\"Type of Roots: Two Distinct Real Roots\")\n",
    "elif d==0:\n",
    "      print(\"Type of Roots: Two Equal roots\")\n",
    "else:\n",
    "      print(\"Type of Roots: Two Complex Roots\")\n",
    "      \n",
    "print(f\"The solutions are {sol1} and {sol2}\")"
   ]
  },
  {
   "cell_type": "markdown",
   "id": "991290c0-032e-4556-b83c-c315eaffd2e8",
   "metadata": {},
   "source": [
    "5. Write a Python program to swap two variables without temp variable?"
   ]
  },
  {
   "cell_type": "code",
   "execution_count": 3,
   "id": "569c9ad8-d6f3-4542-8aed-6a26c9e93341",
   "metadata": {},
   "outputs": [
    {
     "name": "stdin",
     "output_type": "stream",
     "text": [
      " 45\n",
      " 12\n"
     ]
    },
    {
     "name": "stdout",
     "output_type": "stream",
     "text": [
      "Before Swapping a :  45\n",
      "Before Swapping b :  12\n",
      "After Swapping a :  12\n",
      "After Swapping b :  45\n"
     ]
    }
   ],
   "source": [
    "a=int(input())\n",
    "b=int(input())\n",
    "print(\"Before Swapping a : \",a)\n",
    "print(\"Before Swapping b : \",b)\n",
    "a,b=b,a\n",
    "print(\"After Swapping a : \",a)\n",
    "print(\"After Swapping b : \",b)\n"
   ]
  },
  {
   "cell_type": "code",
   "execution_count": null,
   "id": "a68ea7f7-b5fb-4546-8fc7-1047282bd2c4",
   "metadata": {},
   "outputs": [],
   "source": []
  }
 ],
 "metadata": {
  "kernelspec": {
   "display_name": "Python 3 (ipykernel)",
   "language": "python",
   "name": "python3"
  },
  "language_info": {
   "codemirror_mode": {
    "name": "ipython",
    "version": 3
   },
   "file_extension": ".py",
   "mimetype": "text/x-python",
   "name": "python",
   "nbconvert_exporter": "python",
   "pygments_lexer": "ipython3",
   "version": "3.10.6"
  }
 },
 "nbformat": 4,
 "nbformat_minor": 5
}
